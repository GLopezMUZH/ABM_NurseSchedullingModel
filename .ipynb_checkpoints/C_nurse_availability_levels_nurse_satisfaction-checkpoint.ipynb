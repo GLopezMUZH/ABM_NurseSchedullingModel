{
 "cells": [
  {
   "cell_type": "markdown",
   "metadata": {},
   "source": [
    "# Cases for Nurse Availability Levels with different Utility Functions"
   ]
  },
  {
   "cell_type": "markdown",
   "metadata": {},
   "source": [
    "Task:\n",
    "\n",
    "    Evaluate Shift Coverage, Agent Satisfaction and Agent Productivity over changes in nurse availability"
   ]
  },
  {
   "cell_type": "code",
   "execution_count": 1,
   "metadata": {},
   "outputs": [],
   "source": [
    "import abm_scheduling\n",
    "from abm_scheduling import Schedule as Schedule\n",
    "from abm_scheduling import Nurse as Nurse"
   ]
  },
  {
   "cell_type": "code",
   "execution_count": 2,
   "metadata": {},
   "outputs": [],
   "source": [
    "import time\n",
    "from datetime import datetime\n",
    "\n",
    "import abm_scheduling.Log\n",
    "from abm_scheduling.Log import Log as Log\n",
    "\n",
    "import matplotlib.pylab as plt\n",
    "%matplotlib inline\n",
    "\n",
    "log = Log()"
   ]
  },
  {
   "cell_type": "markdown",
   "metadata": {},
   "source": [
    "## Shift coverage on number of nurses"
   ]
  },
  {
   "cell_type": "code",
   "execution_count": 6,
   "metadata": {},
   "outputs": [],
   "source": [
    "beta = 0.8\n",
    "p_to_accept_negative_change = .001\n",
    "degree_of_agent_availability = 0.7\n",
    "min_number_of_runs_with_shift_coverage_1 = 3\n",
    "works_weekends = True\n",
    "num_nurses_per_shift = 5"
   ]
  },
  {
   "cell_type": "code",
   "execution_count": 7,
   "metadata": {},
   "outputs": [],
   "source": [
    "number_of_runs_with_shift_coverage_1 = 0\n",
    "nurses = []\n",
    "run_results_SC_over_NN_default_UF = []\n",
    "run_results_SC_over_NN_AS_UF = []\n",
    "\n",
    "schedule = Schedule(num_nurses_needed=num_nurses_per_shift, is_random=True)\n",
    "model = abm_scheduling.NSP_AB_Model()\n"
   ]
  },
  {
   "cell_type": "code",
   "execution_count": null,
   "metadata": {},
   "outputs": [],
   "source": [
    "# run model with default utility function\n",
    "num_nurses_D_UF = 0\n",
    "while number_of_runs_with_shift_coverage_1 < min_number_of_runs_with_shift_coverage_1:\n",
    "    nurse = Nurse(id_name=num_nurses)\n",
    "    nurse.generate_shift_preferences(degree_of_agent_availability=0.7, works_weekends=True)\n",
    "    nurses.append(nurse)\n",
    "    num_nurses_D_UF += 1\n",
    "    \n",
    "    results = model.run(schedule_org=schedule,\n",
    "                       nurses_org=nurses,\n",
    "                       p_to_accept_negative_change=p_to_accept_negative_change,\n",
    "                       utility_function_parameters=None,\n",
    "                       print_stats=False)\n",
    "    run_results_SC_over_NN_default_UF.append(results)\n",
    "\n",
    "    if results.shift_coverage >= 1:\n",
    "        number_of_runs_with_shift_coverage_1 += 1"
   ]
  },
  {
   "cell_type": "code",
   "execution_count": null,
   "metadata": {},
   "outputs": [],
   "source": [
    "# run model with agetn satisfaction utility function\n",
    "utility_function_parameters = abm_scheduling.Utility_Function_Parameters()\n",
    "utility_function_parameters.utility_function = 'agent_satisfaction'\n",
    "num_nurses_AS_UF = 0\n",
    "number_of_runs_with_shift_coverage_1 = 0\n",
    "    \n",
    "while number_of_runs_with_shift_coverage_1 < min_number_of_runs_with_shift_coverage_1:\n",
    "    nurse = Nurse(id_name=num_nurses)\n",
    "    nurse.generate_shift_preferences(degree_of_agent_availability=0.7, works_weekends=True)\n",
    "    nurses.append(nurse)\n",
    "    num_nurses_AS_UF += 1\n",
    "    \n",
    "    results = model.run(schedule_org=schedule,\n",
    "                       nurses_org=nurses,\n",
    "                       p_to_accept_negative_change=p_to_accept_negative_change,\n",
    "                       utility_function_parameters = utility_function_parameters,\n",
    "                       print_stats=False)\n",
    "    run_results_SC_over_NN_AS_UF.append(results)\n",
    "\n",
    "    if results.shift_coverage >= 1:\n",
    "        number_of_runs_with_shift_coverage_1 += 1"
   ]
  },
  {
   "cell_type": "code",
   "execution_count": null,
   "metadata": {},
   "outputs": [],
   "source": [
    "plt.figure()\n",
    "plt.plot(range(num_nurses_D_UF), [r.shift_coverage for r in run_results_SC_over_NN_default_UF], label=\"Default Util.function\")\n",
    "plt.plot(range(num_nurses), [r.shift_coverage for r in run_results_SC_over_NN_AS_UF], label=\"A.Satisf.Util.function\")\n",
    "plt.title(f'Shift coverage as a function of number of nurses', y=1.15, fontsize=14)\n",
    "plt.suptitle(f'Av:0.7, WW = True', y=1.0)\n",
    "plt.xlabel(\"Number of nurses\")\n",
    "plt.ylabel(\"Shift Coverage\")\n",
    "plt.legend()\n",
    "plt.show()"
   ]
  },
  {
   "cell_type": "code",
   "execution_count": null,
   "metadata": {},
   "outputs": [],
   "source": [
    "print(run_results_1[19].shift_coverage)\n",
    "print(run_results_1[20].shift_coverage)\n",
    "print(run_results_1[21].shift_coverage)"
   ]
  },
  {
   "cell_type": "code",
   "execution_count": null,
   "metadata": {},
   "outputs": [],
   "source": [
    "plt.figure()\n",
    "plt.plot(range(num_nurses), [r.total_agent_satisfaction for r in run_results_1], label=\"Agent Satisfaction\")\n",
    "plt.title(f'Agent satisfaction as a function of Number of nurses')\n",
    "plt.xlabel(\"Number of nurses\")\n",
    "plt.ylabel(\"Agent Satisfaction\")\n",
    "plt.legend()\n",
    "plt.show()"
   ]
  },
  {
   "cell_type": "code",
   "execution_count": null,
   "metadata": {},
   "outputs": [],
   "source": [
    "detail_productivity_over_nr_nurses = []\n",
    "avg_productivity_over_nr_nurses = []\n",
    "for r in run_results_1:\n",
    "    data = []\n",
    "    for nurse in r.nurses:\n",
    "        assigned_shifts = len(nurse.shifts)\n",
    "        data.append(assigned_shifts/ nurse.minimum_shifts)\n",
    "    detail_productivity_over_nr_nurses.append(data)\n",
    "    avg_productivity_over_nr_nurses.append(sum(data)/len(data))"
   ]
  },
  {
   "cell_type": "code",
   "execution_count": null,
   "metadata": {},
   "outputs": [],
   "source": [
    "plt.figure()\n",
    "plt.plot(range(num_nurses), avg_productivity_over_nr_nurses, label=\"Average productivity\")\n",
    "plt.title(f'Average nurse productivity (assigned_shifts/minimum_shifts)')\n",
    "plt.xlabel(\"Number of nurses\")\n",
    "plt.ylabel(\"Agent productivity\")\n",
    "plt.legend()\n",
    "plt.show()"
   ]
  },
  {
   "cell_type": "code",
   "execution_count": null,
   "metadata": {},
   "outputs": [],
   "source": [
    "plt.figure()\n",
    "w = plt.boxplot(detail_productivity_over_nr_nurses)\n",
    "plt.title(f'Nurse productivity (assigned_shifts/minimum_shifts)')\n",
    "plt.xlabel(\"Nurses availability\")\n",
    "plt.ylabel(\"Agent productivity\")\n",
    "plt.show()"
   ]
  },
  {
   "cell_type": "code",
   "execution_count": null,
   "metadata": {},
   "outputs": [],
   "source": [
    "print(avg_productivity_over_nr_nurses)"
   ]
  },
  {
   "cell_type": "markdown",
   "metadata": {},
   "source": [
    "## Shift coverage over nurse availability"
   ]
  },
  {
   "cell_type": "code",
   "execution_count": null,
   "metadata": {},
   "outputs": [],
   "source": [
    "beta = 0.8\n",
    "p_to_accept_negative_change = .001\n",
    "min_number_of_runs_with_shift_coverage_1 = 3\n",
    "works_weekends = True\n",
    "num_nurses_per_shift = 5"
   ]
  },
  {
   "cell_type": "code",
   "execution_count": null,
   "metadata": {},
   "outputs": [],
   "source": [
    "num_nurses = 22\n",
    "values_degree_of_agent_availability = [i * 0.1 for i in range(2, 10)]\n",
    "nurses = []\n",
    "run_results_2 = []\n",
    "\n",
    "schedule = Schedule(num_nurses_needed=num_nurses_per_shift, is_random=True)\n",
    "model = abm_scheduling.NSP_AB_Model()\n",
    "utility_function_parameters = abm_scheduling.Utility_Function_Parameters()\n",
    "utility_function_parameters.utility_function = 'agent_satisfaction'\n",
    "\n",
    "\n",
    "for degree_of_agent_availability in values_degree_of_agent_availability:\n",
    "\n",
    "    nurses = model.generate_nurses(num_nurses=num_nurses,\n",
    "                               degree_of_agent_availability=degree_of_agent_availability,\n",
    "                               works_weekends=works_weekends)\n",
    "\n",
    "    results = model.run(schedule_org=schedule,\n",
    "                       nurses_org=nurses,\n",
    "                       beta=beta,\n",
    "                       p_to_accept_negative_change=p_to_accept_negative_change,\n",
    "                       utility_function_parameters=utility_function_parameters,\n",
    "                       print_stats=False)\n",
    "    run_results_2.append(results)"
   ]
  },
  {
   "cell_type": "code",
   "execution_count": null,
   "metadata": {},
   "outputs": [],
   "source": [
    "plt.figure()\n",
    "plt.plot(values_degree_of_agent_availability, [r.shift_coverage for r in run_results_2], label=\"Shift Coverage\")\n",
    "plt.title(f'Shift coverage as a function of nurses availability')\n",
    "plt.xlabel(\"Nurses availability\")\n",
    "plt.ylabel(\"Shift Coverage\")\n",
    "plt.legend()\n",
    "plt.show()"
   ]
  },
  {
   "cell_type": "code",
   "execution_count": null,
   "metadata": {},
   "outputs": [],
   "source": [
    "plt.figure()\n",
    "plt.plot(values_degree_of_agent_availability, [r.total_agent_satisfaction for r in run_results_2], label=\"Agent Satisfaction\")\n",
    "plt.title(f'Agent satisfaction as a function of nurses availability')\n",
    "plt.xlabel(\"Nurses availability\")\n",
    "plt.ylabel(\"Agent Satisfaction\")\n",
    "plt.legend()\n",
    "plt.show()"
   ]
  },
  {
   "cell_type": "code",
   "execution_count": null,
   "metadata": {},
   "outputs": [],
   "source": [
    "detail_productivity_over_nr_nurses = []\n",
    "avg_productivity_over_nr_nurses = []\n",
    "for r in run_results_2:\n",
    "    data = []\n",
    "    for nurse in r.nurses:\n",
    "        assigned_shifts = len(nurse.shifts)\n",
    "        data.append(assigned_shifts/ nurse.minimum_shifts)\n",
    "    detail_productivity_over_nr_nurses.append(data)\n",
    "    avg_productivity_over_nr_nurses.append(sum(data)/len(data))"
   ]
  },
  {
   "cell_type": "code",
   "execution_count": null,
   "metadata": {},
   "outputs": [],
   "source": [
    "plt.figure()\n",
    "plt.plot(values_degree_of_agent_availability, avg_productivity_over_nr_nurses, label=\"Average productivity\")\n",
    "plt.title(f'Average nurse productivity (assigned_shifts/minimum_shifts)')\n",
    "plt.xlabel(\"Nurses availability\")\n",
    "plt.ylabel(\"Agent productivity\")\n",
    "plt.legend()\n",
    "plt.show()"
   ]
  },
  {
   "cell_type": "code",
   "execution_count": null,
   "metadata": {},
   "outputs": [],
   "source": [
    "plt.figure()\n",
    "w = plt.boxplot(detail_productivity_over_nr_nurses)\n",
    "plt.title(f'Nurse productivity (assigned_shifts/minimum_shifts)')\n",
    "plt.xlabel(\"Nurses availability\")\n",
    "plt.ylabel(\"Agent productivity\")\n",
    "ww = plt.xticks([i for i in range(1, 9)], [f'{i*0.1:1.2f}' for i in range(2, 10)])"
   ]
  },
  {
   "cell_type": "code",
   "execution_count": null,
   "metadata": {},
   "outputs": [],
   "source": [
    "print(avg_productivity_over_nr_nurses)"
   ]
  },
  {
   "cell_type": "code",
   "execution_count": null,
   "metadata": {},
   "outputs": [],
   "source": []
  }
 ],
 "metadata": {
  "kernelspec": {
   "display_name": "Python 3",
   "language": "python",
   "name": "python3"
  },
  "language_info": {
   "codemirror_mode": {
    "name": "ipython",
    "version": 3
   },
   "file_extension": ".py",
   "mimetype": "text/x-python",
   "name": "python",
   "nbconvert_exporter": "python",
   "pygments_lexer": "ipython3",
   "version": "3.6.8"
  }
 },
 "nbformat": 4,
 "nbformat_minor": 2
}
