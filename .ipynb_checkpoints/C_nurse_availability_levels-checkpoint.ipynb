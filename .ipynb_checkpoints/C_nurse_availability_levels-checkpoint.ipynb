{
 "cells": [
  {
   "cell_type": "markdown",
   "metadata": {},
   "source": [
    "Situation:\n",
    "\n",
    "    70% more agent availability on week days as weekends\n",
    "    Shift requirements normal distribution around 5 nurses/shift\n",
    "    Beta = 0.8\n",
    "\n",
    "Task:\n",
    "\n",
    "    Evaluate Shift Coverage over Nurse availability starting from 0 to 5times shift requirements\n"
   ]
  },
  {
   "cell_type": "code",
   "execution_count": 1,
   "metadata": {},
   "outputs": [],
   "source": [
    "import abm_scheduling\n",
    "from abm_scheduling import Schedule as Schedule\n",
    "from abm_scheduling import Nurse as Nurse"
   ]
  },
  {
   "cell_type": "code",
   "execution_count": 2,
   "metadata": {},
   "outputs": [],
   "source": [
    "import time\n",
    "from datetime import datetime\n",
    "\n",
    "import abm_scheduling.Log\n",
    "from abm_scheduling.Log import Log as Log\n",
    "\n",
    "import matplotlib.pylab as plt\n",
    "%matplotlib inline\n",
    "\n",
    "log = Log()"
   ]
  },
  {
   "cell_type": "markdown",
   "metadata": {},
   "source": [
    "## Nurse availability on number of nurses"
   ]
  },
  {
   "cell_type": "code",
   "execution_count": 4,
   "metadata": {},
   "outputs": [],
   "source": [
    "beta = 0.8\n",
    "p_to_accept_negative_change = .001\n",
    "degree_of_agent_availability = 0.7\n",
    "min_number_of_runs_with_shift_coverage_1 = 3\n",
    "number_of_runs_with_shift_coverage_1 = 0\n",
    "works_weekends = True\n",
    "num_nurses_per_shift = 5"
   ]
  },
  {
   "cell_type": "code",
   "execution_count": 6,
   "metadata": {},
   "outputs": [
    {
     "name": "stdout",
     "output_type": "stream",
     "text": [
      "Start:  2019-06-16 20:56:04.024160\n",
      "End:  2019-06-16 20:56:05.443713\n",
      "Elapsed time: 00:00:01\n",
      "Start:  2019-06-16 20:56:05.445698\n",
      "End:  2019-06-16 20:56:07.595363\n",
      "Elapsed time: 00:00:02\n",
      "Start:  2019-06-16 20:56:07.595860\n",
      "End:  2019-06-16 20:56:10.928036\n",
      "Elapsed time: 00:00:03\n",
      "Start:  2019-06-16 20:56:10.928735\n",
      "End:  2019-06-16 20:56:15.761315\n",
      "Elapsed time: 00:00:04\n",
      "Start:  2019-06-16 20:56:15.762023\n",
      "End:  2019-06-16 20:56:21.827661\n",
      "Elapsed time: 00:00:06\n",
      "Start:  2019-06-16 20:56:21.827661\n",
      "End:  2019-06-16 20:56:29.434519\n",
      "Elapsed time: 00:00:07\n",
      "Start:  2019-06-16 20:56:29.435476\n",
      "End:  2019-06-16 20:56:38.810871\n",
      "Elapsed time: 00:00:09\n",
      "Start:  2019-06-16 20:56:38.811366\n",
      "End:  2019-06-16 20:56:49.920828\n",
      "Elapsed time: 00:00:11\n",
      "Start:  2019-06-16 20:56:49.921292\n",
      "End:  2019-06-16 20:57:02.606034\n",
      "Elapsed time: 00:00:12\n",
      "Start:  2019-06-16 20:57:02.606534\n",
      "End:  2019-06-16 20:57:17.078500\n",
      "Elapsed time: 00:00:14\n",
      "Start:  2019-06-16 20:57:17.078988\n",
      "End:  2019-06-16 20:57:33.505526\n",
      "Elapsed time: 00:00:16\n",
      "Start:  2019-06-16 20:57:33.505526\n",
      "End:  2019-06-16 20:57:52.446287\n",
      "Elapsed time: 00:00:18\n",
      "Start:  2019-06-16 20:57:52.446784\n",
      "End:  2019-06-16 20:58:12.950443\n",
      "Elapsed time: 00:00:20\n",
      "Start:  2019-06-16 20:58:12.950443\n",
      "End:  2019-06-16 20:58:35.190094\n",
      "Elapsed time: 00:00:22\n",
      "Start:  2019-06-16 20:58:35.190588\n",
      "End:  2019-06-16 20:58:59.272310\n",
      "Elapsed time: 00:00:24\n",
      "Start:  2019-06-16 20:58:59.273269\n",
      "End:  2019-06-16 20:59:26.929237\n",
      "Elapsed time: 00:00:27\n",
      "Start:  2019-06-16 20:59:26.929733\n",
      "End:  2019-06-16 20:59:58.598526\n",
      "Elapsed time: 00:00:31\n",
      "Start:  2019-06-16 20:59:58.599022\n",
      "End:  2019-06-16 21:00:34.340342\n",
      "Elapsed time: 00:00:35\n",
      "Start:  2019-06-16 21:00:34.340800\n",
      "End:  2019-06-16 21:01:12.516254\n",
      "Elapsed time: 00:00:38\n",
      "Start:  2019-06-16 21:01:12.516712\n",
      "End:  2019-06-16 21:01:51.973589\n",
      "Elapsed time: 00:00:39\n",
      "Start:  2019-06-16 21:01:51.974032\n",
      "End:  2019-06-16 21:02:36.390189\n",
      "Elapsed time: 00:00:44\n",
      "Start:  2019-06-16 21:02:36.390694\n",
      "End:  2019-06-16 21:03:19.240603\n",
      "Elapsed time: 00:00:42\n",
      "Start:  2019-06-16 21:03:19.241101\n",
      "End:  2019-06-16 21:04:00.272722\n",
      "Elapsed time: 00:00:41\n",
      "Start:  2019-06-16 21:04:00.273218\n",
      "End:  2019-06-16 21:04:44.022169\n",
      "Elapsed time: 00:00:43\n"
     ]
    }
   ],
   "source": [
    "num_nurses = 0\n",
    "nurses = []\n",
    "run_results = []\n",
    "\n",
    "schedule = Schedule(num_nurses_needed=num_nurses_per_shift, is_random=True)\n",
    "model = abm_scheduling.NSP_AB_Model()\n",
    "\n",
    "    \n",
    "while number_of_runs_with_shift_coverage_1 < min_number_of_runs_with_shift_coverage_1:\n",
    "    nurse = Nurse(id_name=num_nurses)\n",
    "    nurse.generate_shift_preferences(degree_of_agent_availability=0.7, works_weekends=True)\n",
    "    nurses.append(nurse)\n",
    "    num_nurses += 1\n",
    "    \n",
    "    start_time = datetime.today()\n",
    "    \n",
    "    results = model.run(schedule_org=schedule,\n",
    "                       nurses_org=nurses,\n",
    "                       beta=beta,\n",
    "                       p_to_accept_negative_change=p_to_accept_negative_change,\n",
    "                       utility_function_parameters=None,\n",
    "                       print_stats=False)\n",
    "    run_results.append(results)\n",
    "\n",
    "    end_time = datetime.today()\n",
    "    log.print_elapsed_time(start_time,end_time)\n",
    "\n",
    "    if results.shift_coverage >= 1:\n",
    "        number_of_runs_with_shift_coverage_1 += 1"
   ]
  },
  {
   "cell_type": "code",
   "execution_count": 8,
   "metadata": {},
   "outputs": [
    {
     "data": {
      "image/png": "[encoded data removed]",
      "text/plain": [
       "<Figure size 432x288 with 1 Axes>"
      ]
     },
     "metadata": {
      "needs_background": "light"
     },
     "output_type": "display_data"
    }
   ],
   "source": [
    "plt.figure()\n",
    "plt.plot(range(num_nurses), [r.shift_coverage for r in run_results], label=\"Shift Coverage\")\n",
    "plt.title(f'Shift coverage as a function of number of nurses')\n",
    "plt.xlabel(\"Number of nurses\")\n",
    "plt.ylabel(\"Shift Coverage\")\n",
    "plt.legend()\n",
    "plt.show()"
   ]
  },
  {
   "cell_type": "code",
   "execution_count": null,
   "metadata": {},
   "outputs": [],
   "source": []
  }
 ],
 "metadata": {
  "kernelspec": {
   "display_name": "Python 3",
   "language": "python",
   "name": "python3"
  },
  "language_info": {
   "codemirror_mode": {
    "name": "ipython",
    "version": 3
   },
   "file_extension": ".py",
   "mimetype": "text/x-python",
   "name": "python",
   "nbconvert_exporter": "python",
   "pygments_lexer": "ipython3",
   "version": "3.6.8"
  }
 },
 "nbformat": 4,
 "nbformat_minor": 2
}
