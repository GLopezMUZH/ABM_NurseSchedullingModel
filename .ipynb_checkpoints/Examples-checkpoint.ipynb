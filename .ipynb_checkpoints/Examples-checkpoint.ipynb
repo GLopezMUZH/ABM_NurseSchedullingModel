{
 "cells": [
  {
   "cell_type": "code",
   "execution_count": 1,
   "metadata": {},
   "outputs": [],
   "source": [
    "import abm_scheduling\n",
    "from abm_scheduling import Schedule as Schedule\n",
    "from abm_scheduling import Nurse as Nurse"
   ]
  },
  {
   "cell_type": "markdown",
   "metadata": {},
   "source": [
    "## Schedule generation examples"
   ]
  },
  {
   "cell_type": "code",
   "execution_count": 2,
   "metadata": {},
   "outputs": [
    {
     "name": "stdout",
     "output_type": "stream",
     "text": [
      "Week's Schedule \n",
      "+---------+----------+----------+----------+----------+----------+----------+----------+\n",
      "|         | Mo       | Tu       | We       | Th       | Fr       | Sa       | So       |\n",
      "+---------+----------+----------+----------+----------+----------+----------+----------+\n",
      "| shift 1 | need: 3  | need: 3  | need: 3  | need: 3  | need: 3  | need: 3  | need: 3  |\n",
      "|         | nurses:  | nurses:  | nurses:  | nurses:  | nurses:  | nurses:  | nurses:  |\n",
      "| shift 2 | need: 3  | need: 3  | need: 3  | need: 3  | need: 3  | need: 3  | need: 3  |\n",
      "|         | nurses:  | nurses:  | nurses:  | nurses:  | nurses:  | nurses:  | nurses:  |\n",
      "| shift 3 | need: 3  | need: 3  | need: 3  | need: 3  | need: 3  | need: 3  | need: 3  |\n",
      "|         | nurses:  | nurses:  | nurses:  | nurses:  | nurses:  | nurses:  | nurses:  |\n",
      "+---------+----------+----------+----------+----------+----------+----------+----------+\n"
     ]
    }
   ],
   "source": [
    "# --example schedules--\n",
    "schedule_fixed = Schedule(num_nurses_needed=3)\n",
    "schedule_fixed.print_schedule()"
   ]
  },
  {
   "cell_type": "code",
   "execution_count": 3,
   "metadata": {},
   "outputs": [
    {
     "name": "stdout",
     "output_type": "stream",
     "text": [
      "Week's Schedule \n",
      "+---------+----------+----------+----------+----------+----------+----------+----------+\n",
      "|         | Mo       | Tu       | We       | Th       | Fr       | Sa       | So       |\n",
      "+---------+----------+----------+----------+----------+----------+----------+----------+\n",
      "| shift 1 | need: 0  | need: 0  | need: 3  | need: 3  | need: 1  | need: 3  | need: 3  |\n",
      "|         | nurses:  | nurses:  | nurses:  | nurses:  | nurses:  | nurses:  | nurses:  |\n",
      "| shift 2 | need: 3  | need: 2  | need: 0  | need: 3  | need: 1  | need: 1  | need: 1  |\n",
      "|         | nurses:  | nurses:  | nurses:  | nurses:  | nurses:  | nurses:  | nurses:  |\n",
      "| shift 3 | need: 0  | need: 3  | need: 2  | need: 2  | need: 3  | need: 2  | need: 0  |\n",
      "|         | nurses:  | nurses:  | nurses:  | nurses:  | nurses:  | nurses:  | nurses:  |\n",
      "+---------+----------+----------+----------+----------+----------+----------+----------+\n"
     ]
    }
   ],
   "source": [
    "schedule_random = Schedule(num_nurses_needed=3, is_random=True)\n",
    "schedule_random.print_schedule()\n",
    "\n"
   ]
  },
  {
   "cell_type": "code",
   "execution_count": 4,
   "metadata": {},
   "outputs": [
    {
     "name": "stdout",
     "output_type": "stream",
     "text": [
      "Week's Schedule \n",
      "+---------+----------+----------+----------+----------+----------+----------+----------+\n",
      "|         | Mo       | Tu       | We       | Th       | Fr       | Sa       | So       |\n",
      "+---------+----------+----------+----------+----------+----------+----------+----------+\n",
      "| shift 1 | need: 5  | need: 4  | need: 4  | need: 4  | need: 5  | need: 6  | need: 7  |\n",
      "|         | nurses:  | nurses:  | nurses:  | nurses:  | nurses:  | nurses:  | nurses:  |\n",
      "| shift 2 | need: 8  | need: 7  | need: 7  | need: 7  | need: 7  | need: 7  | need: 5  |\n",
      "|         | nurses:  | nurses:  | nurses:  | nurses:  | nurses:  | nurses:  | nurses:  |\n",
      "| shift 3 | need: 5  | need: 4  | need: 4  | need: 5  | need: 7  | need: 8  | need: 5  |\n",
      "|         | nurses:  | nurses:  | nurses:  | nurses:  | nurses:  | nurses:  | nurses:  |\n",
      "+---------+----------+----------+----------+----------+----------+----------+----------+\n"
     ]
    }
   ],
   "source": [
    "# Mo 1,2,3, Tu 1,2,3, We...\n",
    "matrix_nurses_needed = [5,8,5, 4,7,4, 4,7,4, 4,7,5, 5,7,7, 6,7,8, 7,5,5]\n",
    "schedule_random = Schedule(matrix_nurses_needed=matrix_nurses_needed, is_random=False)\n",
    "schedule_random.print_schedule()"
   ]
  },
  {
   "cell_type": "markdown",
   "metadata": {},
   "source": [
    "## Nurse generation examples "
   ]
  },
  {
   "cell_type": "code",
   "execution_count": 5,
   "metadata": {},
   "outputs": [
    {
     "name": "stdout",
     "output_type": "stream",
     "text": [
      "Nurse 0's Preferences. Availability: (1)\n",
      "+---------+----+----+----+----+----+----+----+\n",
      "|         | Mo | Tu | We | Th | Fr | Sa | So |\n",
      "+---------+----+----+----+----+----+----+----+\n",
      "| shift 1 | x  | x  | x  | x  | x  |    |    |\n",
      "| shift 2 | x  | x  | x  | x  | x  |    |    |\n",
      "| shift 3 | x  | x  | x  | x  | x  |    |    |\n",
      "+---------+----+----+----+----+----+----+----+\n"
     ]
    }
   ],
   "source": [
    "# --example nurses--\n",
    "# full time, no weekends\n",
    "nurse = Nurse(id_name=0)\n",
    "nurse.generate_shift_preferences(degree_of_agent_availability=1, works_weekends=False)\n",
    "nurse.print_shift_preferences()\n"
   ]
  },
  {
   "cell_type": "code",
   "execution_count": 6,
   "metadata": {},
   "outputs": [
    {
     "name": "stdout",
     "output_type": "stream",
     "text": [
      "Nurse 1's Preferences. Availability: (1)\n",
      "+---------+----+----+----+----+----+----+----+\n",
      "|         | Mo | Tu | We | Th | Fr | Sa | So |\n",
      "+---------+----+----+----+----+----+----+----+\n",
      "| shift 1 | x  | x  | x  | x  | x  | x  | x  |\n",
      "| shift 2 | x  | x  | x  | x  | x  | x  | x  |\n",
      "| shift 3 | x  | x  | x  | x  | x  | x  | x  |\n",
      "+---------+----+----+----+----+----+----+----+\n",
      "Nurse 2's Preferences. Availability: (0.78)\n",
      "+---------+----+----+----+----+----+----+----+\n",
      "|         | Mo | Tu | We | Th | Fr | Sa | So |\n",
      "+---------+----+----+----+----+----+----+----+\n",
      "| shift 1 | x  | x  | x  | x  | x  |    |    |\n",
      "| shift 2 | x  | x  |    | x  | x  |    |    |\n",
      "| shift 3 | x  | x  |    | x  | x  |    |    |\n",
      "+---------+----+----+----+----+----+----+----+\n",
      "Nurse 3's Preferences. Availability: (0.5)\n",
      "+---------+----+----+----+----+----+----+----+\n",
      "|         | Mo | Tu | We | Th | Fr | Sa | So |\n",
      "+---------+----+----+----+----+----+----+----+\n",
      "| shift 1 |    | x  | x  | x  |    | x  | x  |\n",
      "| shift 2 |    | x  | x  | x  | x  |    |    |\n",
      "| shift 3 | x  |    | x  |    | x  |    |    |\n",
      "+---------+----+----+----+----+----+----+----+\n"
     ]
    }
   ],
   "source": [
    "# full time, weekends\n",
    "nurse = Nurse(id_name=1)\n",
    "nurse.generate_shift_preferences(degree_of_agent_availability=1, works_weekends=True)\n",
    "nurse.print_shift_preferences()\n",
    "\n",
    "# part time, no weekends\n",
    "nurse = Nurse(id_name=2)\n",
    "nurse.generate_shift_preferences(degree_of_agent_availability=0.78, works_weekends=False)\n",
    "nurse.print_shift_preferences()\n",
    "\n",
    "# part time, weekends\n",
    "nurse = Nurse(id_name=3)\n",
    "nurse.generate_shift_preferences(degree_of_agent_availability=0.5, works_weekends=True)\n",
    "nurse.print_shift_preferences()\n",
    "\n",
    "# --example generating nurses--\n",
    "# generate 10 nurses that work 50% and on weekends\n",
    "nurses = []\n",
    "num_nurses = 10\n",
    "for n in range(num_nurses):\n",
    "    nurse = Nurse(id_name=n)\n",
    "    nurse.generate_shift_preferences(degree_of_agent_availability=0.5, works_weekends=True)\n",
    "    nurses.append(nurse)\n"
   ]
  },
  {
   "cell_type": "code",
   "execution_count": 7,
   "metadata": {},
   "outputs": [
    {
     "name": "stdout",
     "output_type": "stream",
     "text": [
      "Nurse 5's Preferences. Availability: (0.476)\n",
      "+---------+----+----+----+----+----+----+----+\n",
      "|         | Mo | Tu | We | Th | Fr | Sa | So |\n",
      "+---------+----+----+----+----+----+----+----+\n",
      "| shift 1 | x  | x  | x  | x  | x  |    |    |\n",
      "| shift 2 | x  | x  | x  | x  | x  |    |    |\n",
      "| shift 3 |    |    |    |    |    |    |    |\n",
      "+---------+----+----+----+----+----+----+----+\n"
     ]
    }
   ],
   "source": [
    "# Mo 1,2,3, Tu 1,2,3, We...\n",
    "matrix_nurse_availability = ['x','x','', 'x','x','',  'x','x','', 'x','x','', 'x','x','', '','','', '','','']\n",
    "nurse = Nurse(id_name=5)\n",
    "nurse.assign_shift_preferences(matrix_nurse_availability=matrix_nurse_availability, minimum_shifts=5, maximum_shifts=5)\n",
    "nurse.print_shift_preferences()\n"
   ]
  },
  {
   "cell_type": "markdown",
   "metadata": {},
   "source": [
    "## Agent satisfaciton examples"
   ]
  },
  {
   "cell_type": "code",
   "execution_count": 8,
   "metadata": {},
   "outputs": [
    {
     "name": "stdout",
     "output_type": "stream",
     "text": [
      "Nurse 5's Preferences. Availability: (0.476)\n",
      "+---------+----+----+----+----+----+----+----+\n",
      "|         | Mo | Tu | We | Th | Fr | Sa | So |\n",
      "+---------+----+----+----+----+----+----+----+\n",
      "| shift 1 | x  | x  | x  | x  | x  |    |    |\n",
      "| shift 2 | x  | x  | x  | x  | x  |    |    |\n",
      "| shift 3 |    |    |    |    |    |    |    |\n",
      "+---------+----+----+----+----+----+----+----+\n",
      "Nurse 5's Assigned Shifts\n",
      "+---------+----+----+----+----+----+----+----+\n",
      "|         | Mo | Tu | We | Th | Fr | Sa | So |\n",
      "+---------+----+----+----+----+----+----+----+\n",
      "| shift 1 | 1  |    |    |    |    |    |    |\n",
      "| shift 2 | 1  |    |    |    |    |    |    |\n",
      "| shift 3 | 1  |    |    |    |    |    |    |\n",
      "+---------+----+----+----+----+----+----+----+\n",
      "Nurse satisfaction, function:  default :  -0.18033688011112042\n"
     ]
    }
   ],
   "source": [
    "# -- example agent satisfaction \n",
    "matrix_nurse_availability = ['x','x','', 'x','x','',  'x','x','', 'x','x','', 'x','x','', '','','', '','','']\n",
    "nurse = Nurse(id_name=5)\n",
    "nurse.assign_shift_preferences(matrix_nurse_availability=matrix_nurse_availability, minimum_shifts=5, maximum_shifts=5)\n",
    "nurse.print_shift_preferences()\n",
    "nurse.shifts.append(('Mo',1))#(shift.day, shift.shift_num)\n",
    "nurse.shifts.append(('Mo',2))#(shift.day, shift.shift_num)\n",
    "nurse.shifts.append(('Mo',3))#(shift.day, shift.shift_num)\n",
    "nurse.print_assigned_shifts()\n",
    "print(\"Nurse satisfaction, function: \", nurse.satisfaction_parameters.satisfaction_function, \": \", nurse.get_satisfaction())\n"
   ]
  },
  {
   "cell_type": "code",
   "execution_count": 22,
   "metadata": {},
   "outputs": [],
   "source": [
    "# -- example agent satisfaction \n",
    "matrix_nurse_availability = ['x','x','', 'x','x','',  'x','x','', 'x','x','', 'x','x','', '','','', '','','']\n",
    "nurse = Nurse(id_name=5)\n",
    "nurse.assign_shift_preferences(matrix_nurse_availability=matrix_nurse_availability, minimum_shifts=5, maximum_shifts=5)\n",
    "nurse.print_shift_preferences()\n",
    "nurse.shifts.append(('Mo',1))#(shift.day, shift.shift_num)\n",
    "nurse.shifts.append(('Mo',2))#(shift.day, shift.shift_num)\n",
    "nurse.shifts.append(('Tu',3))#(shift.day, shift.shift_num)\n",
    "nurse.shifts.append(('We',3))#(shift.day, shift.shift_num)\n",
    "nurse.shifts.append(('Fr',3))#(shift.day, shift.shift_num)\n",
    "nurse.print_assigned_shifts()\n",
    "print(\"Nurse satisfaction, function: \", nurse.satisfaction_parameters.satisfaction_function, \": \", nurse.get_satisfaction())\n"
   ]
  }
 ],
 "metadata": {
  "file_extension": ".py",
  "kernelspec": {
   "display_name": "Python 3",
   "language": "python",
   "name": "python3"
  },
  "language_info": {
   "codemirror_mode": {
    "name": "ipython",
    "version": 3
   },
   "file_extension": ".py",
   "mimetype": "text/x-python",
   "name": "python",
   "nbconvert_exporter": "python",
   "pygments_lexer": "ipython3",
   "version": "3.6.8"
  },
  "mimetype": "text/x-python",
  "name": "python",
  "npconvert_exporter": "python",
  "pygments_lexer": "ipython3",
  "version": 3
 },
 "nbformat": 4,
 "nbformat_minor": 2
}
