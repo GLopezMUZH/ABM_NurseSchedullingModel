{
 "cells": [
  {
   "cell_type": "markdown",
   "metadata": {},
   "source": [
    "# Case. Impact of Beta"
   ]
  },
  {
   "cell_type": "markdown",
   "metadata": {},
   "source": [
    "Situation: \n",
    "- 70% more agent availability on week days as weekends\n",
    "- Shift requirements higher on Friday 3rd Shift (3S), Saturday 1S and 3S, Sunday 3S\n",
    "\n",
    "Task:\n",
    "- Evaluate Shift Coverage over Beta: [0.1,0.9]\n",
    "- Evaluate Agent Satisfaction over Beta: [0.1,0.9] using default function and shift stability function"
   ]
  },
  {
   "cell_type": "code",
   "execution_count": 1,
   "metadata": {},
   "outputs": [],
   "source": [
    "import abm_scheduling\n",
    "from abm_scheduling import Schedule as Schedule\n",
    "from abm_scheduling import Nurse as Nurse"
   ]
  },
  {
   "cell_type": "code",
   "execution_count": 2,
   "metadata": {},
   "outputs": [],
   "source": [
    "import time\n",
    "from datetime import datetime\n",
    "\n",
    "import abm_scheduling.Log\n",
    "from abm_scheduling.Log import Log as Log\n",
    "\n",
    "log = Log()"
   ]
  },
  {
   "cell_type": "markdown",
   "metadata": {},
   "source": [
    "## Define situation"
   ]
  },
  {
   "cell_type": "code",
   "execution_count": 3,
   "metadata": {},
   "outputs": [],
   "source": [
    "p_to_accept_negative_change = .001\n",
    "num_nurses_per_shift = 3\n",
    "num_nurses = 20\n",
    "degree_of_agent_availability = 0.7\n",
    "works_weekends = True"
   ]
  },
  {
   "cell_type": "code",
   "execution_count": 4,
   "metadata": {},
   "outputs": [
    {
     "name": "stdout",
     "output_type": "stream",
     "text": [
      "Week's Schedule Intial Situation\n",
      "+---------+----------+----------+----------+----------+----------+----------+----------+\n",
      "|         | Mo       | Tu       | We       | Th       | Fr       | Sa       | So       |\n",
      "+---------+----------+----------+----------+----------+----------+----------+----------+\n",
      "| shift 1 | need: 3  | need: 2  | need: 2  | need: 3  | need: 3  | need: 3  | need: 3  |\n",
      "|         | nurses:  | nurses:  | nurses:  | nurses:  | nurses:  | nurses:  | nurses:  |\n",
      "| shift 2 | need: 1  | need: 0  | need: 2  | need: 1  | need: 0  | need: 2  | need: 1  |\n",
      "|         | nurses:  | nurses:  | nurses:  | nurses:  | nurses:  | nurses:  | nurses:  |\n",
      "| shift 3 | need: 1  | need: 1  | need: 3  | need: 2  | need: 0  | need: 1  | need: 0  |\n",
      "|         | nurses:  | nurses:  | nurses:  | nurses:  | nurses:  | nurses:  | nurses:  |\n",
      "+---------+----------+----------+----------+----------+----------+----------+----------+\n"
     ]
    }
   ],
   "source": [
    "schedule = Schedule(num_nurses_needed=num_nurses_per_shift, is_random=True)\n",
    "model = abm_scheduling.NSP_AB_Model()\n",
    "nurses = model.generate_nurses(num_nurses=num_nurses,\n",
    "                               degree_of_agent_availability=degree_of_agent_availability,\n",
    "                               works_weekends=works_weekends)\n",
    "\n",
    "schedule.print_schedule(schedule_name=\"Intial Situation\")"
   ]
  },
  {
   "cell_type": "code",
   "execution_count": 5,
   "metadata": {},
   "outputs": [
    {
     "data": {
      "text/plain": [
       "-20000.0"
      ]
     },
     "execution_count": 5,
     "metadata": {},
     "output_type": "execute_result"
    }
   ],
   "source": [
    "model.get_total_agent_satisfaction(nurses)"
   ]
  },
  {
   "cell_type": "code",
   "execution_count": 6,
   "metadata": {},
   "outputs": [
    {
     "name": "stdout",
     "output_type": "stream",
     "text": [
      "Week's Schedule Hypothetical Maximum\n",
      "+---------+--------------+--------------+--------------+--------------+--------------+--------------+--------------+\n",
      "|         | Mo           | Tu           | We           | Th           | Fr           | Sa           | So           |\n",
      "+---------+--------------+--------------+--------------+--------------+--------------+--------------+--------------+\n",
      "| shift 1 | need: 3      | need: 2      | need: 2      | need: 3      | need: 3      | need: 3      | need: 3      |\n",
      "|         | nurses:      | nurses:      | nurses:      | nurses:      | nurses:      | nurses:      | nurses:      |\n",
      "|         | 0,4,7,8,     | 0,2,4,5,     | 2,3,5,6,     | 3,4,5,6,     | 0,2,3,4,     | 0,2,3,5,     | 0,1,2,3,     |\n",
      "|         | 9,10,11,12,  | 7,8,9,10,    | 7,8,9,10,    | 7,9,10,11,   | 5,7,8,9,     | 6,8,9,10,    | 4,6,7,8,     |\n",
      "|         | 14,15,16,17, | 12,13,14,15, | 11,12,13,17, | 12,13,14,15, | 10,11,12,13, | 12,13,14,15, | 9,10,11,13,  |\n",
      "|         | 18,19        | 16,18,19     | 18           | 17,19        | 18,19        | 16,17,18,19  | 14,15,17,18  |\n",
      "| shift 2 | need: 1      | need: 0      | need: 2      | need: 1      | need: 0      | need: 2      | need: 1      |\n",
      "|         | nurses:      | nurses:      | nurses:      | nurses:      | nurses:      | nurses:      | nurses:      |\n",
      "|         | 0,4,5,6,     | 0,1,2,3,     | 0,2,3,4,     | 0,1,3,4,     | 1,2,4,7,     | 0,1,2,3,     | 0,1,2,3,     |\n",
      "|         | 8,11,12,13,  | 7,9,10,12,   | 7,8,9,10,    | 5,6,7,8,     | 8,10,11,13,  | 5,6,7,8,     | 4,5,6,9,     |\n",
      "|         | 14,18,19     | 15,16,17     | 11,13,14,15, | 10,13,15,16, | 15,16,17     | 10,11,12,16, | 12,14,15,19  |\n",
      "|         |              |              | 16,17        | 17,19        |              | 18,19        |              |\n",
      "| shift 3 | need: 1      | need: 1      | need: 3      | need: 2      | need: 0      | need: 1      | need: 0      |\n",
      "|         | nurses:      | nurses:      | nurses:      | nurses:      | nurses:      | nurses:      | nurses:      |\n",
      "|         | 0,1,3,5,     | 0,1,2,3,     | 0,1,2,4,     | 0,1,2,3,     | 0,1,4,6,     | 0,2,3,4,     | 0,1,3,4,     |\n",
      "|         | 7,9,11,12,   | 4,5,6,8,     | 5,9,10,15,   | 4,5,6,7,     | 8,9,10,11,   | 8,10,11,12,  | 5,6,7,8,     |\n",
      "|         | 14,15,16,17, | 9,10,11,16,  | 16,17,19     | 8,9,12,13,   | 13,14,15,18, | 13,15,18,19  | 9,10,11,13,  |\n",
      "|         | 18,19        | 18,19        |              | 14,15,17,19  | 19           |              | 14,15,16,17, |\n",
      "|         |              |              |              |              |              |              | 18,19        |\n",
      "+---------+--------------+--------------+--------------+--------------+--------------+--------------+--------------+\n",
      "Crude hypothetical shift coverage: 1.0\n",
      "Shift Coverage Hypothetical Maximum\n",
      "+---------+------------+------------+------------+------------+------------+------------+------------+\n",
      "|         | Mo         | Tu         | We         | Th         | Fr         | Sa         | So         |\n",
      "+---------+------------+------------+------------+------------+------------+------------+------------+\n",
      "| shift 1 | need: 3    | need: 2    | need: 2    | need: 3    | need: 3    | need: 3    | need: 3    |\n",
      "|         | nurses: 14 | nurses: 15 | nurses: 13 | nurses: 14 | nurses: 14 | nurses: 16 | nurses: 16 |\n",
      "|         | (4.67)     | (7.5)      | (6.5)      | (4.67)     | (4.67)     | (5.33)     | (5.33)     |\n",
      "| shift 2 | need: 1    | need: 0    | need: 2    | need: 1    | need: 0    | need: 2    | need: 1    |\n",
      "|         | nurses: 11 | nurses: 11 | nurses: 14 | nurses: 14 | nurses: 11 | nurses: 14 | nurses: 12 |\n",
      "|         | (11)       | (11)       | (7)        | (14)       | (11)       | (7)        | (12)       |\n",
      "| shift 3 | need: 1    | need: 1    | need: 3    | need: 2    | need: 0    | need: 1    | need: 0    |\n",
      "|         | nurses: 14 | nurses: 14 | nurses: 11 | nurses: 16 | nurses: 13 | nurses: 12 | nurses: 18 |\n",
      "|         | (14)       | (14)       | (3.67)     | (8)        | (13)       | (12)       | (18)       |\n",
      "+---------+------------+------------+------------+------------+------------+------------+------------+\n"
     ]
    }
   ],
   "source": [
    "model.show_hypothetical_max_schedule(schedule=schedule, nurses=nurses)"
   ]
  },
  {
   "cell_type": "code",
   "execution_count": 9,
   "metadata": {},
   "outputs": [
    {
     "name": "stdout",
     "output_type": "stream",
     "text": [
      "16-06-19 16 50 46\n",
      "Week's Schedule Best Schedule. Beta: (0.9),p: (0.001)\n",
      "+---------+----------+----------+----------+----------+----------+----------+----------+\n",
      "|         | Mo       | Tu       | We       | Th       | Fr       | Sa       | So       |\n",
      "+---------+----------+----------+----------+----------+----------+----------+----------+\n",
      "| shift 1 | need: 3  | need: 2  | need: 2  | need: 3  | need: 3  | need: 3  | need: 3  |\n",
      "|         | nurses:  | nurses:  | nurses:  | nurses:  | nurses:  | nurses:  | nurses:  |\n",
      "|         | 8,16,11  | 12,16    | 7,13     | 13,3,7   | 18,4,11  | 8,15,6   | 1,10,7   |\n",
      "| shift 2 | need: 1  | need: 0  | need: 2  | need: 1  | need: 0  | need: 2  | need: 1  |\n",
      "|         | nurses:  | nurses:  | nurses:  | nurses:  | nurses:  | nurses:  | nurses:  |\n",
      "|         | 5        |          | 11,9     | 17       |          | 18,2     | 6        |\n",
      "| shift 3 | need: 1  | need: 1  | need: 3  | need: 2  | need: 0  | need: 1  | need: 0  |\n",
      "|         | nurses:  | nurses:  | nurses:  | nurses:  | nurses:  | nurses:  | nurses:  |\n",
      "|         | 14       | 5        | 0,16,4   | 6,14     |          | 19       |          |\n",
      "+---------+----------+----------+----------+----------+----------+----------+----------+\n",
      "Solution shift coverage: 1.0\n",
      "Solution utility:  306.0\n",
      "Agent satisfaction:  -3279.1748475287527\n",
      "16-06-19 16 51 21\n",
      "00:00:35\n"
     ]
    }
   ],
   "source": [
    "# Default utility function (no agent satisfaction)\n",
    "start_time = datetime.today()\n",
    "print(str(start_time.strftime(\"%d-%m-%y %H %M %S\")))\n",
    "\n",
    "results_B_09 = model.run(schedule_org=schedule,\n",
    "                         nurses_org=nurses,\n",
    "                         beta=0.9, \n",
    "                         p_to_accept_negative_change=p_to_accept_negative_change,\n",
    "                         utility_function_parameters=None)\n",
    "\n",
    "end_time = datetime.today()\n",
    "print(str(end_time.strftime(\"%d-%m-%y %H %M %S\")))\n",
    "log.print_elapsed_time(start_time,end_time)"
   ]
  },
  {
   "cell_type": "code",
   "execution_count": 12,
   "metadata": {},
   "outputs": [
    {
     "name": "stdout",
     "output_type": "stream",
     "text": [
      "Nurse productivity -  \n",
      "-- 0 ------------------------------- \n",
      "assigned:1,\tmin:6,\tmax: 15,\tdeg.availab:0.70,\tprod: 0.17,\tsatisf: 25.06\n",
      "-- 1 ------------------------------- \n",
      "assigned:0,\tmin:6,\tmax: 15,\tdeg.availab:0.70,\tprod: 0.00,\tsatisf: -1000.00\n",
      "-- 2 ------------------------------- \n",
      "assigned:1,\tmin:6,\tmax: 15,\tdeg.availab:0.70,\tprod: 0.17,\tsatisf: 25.06\n",
      "-- 3 ------------------------------- \n",
      "assigned:3,\tmin:6,\tmax: 15,\tdeg.availab:0.70,\tprod: 0.50,\tsatisf: 61.15\n",
      "-- 4 ------------------------------- \n",
      "assigned:0,\tmin:6,\tmax: 15,\tdeg.availab:0.70,\tprod: 0.00,\tsatisf: -1000.00\n",
      "-- 5 ------------------------------- \n",
      "assigned:0,\tmin:6,\tmax: 15,\tdeg.availab:0.70,\tprod: 0.00,\tsatisf: -1000.00\n",
      "-- 6 ------------------------------- \n",
      "assigned:2,\tmin:6,\tmax: 15,\tdeg.availab:0.70,\tprod: 0.33,\tsatisf: 45.11\n",
      "-- 7 ------------------------------- \n",
      "assigned:3,\tmin:6,\tmax: 15,\tdeg.availab:0.70,\tprod: 0.50,\tsatisf: 61.15\n",
      "-- 8 ------------------------------- \n",
      "assigned:3,\tmin:6,\tmax: 15,\tdeg.availab:0.70,\tprod: 0.50,\tsatisf: 61.15\n",
      "-- 9 ------------------------------- \n",
      "assigned:3,\tmin:6,\tmax: 15,\tdeg.availab:0.70,\tprod: 0.50,\tsatisf: 61.15\n",
      "-- 10 ------------------------------- \n",
      "assigned:2,\tmin:6,\tmax: 15,\tdeg.availab:0.70,\tprod: 0.33,\tsatisf: 45.11\n",
      "-- 11 ------------------------------- \n",
      "assigned:2,\tmin:6,\tmax: 15,\tdeg.availab:0.70,\tprod: 0.33,\tsatisf: 45.11\n",
      "-- 12 ------------------------------- \n",
      "assigned:2,\tmin:6,\tmax: 15,\tdeg.availab:0.70,\tprod: 0.33,\tsatisf: 45.11\n",
      "-- 13 ------------------------------- \n",
      "assigned:1,\tmin:6,\tmax: 15,\tdeg.availab:0.70,\tprod: 0.17,\tsatisf: 25.06\n",
      "-- 14 ------------------------------- \n",
      "assigned:0,\tmin:6,\tmax: 15,\tdeg.availab:0.70,\tprod: 0.00,\tsatisf: -1000.00\n",
      "-- 15 ------------------------------- \n",
      "assigned:1,\tmin:6,\tmax: 15,\tdeg.availab:0.70,\tprod: 0.17,\tsatisf: 25.06\n",
      "-- 16 ------------------------------- \n",
      "assigned:1,\tmin:6,\tmax: 15,\tdeg.availab:0.70,\tprod: 0.17,\tsatisf: 25.06\n",
      "-- 17 ------------------------------- \n",
      "assigned:1,\tmin:6,\tmax: 15,\tdeg.availab:0.70,\tprod: 0.17,\tsatisf: 25.06\n",
      "-- 18 ------------------------------- \n",
      "assigned:5,\tmin:6,\tmax: 15,\tdeg.availab:0.70,\tprod: 0.83,\tsatisf: 84.25\n",
      "-- 19 ------------------------------- \n",
      "assigned:3,\tmin:6,\tmax: 15,\tdeg.availab:0.70,\tprod: 0.50,\tsatisf: 61.15\n"
     ]
    }
   ],
   "source": [
    "model.print_nurse_productivity(results_B_09.nurses)"
   ]
  },
  {
   "cell_type": "code",
   "execution_count": null,
   "metadata": {},
   "outputs": [],
   "source": [
    "# Agent satisfaction utility function\n",
    "start_time = datetime.today()\n",
    "print(str(datetime.today().strftime(\"%d-%m-%y %H %M %S\")))\n",
    "utility_function_parameters = abm_scheduling.Utility_Function_Parameters()\n",
    "utility_function_parameters.utility_function = 'agent_satisfaction'\n",
    "\n",
    "results_B_09_AS = model.run(schedule=schedule,\n",
    "                            nurses=nurses,\n",
    "                            beta=0.9,\n",
    "                            p_to_accept_negative_change=p_to_accept_negative_change,\n",
    "                            utility_function_parameters=utility_function_parameters)\n",
    "\n",
    "end_time = datetime.today()\n",
    "print(str(end_time.strftime(\"%d-%m-%y %H %M %S\")))\n",
    "log.print_elapsed_time(start_time,end_time)"
   ]
  },
  {
   "cell_type": "code",
   "execution_count": null,
   "metadata": {},
   "outputs": [],
   "source": [
    "log.print_elapsed_time(start_time,end_time)"
   ]
  },
  {
   "cell_type": "code",
   "execution_count": null,
   "metadata": {},
   "outputs": [],
   "source": [
    "model.print_nurse_productivity(nurses)"
   ]
  }
 ],
 "metadata": {
  "kernelspec": {
   "display_name": "Python 3",
   "language": "python",
   "name": "python3"
  },
  "language_info": {
   "codemirror_mode": {
    "name": "ipython",
    "version": 3
   },
   "file_extension": ".py",
   "mimetype": "text/x-python",
   "name": "python",
   "nbconvert_exporter": "python",
   "pygments_lexer": "ipython3",
   "version": "3.6.3"
  }
 },
 "nbformat": 4,
 "nbformat_minor": 2
}
