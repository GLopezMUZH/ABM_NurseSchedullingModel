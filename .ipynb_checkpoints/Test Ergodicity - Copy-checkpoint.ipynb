{
 "cells": [
  {
   "cell_type": "markdown",
   "metadata": {},
   "source": [
    "# Test ergodicity"
   ]
  },
  {
   "cell_type": "code",
   "execution_count": 1,
   "metadata": {},
   "outputs": [],
   "source": [
    "import abm_scheduling\n",
    "from abm_scheduling import Schedule as Schedule\n",
    "from abm_scheduling import Nurse as Nurse"
   ]
  },
  {
   "cell_type": "code",
   "execution_count": 2,
   "metadata": {},
   "outputs": [],
   "source": [
    "import time\n",
    "from datetime import datetime\n",
    "\n",
    "def print_elapsed_time(start_time,end_time):\n",
    "    elapsed = end_time - start_time\n",
    "    seconds = elapsed.days*86400 + elapsed.seconds # drop microseconds\n",
    "    minutes, seconds = divmod(seconds, 60)\n",
    "    hours, minutes = divmod(minutes, 60)\n",
    "    print(\"{hours:02d}:{minutes:02d}:{seconds:02d}\".format(**vars()))"
   ]
  },
  {
   "cell_type": "code",
   "execution_count": 3,
   "metadata": {},
   "outputs": [
    {
     "name": "stdout",
     "output_type": "stream",
     "text": [
      "Week's Schedule Intial Situation\n",
      "+---------+----------+----------+----------+----------+----------+----------+----------+\n",
      "|         | Mo       | Tu       | We       | Th       | Fr       | Sa       | So       |\n",
      "+---------+----------+----------+----------+----------+----------+----------+----------+\n",
      "| shift 1 | need: 0  | need: 0  | need: 0  | need: 0  | need: 0  | need: 0  | need: 0  |\n",
      "|         | nurses:  | nurses:  | nurses:  | nurses:  | nurses:  | nurses:  | nurses:  |\n",
      "| shift 2 | need: 2  | need: 2  | need: 0  | need: 0  | need: 0  | need: 0  | need: 0  |\n",
      "|         | nurses:  | nurses:  | nurses:  | nurses:  | nurses:  | nurses:  | nurses:  |\n",
      "| shift 3 | need: 0  | need: 0  | need: 0  | need: 0  | need: 0  | need: 0  | need: 0  |\n",
      "|         | nurses:  | nurses:  | nurses:  | nurses:  | nurses:  | nurses:  | nurses:  |\n",
      "+---------+----------+----------+----------+----------+----------+----------+----------+\n"
     ]
    }
   ],
   "source": [
    "#%% Initializations\n",
    "p_to_accept_negative_change = .001\n",
    "matrix_nurses_needed = [0,2,0, 0,2,0, 0,0,0, 0,0,0, 0,0,0, 0,0,0, 0,0,0]\n",
    "#matrix_nurses_needed = [5,6,0, 5,6,0, 5,6,0, 5,6,0, 5,6,0, 5,6,0, 5,6,0]\n",
    "schedule = Schedule(matrix_nurses_needed=matrix_nurses_needed, is_random=False)\n",
    "\n",
    "# Situation definition\n",
    "matrix_nurses_needed = [5,6,0, 5,6,0, 5,6,0, 5,6,0, 5,6,0, 5,6,0, 5,6,0]\n",
    "#type 1 only first shift work week days\n",
    "matrix_nurse_availability_type1 = ['x','','', 'x','','',  'x','','', 'x','','', 'x','','', '','','', '','','']\n",
    "#type 2 1s+2s work week days\n",
    "matrix_nurse_availability_type2 = ['x','x','', 'x','x','',  'x','x','', 'x','x','', 'x','x','', '','','', '','','']\n",
    "#type 3 1s+2s+3s work week days\n",
    "matrix_nurse_availability_type3 = ['x','x','x', 'x','x','x',  'x','x','x', 'x','x','x', 'x','x','x', '','','', '','','']\n",
    "\n",
    "# Create model and nurses\n",
    "model = abm_scheduling.NSP_AB_Model()\n",
    "#nurses = model.generate_nurses(10, 0.5, True)\n",
    "list_nurse_schedules = []\n",
    "list_nurse_schedules.append(matrix_nurse_availability_type2)\n",
    "list_nurse_schedules.append(matrix_nurse_availability_type2)\n",
    "list_nurse_schedules.append(matrix_nurse_availability_type2)\n",
    "list_nurse_schedules.append(matrix_nurse_availability_type2)\n",
    "list_nurse_schedules.append(matrix_nurse_availability_type2)\n",
    "list_nurse_schedules.append(matrix_nurse_availability_type2)\n",
    "list_nurse_schedules.append(matrix_nurse_availability_type2)\n",
    "list_nurse_schedules.append(matrix_nurse_availability_type2)\n",
    "list_nurse_schedules.append(matrix_nurse_availability_type2)\n",
    "list_nurse_schedules.append(matrix_nurse_availability_type2)\n",
    "nurses = model.generate_nurses_from_nurse_schedules(list_nurse_schedules)\n",
    "schedule.print_schedule(schedule_name=\"Intial Situation\")\n"
   ]
  },
  {
   "cell_type": "code",
   "execution_count": 4,
   "metadata": {},
   "outputs": [
    {
     "name": "stdout",
     "output_type": "stream",
     "text": [
      "Week's Schedule Hypothetical Maximum\n",
      "+---------+----------+----------+----------+----------+----------+----------+----------+\n",
      "|         | Mo       | Tu       | We       | Th       | Fr       | Sa       | So       |\n",
      "+---------+----------+----------+----------+----------+----------+----------+----------+\n",
      "| shift 1 | need: 0  | need: 0  | need: 0  | need: 0  | need: 0  | need: 0  | need: 0  |\n",
      "|         | nurses:  | nurses:  | nurses:  | nurses:  | nurses:  | nurses:  | nurses:  |\n",
      "|         | 2,8,4,1, | 2,8,4,1, | 2,8,4,1, | 2,8,4,1, | 2,8,4,1, |          |          |\n",
      "|         | 0,5,6,3, | 0,5,6,3, | 0,5,6,3, | 0,5,6,3, | 0,5,6,3, |          |          |\n",
      "|         | 7,9      | 7,9      | 7,9      | 7,9      | 7,9      |          |          |\n",
      "| shift 2 | need: 2  | need: 2  | need: 0  | need: 0  | need: 0  | need: 0  | need: 0  |\n",
      "|         | nurses:  | nurses:  | nurses:  | nurses:  | nurses:  | nurses:  | nurses:  |\n",
      "|         | 2,8,4,1, | 2,8,4,1, | 2,8,4,1, | 2,8,4,1, | 2,8,4,1, |          |          |\n",
      "|         | 0,5,6,3, | 0,5,6,3, | 0,5,6,3, | 0,5,6,3, | 0,5,6,3, |          |          |\n",
      "|         | 7,9      | 7,9      | 7,9      | 7,9      | 7,9      |          |          |\n",
      "| shift 3 | need: 0  | need: 0  | need: 0  | need: 0  | need: 0  | need: 0  | need: 0  |\n",
      "|         | nurses:  | nurses:  | nurses:  | nurses:  | nurses:  | nurses:  | nurses:  |\n",
      "+---------+----------+----------+----------+----------+----------+----------+----------+\n",
      "Crude hypothetical shift coverage: 1.0\n",
      "Shift Coverage Hypothetical Maximum\n",
      "+---------+------------+------------+------------+------------+------------+-----------+-----------+\n",
      "|         | Mo         | Tu         | We         | Th         | Fr         | Sa        | So        |\n",
      "+---------+------------+------------+------------+------------+------------+-----------+-----------+\n",
      "| shift 1 | need: 0    | need: 0    | need: 0    | need: 0    | need: 0    | need: 0   | need: 0   |\n",
      "|         | nurses: 10 | nurses: 10 | nurses: 10 | nurses: 10 | nurses: 10 | nurses: 0 | nurses: 0 |\n",
      "|         | (10)       | (10)       | (10)       | (10)       | (10)       | (0)       | (0)       |\n",
      "| shift 2 | need: 2    | need: 2    | need: 0    | need: 0    | need: 0    | need: 0   | need: 0   |\n",
      "|         | nurses: 10 | nurses: 10 | nurses: 10 | nurses: 10 | nurses: 10 | nurses: 0 | nurses: 0 |\n",
      "|         | (5)        | (5)        | (10)       | (10)       | (10)       | (0)       | (0)       |\n",
      "| shift 3 | need: 0    | need: 0    | need: 0    | need: 0    | need: 0    | need: 0   | need: 0   |\n",
      "|         | nurses: 0  | nurses: 0  | nurses: 0  | nurses: 0  | nurses: 0  | nurses: 0 | nurses: 0 |\n",
      "|         | (0)        | (0)        | (0)        | (0)        | (0)        | (0)       | (0)       |\n",
      "+---------+------------+------------+------------+------------+------------+-----------+-----------+\n"
     ]
    }
   ],
   "source": [
    "model.show_hypothetical_max_schedule(schedule=schedule, nurses=nurses)"
   ]
  },
  {
   "cell_type": "code",
   "execution_count": 5,
   "metadata": {},
   "outputs": [
    {
     "name": "stdout",
     "output_type": "stream",
     "text": [
      "12-06-19 15 23 43\n",
      "Week's Schedule Best Schedule. Beta: (0.9),p: (0.001)\n",
      "+---------+----------+----------+----------+----------+----------+----------+----------+\n",
      "|         | Mo       | Tu       | We       | Th       | Fr       | Sa       | So       |\n",
      "+---------+----------+----------+----------+----------+----------+----------+----------+\n",
      "| shift 1 | need: 0  | need: 0  | need: 0  | need: 0  | need: 0  | need: 0  | need: 0  |\n",
      "|         | nurses:  | nurses:  | nurses:  | nurses:  | nurses:  | nurses:  | nurses:  |\n",
      "| shift 2 | need: 2  | need: 2  | need: 0  | need: 0  | need: 0  | need: 0  | need: 0  |\n",
      "|         | nurses:  | nurses:  | nurses:  | nurses:  | nurses:  | nurses:  | nurses:  |\n",
      "|         | 7,5      | 2,0      |          |          |          |          |          |\n",
      "| shift 3 | need: 0  | need: 0  | need: 0  | need: 0  | need: 0  | need: 0  | need: 0  |\n",
      "|         | nurses:  | nurses:  | nurses:  | nurses:  | nurses:  | nurses:  | nurses:  |\n",
      "+---------+----------+----------+----------+----------+----------+----------+----------+\n",
      "Solution shift coverage: 1.0\n",
      "Solution utility:  36.0\n",
      "Agent satisfaction:  -5253.096606873449\n",
      "12-06-19 15 23 52\n",
      "00:00:09\n",
      "Nurse productivity -  \n",
      "-- 2 ------------------------------- \n",
      "assigned:0,\tmin:6,\tmax: 6,\tdeg.availab:0.48,\tprod: 0.00,\tsatisf: -1000.00\n",
      "-- 8 ------------------------------- \n",
      "assigned:0,\tmin:6,\tmax: 6,\tdeg.availab:0.48,\tprod: 0.00,\tsatisf: -1000.00\n",
      "-- 4 ------------------------------- \n",
      "assigned:1,\tmin:6,\tmax: 6,\tdeg.availab:0.48,\tprod: 0.17,\tsatisf: 186.73\n",
      "-- 1 ------------------------------- \n",
      "assigned:1,\tmin:6,\tmax: 6,\tdeg.availab:0.48,\tprod: 0.17,\tsatisf: 186.73\n",
      "-- 0 ------------------------------- \n",
      "assigned:0,\tmin:6,\tmax: 6,\tdeg.availab:0.48,\tprod: 0.00,\tsatisf: -1000.00\n",
      "-- 5 ------------------------------- \n",
      "assigned:1,\tmin:6,\tmax: 6,\tdeg.availab:0.48,\tprod: 0.17,\tsatisf: 186.73\n",
      "-- 6 ------------------------------- \n",
      "assigned:1,\tmin:6,\tmax: 6,\tdeg.availab:0.48,\tprod: 0.17,\tsatisf: 186.73\n",
      "-- 3 ------------------------------- \n",
      "assigned:0,\tmin:6,\tmax: 6,\tdeg.availab:0.48,\tprod: 0.00,\tsatisf: -1000.00\n",
      "-- 7 ------------------------------- \n",
      "assigned:0,\tmin:6,\tmax: 6,\tdeg.availab:0.48,\tprod: 0.00,\tsatisf: -1000.00\n",
      "-- 9 ------------------------------- \n",
      "assigned:0,\tmin:6,\tmax: 6,\tdeg.availab:0.48,\tprod: 0.00,\tsatisf: -1000.00\n"
     ]
    }
   ],
   "source": [
    "# Default utility function (no agent satisfaction)\n",
    "start_time = datetime.today()\n",
    "print(str(start_time.strftime(\"%d-%m-%y %H %M %S\")))\n",
    "results_B_09 = model.run(schedule=schedule, nurses=nurses, beta=0.9, \n",
    "                         p_to_accept_negative_change=.001, utility_function_parameters = None)\n",
    "end_time = datetime.today()\n",
    "print(str(end_time.strftime(\"%d-%m-%y %H %M %S\")))\n",
    "print_elapsed_time(start_time,end_time)\n"
   ]
  },
  {
   "cell_type": "code",
   "execution_count": null,
   "metadata": {},
   "outputs": [],
   "source": [
    "model.print_nurse_productivity(nurses)"
   ]
  },
  {
   "cell_type": "code",
   "execution_count": null,
   "metadata": {},
   "outputs": [],
   "source": [
    "for nurse in nurses:\n",
    "    nurse.print_assigned_shifts()"
   ]
  },
  {
   "cell_type": "code",
   "execution_count": null,
   "metadata": {},
   "outputs": [],
   "source": []
  }
 ],
 "metadata": {
  "kernelspec": {
   "display_name": "Python 3",
   "language": "python",
   "name": "python3"
  },
  "language_info": {
   "codemirror_mode": {
    "name": "ipython",
    "version": 3
   },
   "file_extension": ".py",
   "mimetype": "text/x-python",
   "name": "python",
   "nbconvert_exporter": "python",
   "pygments_lexer": "ipython3",
   "version": "3.6.8"
  }
 },
 "nbformat": 4,
 "nbformat_minor": 2
}
