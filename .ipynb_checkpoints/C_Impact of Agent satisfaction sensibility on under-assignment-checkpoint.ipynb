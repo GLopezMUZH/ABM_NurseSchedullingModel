{
 "cells": [
  {
   "cell_type": "markdown",
   "metadata": {},
   "source": [
    "# Case. Impact of Agent satisfaction sensibility on under-assignment"
   ]
  },
  {
   "cell_type": "markdown",
   "metadata": {},
   "source": [
    "Situation:\n",
    "\n",
    "    More agent availability on week days as weekends, 40% agents work on weekends, 60% not.\n",
    "    NOT INCLUDED: Shift requirements higher on Friday 3rd Shift (3S), Saturday 1S and 3S, Sunday 3S\n",
    "    Beta = 0.8\n",
    "\n",
    "Task:\n",
    "\n",
    "    Evaluate Shift Coverage over Agent satisfaction penalty for under-assignment\n",
    "    Evaluate Agent Satisfaction over Agent satisfaction penalty for under-assignment using default function and shift stability function"
   ]
  },
  {
   "cell_type": "code",
   "execution_count": 1,
   "metadata": {},
   "outputs": [],
   "source": [
    "import abm_scheduling\n",
    "from abm_scheduling import Schedule as Schedule\n",
    "from abm_scheduling import Nurse as Nurse"
   ]
  },
  {
   "cell_type": "code",
   "execution_count": 2,
   "metadata": {},
   "outputs": [],
   "source": [
    "import time\n",
    "from datetime import datetime\n",
    "\n",
    "import abm_scheduling.Log\n",
    "from abm_scheduling.Log import Log as Log\n",
    "\n",
    "log = Log()"
   ]
  },
  {
   "cell_type": "markdown",
   "metadata": {},
   "source": [
    "## Randomized. Define situation"
   ]
  },
  {
   "cell_type": "code",
   "execution_count": 3,
   "metadata": {},
   "outputs": [],
   "source": [
    "p_to_accept_negative_change = .001\n",
    "num_nurses_per_shift = 4\n",
    "beta = 0.8"
   ]
  },
  {
   "cell_type": "code",
   "execution_count": 4,
   "metadata": {},
   "outputs": [],
   "source": [
    "# 25 nurses, only 10 can work on weekends\n",
    "nurses = []\n",
    "for n in range(10):\n",
    "    nurse = Nurse(id_name=n)\n",
    "    nurse.generate_shift_preferences(degree_of_agent_availability=0.7, works_weekends=True)\n",
    "    nurses.append(nurse)"
   ]
  },
  {
   "cell_type": "code",
   "execution_count": 5,
   "metadata": {},
   "outputs": [],
   "source": [
    "for n in range(15):\n",
    "    nurse = Nurse(id_name=(10+n))\n",
    "    nurse.generate_shift_preferences(degree_of_agent_availability=0.7, works_weekends=False)\n",
    "    nurses.append(nurse)"
   ]
  },
  {
   "cell_type": "code",
   "execution_count": 6,
   "metadata": {},
   "outputs": [
    {
     "name": "stdout",
     "output_type": "stream",
     "text": [
      "Week's Schedule Intial Situation\n",
      "+---------+----------+----------+----------+----------+----------+----------+----------+\n",
      "|         | Mo       | Tu       | We       | Th       | Fr       | Sa       | So       |\n",
      "+---------+----------+----------+----------+----------+----------+----------+----------+\n",
      "| shift 1 | need: 4  | need: 5  | need: 6  | need: 6  | need: 5  | need: 4  | need: 3  |\n",
      "|         | nurses:  | nurses:  | nurses:  | nurses:  | nurses:  | nurses:  | nurses:  |\n",
      "| shift 2 | need: 7  | need: 4  | need: 5  | need: 5  | need: 4  | need: 5  | need: 6  |\n",
      "|         | nurses:  | nurses:  | nurses:  | nurses:  | nurses:  | nurses:  | nurses:  |\n",
      "| shift 3 | need: 4  | need: 4  | need: 6  | need: 6  | need: 4  | need: 5  | need: 6  |\n",
      "|         | nurses:  | nurses:  | nurses:  | nurses:  | nurses:  | nurses:  | nurses:  |\n",
      "+---------+----------+----------+----------+----------+----------+----------+----------+\n"
     ]
    }
   ],
   "source": [
    "schedule = Schedule(num_nurses_needed=num_nurses_per_shift, is_random=True)\n",
    "model = abm_scheduling.NSP_AB_Model()\n",
    "schedule.print_schedule(schedule_name=\"Intial Situation\")"
   ]
  },
  {
   "cell_type": "code",
   "execution_count": 7,
   "metadata": {},
   "outputs": [
    {
     "name": "stdout",
     "output_type": "stream",
     "text": [
      "Crude hypothetical shift coverage: 1.0\n",
      "Shift Coverage Hypothetical Maximum\n",
      "+---------+------------+------------+------------+------------+------------+-----------+-----------+\n",
      "|         | Mo         | Tu         | We         | Th         | Fr         | Sa        | So        |\n",
      "+---------+------------+------------+------------+------------+------------+-----------+-----------+\n",
      "| shift 1 | need: 4    | need: 5    | need: 6    | need: 6    | need: 5    | need: 4   | need: 3   |\n",
      "|         | nurses: 17 | nurses: 15 | nurses: 20 | nurses: 20 | nurses: 17 | nurses: 5 | nurses: 6 |\n",
      "|         | (4.25)     | (3)        | (3.33)     | (3.33)     | (3.4)      | (1.25)    | (2)       |\n",
      "| shift 2 | need: 7    | need: 4    | need: 5    | need: 5    | need: 4    | need: 5   | need: 6   |\n",
      "|         | nurses: 16 | nurses: 15 | nurses: 17 | nurses: 21 | nurses: 20 | nurses: 7 | nurses: 7 |\n",
      "|         | (2.29)     | (3.75)     | (3.4)      | (4.2)      | (5)        | (1.4)     | (1.17)    |\n",
      "| shift 3 | need: 4    | need: 4    | need: 6    | need: 6    | need: 4    | need: 5   | need: 6   |\n",
      "|         | nurses: 18 | nurses: 17 | nurses: 14 | nurses: 17 | nurses: 16 | nurses: 8 | nurses: 7 |\n",
      "|         | (4.5)      | (4.25)     | (2.33)     | (2.83)     | (4)        | (1.6)     | (1.17)    |\n",
      "+---------+------------+------------+------------+------------+------------+-----------+-----------+\n",
      "Nurse productivity -  \n",
      "Nr:    0, \tassigned:15,\tmin:6,\tmax: 6,\tdeg.availab:0.70,\tprod: 2.50,\tsatisf: -1500.00,\toverbooked\n",
      "Nr:    1, \tassigned:13,\tmin:6,\tmax: 6,\tdeg.availab:0.70,\tprod: 2.17,\tsatisf: -1166.67,\toverbooked\n",
      "Nr:    2, \tassigned:12,\tmin:6,\tmax: 6,\tdeg.availab:0.70,\tprod: 2.00,\tsatisf: -1000.00,\toverbooked\n",
      "Nr:    3, \tassigned:15,\tmin:6,\tmax: 6,\tdeg.availab:0.70,\tprod: 2.50,\tsatisf: -1500.00,\toverbooked\n",
      "Nr:    4, \tassigned:14,\tmin:6,\tmax: 6,\tdeg.availab:0.70,\tprod: 2.33,\tsatisf: -1333.33,\toverbooked\n",
      "Nr:    5, \tassigned:15,\tmin:6,\tmax: 6,\tdeg.availab:0.70,\tprod: 2.50,\tsatisf: -1500.00,\toverbooked\n",
      "Nr:    6, \tassigned:14,\tmin:6,\tmax: 6,\tdeg.availab:0.70,\tprod: 2.33,\tsatisf: -1333.33,\toverbooked\n",
      "Nr:    7, \tassigned:12,\tmin:6,\tmax: 6,\tdeg.availab:0.70,\tprod: 2.00,\tsatisf: -1000.00,\toverbooked\n",
      "Nr:    8, \tassigned:17,\tmin:6,\tmax: 6,\tdeg.availab:0.70,\tprod: 2.83,\tsatisf: -1833.33,\toverbooked\n",
      "Nr:    9, \tassigned:16,\tmin:6,\tmax: 6,\tdeg.availab:0.70,\tprod: 2.67,\tsatisf: -1666.67,\toverbooked\n",
      "Nr:   10, \tassigned:11,\tmin:6,\tmax: 6,\tdeg.availab:0.70,\tprod: 1.83,\tsatisf: -833.33,\toverbooked\n",
      "Nr:   11, \tassigned:10,\tmin:6,\tmax: 6,\tdeg.availab:0.70,\tprod: 1.67,\tsatisf: -666.67,\toverbooked\n",
      "Nr:   12, \tassigned:8,\tmin:6,\tmax: 6,\tdeg.availab:0.70,\tprod: 1.33,\tsatisf: -333.33,\toverbooked\n",
      "Nr:   13, \tassigned:11,\tmin:6,\tmax: 6,\tdeg.availab:0.70,\tprod: 1.83,\tsatisf: -833.33,\toverbooked\n",
      "Nr:   14, \tassigned:12,\tmin:6,\tmax: 6,\tdeg.availab:0.70,\tprod: 2.00,\tsatisf: -1000.00,\toverbooked\n",
      "Nr:   15, \tassigned:10,\tmin:6,\tmax: 6,\tdeg.availab:0.70,\tprod: 1.67,\tsatisf: -666.67,\toverbooked\n",
      "Nr:   16, \tassigned:10,\tmin:6,\tmax: 6,\tdeg.availab:0.70,\tprod: 1.67,\tsatisf: -666.67,\toverbooked\n",
      "Nr:   17, \tassigned:10,\tmin:6,\tmax: 6,\tdeg.availab:0.70,\tprod: 1.67,\tsatisf: -666.67,\toverbooked\n",
      "Nr:   18, \tassigned:11,\tmin:6,\tmax: 6,\tdeg.availab:0.70,\tprod: 1.83,\tsatisf: -833.33,\toverbooked\n",
      "Nr:   19, \tassigned:11,\tmin:6,\tmax: 6,\tdeg.availab:0.70,\tprod: 1.83,\tsatisf: -833.33,\toverbooked\n",
      "Nr:   20, \tassigned:14,\tmin:6,\tmax: 6,\tdeg.availab:0.70,\tprod: 2.33,\tsatisf: -1333.33,\toverbooked\n",
      "Nr:   21, \tassigned:8,\tmin:6,\tmax: 6,\tdeg.availab:0.70,\tprod: 1.33,\tsatisf: -333.33,\toverbooked\n",
      "Nr:   22, \tassigned:9,\tmin:6,\tmax: 6,\tdeg.availab:0.70,\tprod: 1.50,\tsatisf: -500.00,\toverbooked\n",
      "Nr:   23, \tassigned:12,\tmin:6,\tmax: 6,\tdeg.availab:0.70,\tprod: 2.00,\tsatisf: -1000.00,\toverbooked\n",
      "Nr:   24, \tassigned:10,\tmin:6,\tmax: 6,\tdeg.availab:0.70,\tprod: 1.67,\tsatisf: -666.67,\toverbooked\n"
     ]
    }
   ],
   "source": [
    "model.show_hypothetical_max_schedule(schedule=schedule, nurses=nurses, print_detail_schedule = False)"
   ]
  },
  {
   "cell_type": "code",
   "execution_count": null,
   "metadata": {},
   "outputs": [],
   "source": [
    "model.get_total_agent_satisfaction(nurses)"
   ]
  },
  {
   "cell_type": "code",
   "execution_count": null,
   "metadata": {},
   "outputs": [],
   "source": [
    "# Default utility function (no agent satisfaction)\n",
    "start_time = datetime.today()\n",
    "results = model.run(schedule_org=schedule, nurses_org=nurses, beta=0.8, \n",
    "                         p_to_accept_negative_change=.001, utility_function_parameters = None)\n",
    "end_time = datetime.today()\n",
    "log.print_elapsed_time(start_time,end_time)"
   ]
  },
  {
   "cell_type": "code",
   "execution_count": null,
   "metadata": {},
   "outputs": [],
   "source": [
    "model.print_nurse_productivity(results.nurses)"
   ]
  },
  {
   "cell_type": "code",
   "execution_count": null,
   "metadata": {},
   "outputs": [],
   "source": [
    "# Agent satisfaction utility function\n",
    "utility_function_parameters = abm_scheduling.Utility_Function_Parameters()\n",
    "utility_function_parameters.utility_function = 'agent_satisfaction'\n",
    "results = model.run(schedule_org=schedule, nurses_org=nurses, beta=0.8, \n",
    "                         p_to_accept_negative_change=.001, utility_function_parameters = utility_function_parameters)\n",
    "end_time = datetime.today()\n",
    "log.print_elapsed_time(start_time,end_time)"
   ]
  },
  {
   "cell_type": "code",
   "execution_count": null,
   "metadata": {},
   "outputs": [],
   "source": [
    "model.print_nurse_productivity(results.nurses)"
   ]
  },
  {
   "cell_type": "code",
   "execution_count": null,
   "metadata": {},
   "outputs": [],
   "source": []
  },
  {
   "cell_type": "code",
   "execution_count": null,
   "metadata": {},
   "outputs": [],
   "source": []
  },
  {
   "cell_type": "code",
   "execution_count": null,
   "metadata": {},
   "outputs": [],
   "source": []
  },
  {
   "cell_type": "markdown",
   "metadata": {},
   "source": [
    "## Targeted search. Define situation"
   ]
  },
  {
   "cell_type": "code",
   "execution_count": null,
   "metadata": {},
   "outputs": [],
   "source": [
    "#%% Initializations\n",
    "p_to_accept_negative_change = .001\n",
    "\n",
    "# Situation definition\n",
    "matrix_nurses_needed = [5,6,3, 5,6,3, 5,6,3, 5,6,3, 5,6,5, 6,6,5, 6,6,3]\n",
    "#type 1 only first shift work week days\n",
    "matrix_nurse_availability_type1 = ['x','','', 'x','','',  'x','','', 'x','','', 'x','','', 'x','','', '','','x']\n",
    "#type 2 1s+2s work week days\n",
    "matrix_nurse_availability_type2 = ['x','x','', 'x','x','',  'x','x','', 'x','x','', 'x','x','', '','','', '','','']\n",
    "#type 3 1s+2s+3s work week days\n",
    "matrix_nurse_availability_type3 = ['x','x','x', 'x','x','x',  'x','x','x', 'x','x','x', 'x','x','', 'x','x','', 'x','x','']\n",
    "#type 4 \"springers\"\n",
    "matrix_nurse_availability_type4 = ['x','x','x', 'x','x','x',  'x','x','x', 'x','x','x', 'x','x','x', 'x','x','x', 'x','x','x']\n",
    "maximum_shifts_type4=3\n",
    "#type 5 work only weekends\n",
    "matrix_nurse_availability_type5 = ['','','', '','','', '','','', '','','', '','','x', 'x','x','x', 'x','x','x']\n",
    "\n",
    "\n",
    "# Create Schedule\n",
    "#schedule_random = Schedule(matrix_nurses_needed=matrix_nurses_needed, is_random=False)\n",
    "schedule = Schedule(matrix_nurses_needed=matrix_nurses_needed)\n",
    "\n",
    "# Create model and nurses\n",
    "model = abm_scheduling.NSP_AB_Model()\n",
    "#nurses = model.generate_nurses(10, 0.5, True)\n",
    "list_nurse_schedules = []\n",
    "list_nurse_schedules.append(matrix_nurse_availability_type1)\n",
    "list_nurse_schedules.append(matrix_nurse_availability_type1)\n",
    "list_nurse_schedules.append(matrix_nurse_availability_type1)\n",
    "list_nurse_schedules.append(matrix_nurse_availability_type1)\n",
    "list_nurse_schedules.append(matrix_nurse_availability_type2)\n",
    "list_nurse_schedules.append(matrix_nurse_availability_type2)\n",
    "list_nurse_schedules.append(matrix_nurse_availability_type2)\n",
    "list_nurse_schedules.append(matrix_nurse_availability_type2)\n",
    "list_nurse_schedules.append(matrix_nurse_availability_type3)\n",
    "list_nurse_schedules.append(matrix_nurse_availability_type3)\n",
    "list_nurse_schedules.append(matrix_nurse_availability_type4)\n",
    "list_nurse_schedules.append(matrix_nurse_availability_type4)\n",
    "list_nurse_schedules.append(matrix_nurse_availability_type5)\n",
    "list_nurse_schedules.append(matrix_nurse_availability_type5)\n",
    "list_nurse_schedules.append(matrix_nurse_availability_type5)\n",
    "\n",
    "nurses = model.generate_nurses_from_nurse_schedules(list_nurse_schedules)\n",
    "schedule.print_schedule(schedule_name=\"Intial Situation\")"
   ]
  },
  {
   "cell_type": "code",
   "execution_count": null,
   "metadata": {},
   "outputs": [],
   "source": [
    "nurses[10].minimum_shifts = 2\n",
    "nurses[10].maximum_shifts = 4\n",
    "nurses[10].print_shift_preferences()\n",
    "nurses[11].minimum_shifts = 2\n",
    "nurses[11].maximum_shifts = 4\n",
    "nurses[11].print_shift_preferences()"
   ]
  },
  {
   "cell_type": "code",
   "execution_count": null,
   "metadata": {},
   "outputs": [],
   "source": [
    "model.get_total_agent_satisfaction(nurses)"
   ]
  },
  {
   "cell_type": "code",
   "execution_count": null,
   "metadata": {},
   "outputs": [],
   "source": [
    "model.print_nurse_productivity(nurses)"
   ]
  },
  {
   "cell_type": "code",
   "execution_count": null,
   "metadata": {},
   "outputs": [],
   "source": [
    "model.show_hypothetical_max_schedule(schedule=schedule, nurses=nurses)"
   ]
  },
  {
   "cell_type": "code",
   "execution_count": null,
   "metadata": {},
   "outputs": [],
   "source": [
    "# Default utility function (no agent satisfaction)\n",
    "start_time = datetime.today()\n",
    "results = model.run(schedule_org=schedule, nurses_org=nurses, beta=0.9, \n",
    "                         p_to_accept_negative_change=.001, utility_function_parameters = None)\n",
    "end_time = datetime.today()\n",
    "log.print_elapsed_time(start_time,end_time)"
   ]
  },
  {
   "cell_type": "code",
   "execution_count": null,
   "metadata": {},
   "outputs": [],
   "source": [
    "model.print_nurse_productivity(results.nurses)"
   ]
  },
  {
   "cell_type": "code",
   "execution_count": null,
   "metadata": {},
   "outputs": [],
   "source": [
    "# Agent satisfaction utility function\n",
    "utility_function_parameters = abm_scheduling.Utility_Function_Parameters()\n",
    "utility_function_parameters.utility_function = 'agent_satisfaction'\n",
    "results = model.run(schedule_org=schedule, nurses_org=nurses, beta=0.9, \n",
    "                         p_to_accept_negative_change=.001, utility_function_parameters = utility_function_parameters)\n",
    "end_time = datetime.today()\n",
    "log.print_elapsed_time(start_time,end_time)"
   ]
  },
  {
   "cell_type": "code",
   "execution_count": null,
   "metadata": {},
   "outputs": [],
   "source": [
    "model.print_nurse_productivity(results.nurses)"
   ]
  },
  {
   "cell_type": "code",
   "execution_count": null,
   "metadata": {},
   "outputs": [],
   "source": []
  }
 ],
 "metadata": {
  "kernelspec": {
   "display_name": "Python 3",
   "language": "python",
   "name": "python3"
  },
  "language_info": {
   "codemirror_mode": {
    "name": "ipython",
    "version": 3
   },
   "file_extension": ".py",
   "mimetype": "text/x-python",
   "name": "python",
   "nbconvert_exporter": "python",
   "pygments_lexer": "ipython3",
   "version": "3.6.8"
  }
 },
 "nbformat": 4,
 "nbformat_minor": 2
}
