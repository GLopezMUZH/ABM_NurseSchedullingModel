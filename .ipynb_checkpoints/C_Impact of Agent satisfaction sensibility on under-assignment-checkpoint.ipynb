{
 "cells": [
  {
   "cell_type": "markdown",
   "metadata": {},
   "source": [
    "# Case. Impact of Agent satisfaction sensibility on under-assignment"
   ]
  },
  {
   "cell_type": "markdown",
   "metadata": {},
   "source": [
    "Situation:\n",
    "\n",
    "    More agent availability on week days as weekends, 40% agents work on weekends, 60% not.\n",
    "    NOT INCLUDED: Shift requirements higher on Friday 3rd Shift (3S), Saturday 1S and 3S, Sunday 3S\n",
    "    Beta = 0.8\n",
    "\n",
    "Task:\n",
    "\n",
    "    Evaluate Shift Coverage over Agent satisfaction penalty for under-assignment\n",
    "    Evaluate Agent Satisfaction over Agent satisfaction penalty for under-assignment using default function and shift stability function"
   ]
  },
  {
   "cell_type": "code",
   "execution_count": 1,
   "metadata": {},
   "outputs": [],
   "source": [
    "import abm_scheduling\n",
    "from abm_scheduling import Schedule as Schedule\n",
    "from abm_scheduling import Nurse as Nurse"
   ]
  },
  {
   "cell_type": "code",
   "execution_count": 2,
   "metadata": {},
   "outputs": [],
   "source": [
    "import time\n",
    "from datetime import datetime\n",
    "\n",
    "import abm_scheduling.Log\n",
    "from abm_scheduling.Log import Log as Log\n",
    "\n",
    "log = Log()"
   ]
  },
  {
   "cell_type": "markdown",
   "metadata": {},
   "source": [
    "## Randomized. Define situation"
   ]
  },
  {
   "cell_type": "code",
   "execution_count": 3,
   "metadata": {},
   "outputs": [],
   "source": [
    "p_to_accept_negative_change = .001\n",
    "num_nurses_per_shift = 5\n",
    "beta = 0.8"
   ]
  },
  {
   "cell_type": "code",
   "execution_count": 4,
   "metadata": {},
   "outputs": [],
   "source": [
    "# 25 nurses, only 10 can work on weekends\n",
    "nurses = []\n",
    "for n in range(10):\n",
    "    nurse = Nurse(id_name=n)\n",
    "    nurse.generate_shift_preferences(degree_of_agent_availability=0.7, works_weekends=True)\n",
    "    nurses.append(nurse)"
   ]
  },
  {
   "cell_type": "code",
   "execution_count": 5,
   "metadata": {},
   "outputs": [],
   "source": [
    "for n in range(15):\n",
    "    nurse = Nurse(id_name=(10+n))\n",
    "    nurse.generate_shift_preferences(degree_of_agent_availability=0.7, works_weekends=False)\n",
    "    nurses.append(nurse)"
   ]
  },
  {
   "cell_type": "code",
   "execution_count": 6,
   "metadata": {},
   "outputs": [
    {
     "name": "stdout",
     "output_type": "stream",
     "text": [
      "Week's Schedule Intial Situation\n",
      "+---------+----------+----------+----------+----------+----------+----------+----------+\n",
      "|         | Mo       | Tu       | We       | Th       | Fr       | Sa       | So       |\n",
      "+---------+----------+----------+----------+----------+----------+----------+----------+\n",
      "| shift 1 | need: 5  | need: 6  | need: 6  | need: 5  | need: 6  | need: 6  | need: 4  |\n",
      "|         | nurses:  | nurses:  | nurses:  | nurses:  | nurses:  | nurses:  | nurses:  |\n",
      "| shift 2 | need: 6  | need: 7  | need: 7  | need: 6  | need: 4  | need: 5  | need: 5  |\n",
      "|         | nurses:  | nurses:  | nurses:  | nurses:  | nurses:  | nurses:  | nurses:  |\n",
      "| shift 3 | need: 5  | need: 6  | need: 6  | need: 6  | need: 5  | need: 5  | need: 6  |\n",
      "|         | nurses:  | nurses:  | nurses:  | nurses:  | nurses:  | nurses:  | nurses:  |\n",
      "+---------+----------+----------+----------+----------+----------+----------+----------+\n"
     ]
    }
   ],
   "source": [
    "schedule = Schedule(num_nurses_needed=num_nurses_per_shift, is_random=True)\n",
    "model = abm_scheduling.NSP_AB_Model()\n",
    "schedule.print_schedule(schedule_name=\"Intial Situation\")"
   ]
  },
  {
   "cell_type": "code",
   "execution_count": 7,
   "metadata": {},
   "outputs": [
    {
     "name": "stdout",
     "output_type": "stream",
     "text": [
      "Crude hypothetical shift coverage: 1.0\n",
      "Shift Coverage Hypothetical Maximum\n",
      "+---------+------------+------------+------------+------------+------------+-----------+------------+\n",
      "|         | Mo         | Tu         | We         | Th         | Fr         | Sa        | So         |\n",
      "+---------+------------+------------+------------+------------+------------+-----------+------------+\n",
      "| shift 1 | need: 5    | need: 6    | need: 6    | need: 5    | need: 6    | need: 6   | need: 4    |\n",
      "|         | nurses: 17 | nurses: 19 | nurses: 17 | nurses: 17 | nurses: 21 | nurses: 9 | nurses: 8  |\n",
      "|         | (3.4)      | (3.17)     | (2.83)     | (3.4)      | (3.5)      | (1.5)     | (2)        |\n",
      "| shift 2 | need: 6    | need: 7    | need: 7    | need: 6    | need: 4    | need: 5   | need: 5    |\n",
      "|         | nurses: 17 | nurses: 18 | nurses: 17 | nurses: 19 | nurses: 15 | nurses: 7 | nurses: 10 |\n",
      "|         | (2.83)     | (2.57)     | (2.43)     | (3.17)     | (3.75)     | (1.4)     | (2)        |\n",
      "| shift 3 | need: 5    | need: 6    | need: 6    | need: 6    | need: 5    | need: 5   | need: 6    |\n",
      "|         | nurses: 17 | nurses: 18 | nurses: 13 | nurses: 13 | nurses: 16 | nurses: 8 | nurses: 8  |\n",
      "|         | (3.4)      | (3)        | (2.17)     | (2.17)     | (3.2)      | (1.6)     | (1.33)     |\n",
      "+---------+------------+------------+------------+------------+------------+-----------+------------+\n"
     ]
    }
   ],
   "source": [
    "model.show_hypothetical_max_schedule(schedule=schedule, nurses=nurses, print_detail_schedule = False)"
   ]
  },
  {
   "cell_type": "code",
   "execution_count": 8,
   "metadata": {},
   "outputs": [
    {
     "data": {
      "text/plain": [
       "-25000.0"
      ]
     },
     "execution_count": 8,
     "metadata": {},
     "output_type": "execute_result"
    }
   ],
   "source": [
    "model.get_total_agent_satisfaction(nurses)"
   ]
  },
  {
   "cell_type": "code",
   "execution_count": 9,
   "metadata": {},
   "outputs": [
    {
     "name": "stdout",
     "output_type": "stream",
     "text": [
      "Week's Schedule Best Schedule. Beta: (0.9),p: (0.001)\n",
      "+---------+-------------+--------------+-------------+-------------+-------------+----------+----------+\n",
      "|         | Mo          | Tu           | We          | Th          | Fr          | Sa       | So       |\n",
      "+---------+-------------+--------------+-------------+-------------+-------------+----------+----------+\n",
      "| shift 1 | need: 5     | need: 6      | need: 6     | need: 5     | need: 6     | need: 6  | need: 4  |\n",
      "|         | nurses:     | nurses:      | nurses:     | nurses:     | nurses:     | nurses:  | nurses:  |\n",
      "|         | 16,18,4,22, | 19,4,3,18,   | 23,5,17,3,  | 15,11,20,7, | 3,24,23,16, | 0        | 4        |\n",
      "|         | 19          | 16,24        | 4,16        | 12          | 21,18       |          |          |\n",
      "| shift 2 | need: 6     | need: 7      | need: 7     | need: 6     | need: 4     | need: 5  | need: 5  |\n",
      "|         | nurses:     | nurses:      | nurses:     | nurses:     | nurses:     | nurses:  | nurses:  |\n",
      "|         | 2,12,6,10,  | 17,15,21,0,  | 22,21,2,19, | 10,0,21,24, | 6,2,20,19   | 2,6,5,4  | 5,9,7,2  |\n",
      "|         | 13,23       | 13,14,23     | 24,8,6      | 9,4         |             |          |          |\n",
      "| shift 3 | need: 5     | need: 6      | need: 6     | need: 6     | need: 5     | need: 5  | need: 6  |\n",
      "|         | nurses:     | nurses:      | nurses:     | nurses:     | nurses:     | nurses:  | nurses:  |\n",
      "|         | 9,20,21,17, | 20,12,11,10, | 14,20,0,10, | 22,8,13,23, | 7,5,1,14,   | 1,3,9,7, | 8,6,0,1, |\n",
      "|         | 8           | 1,5          | 9,7         | 2,1         | 10          | 8        | 3        |\n",
      "+---------+-------------+--------------+-------------+-------------+-------------+----------+----------+\n",
      "Solution shift coverage: 0.905982905982906\n",
      "Solution utility:  954.0\n",
      "Agent satisfaction:  7374.133333333335\n",
      "Start:  2019-06-16 18:32:44.818240\n",
      "End:  2019-06-16 18:33:30.113404\n",
      "Elapsed time: 00:00:45\n"
     ]
    }
   ],
   "source": [
    "# Default utility function (no agent satisfaction)\n",
    "start_time = datetime.today()\n",
    "results = model.run(schedule_org=schedule, nurses_org=nurses, beta=0.8, \n",
    "                         p_to_accept_negative_change=.001, utility_function_parameters = None)\n",
    "end_time = datetime.today()\n",
    "log.print_elapsed_time(start_time,end_time)"
   ]
  },
  {
   "cell_type": "code",
   "execution_count": 10,
   "metadata": {},
   "outputs": [
    {
     "name": "stdout",
     "output_type": "stream",
     "text": [
      "Nurse productivity -  \n",
      "Nr: 0, \tassigned:5,\tmin:6,\tmax: 6,\tdeg.availab:0.70,\tprod: 0.83,\tsatisf: 533.67\n",
      "Nr: 1, \tassigned:7,\tmin:6,\tmax: 6,\tdeg.availab:0.70,\tprod: 1.17,\tsatisf: -166.67\n",
      "Nr: 2, \tassigned:6,\tmin:6,\tmax: 6,\tdeg.availab:0.70,\tprod: 1.00,\tsatisf: 768.60\n",
      "Nr: 3, \tassigned:6,\tmin:6,\tmax: 6,\tdeg.availab:0.70,\tprod: 1.00,\tsatisf: 768.60\n",
      "Nr: 4, \tassigned:5,\tmin:6,\tmax: 6,\tdeg.availab:0.70,\tprod: 0.83,\tsatisf: 533.67\n",
      "Nr: 5, \tassigned:6,\tmin:6,\tmax: 6,\tdeg.availab:0.70,\tprod: 1.00,\tsatisf: 768.60\n",
      "Nr: 6, \tassigned:5,\tmin:6,\tmax: 6,\tdeg.availab:0.70,\tprod: 0.83,\tsatisf: 533.67\n",
      "Nr: 7, \tassigned:5,\tmin:6,\tmax: 6,\tdeg.availab:0.70,\tprod: 0.83,\tsatisf: 533.67\n",
      "Nr: 8, \tassigned:5,\tmin:6,\tmax: 6,\tdeg.availab:0.70,\tprod: 0.83,\tsatisf: 533.67\n",
      "Nr: 9, \tassigned:4,\tmin:6,\tmax: 6,\tdeg.availab:0.70,\tprod: 0.67,\tsatisf: 281.67\n",
      "Nr: 10, \tassigned:4,\tmin:6,\tmax: 6,\tdeg.availab:0.70,\tprod: 0.67,\tsatisf: 281.67\n",
      "Nr: 11, \tassigned:3,\tmin:6,\tmax: 6,\tdeg.availab:0.70,\tprod: 0.50,\tsatisf: 8.33\n",
      "Nr: 12, \tassigned:4,\tmin:6,\tmax: 6,\tdeg.availab:0.70,\tprod: 0.67,\tsatisf: 281.67\n",
      "Nr: 13, \tassigned:3,\tmin:6,\tmax: 6,\tdeg.availab:0.70,\tprod: 0.50,\tsatisf: 8.33\n",
      "Nr: 14, \tassigned:4,\tmin:6,\tmax: 6,\tdeg.availab:0.70,\tprod: 0.67,\tsatisf: 281.67\n",
      "Nr: 15, \tassigned:4,\tmin:6,\tmax: 6,\tdeg.availab:0.70,\tprod: 0.67,\tsatisf: 281.67\n",
      "Nr: 16, \tassigned:4,\tmin:6,\tmax: 6,\tdeg.availab:0.70,\tprod: 0.67,\tsatisf: 281.67\n",
      "Nr: 17, \tassigned:4,\tmin:6,\tmax: 6,\tdeg.availab:0.70,\tprod: 0.67,\tsatisf: 281.67\n",
      "Nr: 18, \tassigned:4,\tmin:6,\tmax: 6,\tdeg.availab:0.70,\tprod: 0.67,\tsatisf: 281.67\n",
      "Nr: 19, \tassigned:3,\tmin:6,\tmax: 6,\tdeg.availab:0.70,\tprod: 0.50,\tsatisf: 8.33\n",
      "Nr: 20, \tassigned:4,\tmin:6,\tmax: 6,\tdeg.availab:0.70,\tprod: 0.67,\tsatisf: 281.67\n",
      "Nr: 21, \tassigned:3,\tmin:6,\tmax: 6,\tdeg.availab:0.70,\tprod: 0.50,\tsatisf: 8.33\n",
      "Nr: 22, \tassigned:2,\tmin:6,\tmax: 6,\tdeg.availab:0.70,\tprod: 0.33,\tsatisf: -291.67\n",
      "Nr: 23, \tassigned:3,\tmin:6,\tmax: 6,\tdeg.availab:0.70,\tprod: 0.50,\tsatisf: 8.33\n",
      "Nr: 24, \tassigned:4,\tmin:6,\tmax: 6,\tdeg.availab:0.70,\tprod: 0.67,\tsatisf: 281.67\n"
     ]
    }
   ],
   "source": [
    "model.print_nurse_productivity(results.nurses)"
   ]
  },
  {
   "cell_type": "code",
   "execution_count": null,
   "metadata": {},
   "outputs": [],
   "source": [
    "# Agent satisfaction utility function\n",
    "utility_function_parameters = abm_scheduling.Utility_Function_Parameters()\n",
    "utility_function_parameters.utility_function = 'agent_satisfaction'\n",
    "results = model.run(schedule_org=schedule, nurses_org=nurses, beta=0.8, \n",
    "                         p_to_accept_negative_change=.001, utility_function_parameters = utility_function_parameters)\n",
    "end_time = datetime.today()\n",
    "log.print_elapsed_time(start_time,end_time)"
   ]
  },
  {
   "cell_type": "code",
   "execution_count": null,
   "metadata": {},
   "outputs": [],
   "source": [
    "model.print_nurse_productivity(results.nurses)"
   ]
  },
  {
   "cell_type": "code",
   "execution_count": null,
   "metadata": {},
   "outputs": [],
   "source": []
  },
  {
   "cell_type": "code",
   "execution_count": null,
   "metadata": {},
   "outputs": [],
   "source": []
  },
  {
   "cell_type": "code",
   "execution_count": null,
   "metadata": {},
   "outputs": [],
   "source": []
  },
  {
   "cell_type": "markdown",
   "metadata": {},
   "source": [
    "## Targeted search. Define situation"
   ]
  },
  {
   "cell_type": "code",
   "execution_count": null,
   "metadata": {},
   "outputs": [],
   "source": [
    "#%% Initializations\n",
    "p_to_accept_negative_change = .001\n",
    "\n",
    "# Situation definition\n",
    "matrix_nurses_needed = [5,6,3, 5,6,3, 5,6,3, 5,6,3, 5,6,5, 6,6,5, 6,6,3]\n",
    "#type 1 only first shift work week days\n",
    "matrix_nurse_availability_type1 = ['x','','', 'x','','',  'x','','', 'x','','', 'x','','', 'x','','', '','','x']\n",
    "#type 2 1s+2s work week days\n",
    "matrix_nurse_availability_type2 = ['x','x','', 'x','x','',  'x','x','', 'x','x','', 'x','x','', '','','', '','','']\n",
    "#type 3 1s+2s+3s work week days\n",
    "matrix_nurse_availability_type3 = ['x','x','x', 'x','x','x',  'x','x','x', 'x','x','x', 'x','x','', 'x','x','', 'x','x','']\n",
    "#type 4 \"springers\"\n",
    "matrix_nurse_availability_type4 = ['x','x','x', 'x','x','x',  'x','x','x', 'x','x','x', 'x','x','x', 'x','x','x', 'x','x','x']\n",
    "maximum_shifts_type4=3\n",
    "#type 5 work only weekends\n",
    "matrix_nurse_availability_type5 = ['','','', '','','', '','','', '','','', '','','x', 'x','x','x', 'x','x','x']\n",
    "\n",
    "\n",
    "# Create Schedule\n",
    "#schedule_random = Schedule(matrix_nurses_needed=matrix_nurses_needed, is_random=False)\n",
    "schedule = Schedule(matrix_nurses_needed=matrix_nurses_needed)\n",
    "\n",
    "# Create model and nurses\n",
    "model = abm_scheduling.NSP_AB_Model()\n",
    "#nurses = model.generate_nurses(10, 0.5, True)\n",
    "list_nurse_schedules = []\n",
    "list_nurse_schedules.append(matrix_nurse_availability_type1)\n",
    "list_nurse_schedules.append(matrix_nurse_availability_type1)\n",
    "list_nurse_schedules.append(matrix_nurse_availability_type1)\n",
    "list_nurse_schedules.append(matrix_nurse_availability_type1)\n",
    "list_nurse_schedules.append(matrix_nurse_availability_type2)\n",
    "list_nurse_schedules.append(matrix_nurse_availability_type2)\n",
    "list_nurse_schedules.append(matrix_nurse_availability_type2)\n",
    "list_nurse_schedules.append(matrix_nurse_availability_type2)\n",
    "list_nurse_schedules.append(matrix_nurse_availability_type3)\n",
    "list_nurse_schedules.append(matrix_nurse_availability_type3)\n",
    "list_nurse_schedules.append(matrix_nurse_availability_type4)\n",
    "list_nurse_schedules.append(matrix_nurse_availability_type4)\n",
    "list_nurse_schedules.append(matrix_nurse_availability_type5)\n",
    "list_nurse_schedules.append(matrix_nurse_availability_type5)\n",
    "list_nurse_schedules.append(matrix_nurse_availability_type5)\n",
    "\n",
    "nurses = model.generate_nurses_from_nurse_schedules(list_nurse_schedules)\n",
    "schedule.print_schedule(schedule_name=\"Intial Situation\")"
   ]
  },
  {
   "cell_type": "code",
   "execution_count": null,
   "metadata": {},
   "outputs": [],
   "source": [
    "nurses[10].minimum_shifts = 2\n",
    "nurses[10].maximum_shifts = 4\n",
    "nurses[10].print_shift_preferences()\n",
    "nurses[11].minimum_shifts = 2\n",
    "nurses[11].maximum_shifts = 4\n",
    "nurses[11].print_shift_preferences()"
   ]
  },
  {
   "cell_type": "code",
   "execution_count": null,
   "metadata": {},
   "outputs": [],
   "source": [
    "model.get_total_agent_satisfaction(nurses)"
   ]
  },
  {
   "cell_type": "code",
   "execution_count": null,
   "metadata": {},
   "outputs": [],
   "source": [
    "model.print_nurse_productivity(nurses)"
   ]
  },
  {
   "cell_type": "code",
   "execution_count": null,
   "metadata": {},
   "outputs": [],
   "source": [
    "model.show_hypothetical_max_schedule(schedule=schedule, nurses=nurses)"
   ]
  },
  {
   "cell_type": "code",
   "execution_count": null,
   "metadata": {},
   "outputs": [],
   "source": [
    "# Default utility function (no agent satisfaction)\n",
    "start_time = datetime.today()\n",
    "results = model.run(schedule_org=schedule, nurses_org=nurses, beta=0.9, \n",
    "                         p_to_accept_negative_change=.001, utility_function_parameters = None)\n",
    "end_time = datetime.today()\n",
    "log.print_elapsed_time(start_time,end_time)"
   ]
  },
  {
   "cell_type": "code",
   "execution_count": null,
   "metadata": {},
   "outputs": [],
   "source": [
    "model.print_nurse_productivity(results.nurses)"
   ]
  },
  {
   "cell_type": "code",
   "execution_count": null,
   "metadata": {},
   "outputs": [],
   "source": [
    "# Agent satisfaction utility function\n",
    "utility_function_parameters = abm_scheduling.Utility_Function_Parameters()\n",
    "utility_function_parameters.utility_function = 'agent_satisfaction'\n",
    "results = model.run(schedule_org=schedule, nurses_org=nurses, beta=0.9, \n",
    "                         p_to_accept_negative_change=.001, utility_function_parameters = utility_function_parameters)\n",
    "end_time = datetime.today()\n",
    "log.print_elapsed_time(start_time,end_time)"
   ]
  },
  {
   "cell_type": "code",
   "execution_count": null,
   "metadata": {},
   "outputs": [],
   "source": [
    "model.print_nurse_productivity(results.nurses)"
   ]
  },
  {
   "cell_type": "code",
   "execution_count": null,
   "metadata": {},
   "outputs": [],
   "source": []
  }
 ],
 "metadata": {
  "kernelspec": {
   "display_name": "Python 3",
   "language": "python",
   "name": "python3"
  },
  "language_info": {
   "codemirror_mode": {
    "name": "ipython",
    "version": 3
   },
   "file_extension": ".py",
   "mimetype": "text/x-python",
   "name": "python",
   "nbconvert_exporter": "python",
   "pygments_lexer": "ipython3",
   "version": "3.6.8"
  }
 },
 "nbformat": 4,
 "nbformat_minor": 2
}
