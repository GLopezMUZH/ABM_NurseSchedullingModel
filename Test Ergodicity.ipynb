{
 "cells": [
  {
   "cell_type": "markdown",
   "metadata": {},
   "source": [
    "# Test ergodicity"
   ]
  },
  {
   "cell_type": "code",
   "execution_count": 1,
   "metadata": {},
   "outputs": [],
   "source": [
    "import abm_scheduling\n",
    "from abm_scheduling import Schedule as Schedule\n",
    "from abm_scheduling import Nurse as Nurse"
   ]
  },
  {
   "cell_type": "code",
   "execution_count": 2,
   "metadata": {},
   "outputs": [],
   "source": [
    "import time\n",
    "from datetime import datetime\n",
    "\n",
    "def print_elapsed_time(start_time,end_time):\n",
    "    elapsed = end_time - start_time\n",
    "    seconds = elapsed.days*86400 + elapsed.seconds # drop microseconds\n",
    "    minutes, seconds = divmod(seconds, 60)\n",
    "    hours, minutes = divmod(minutes, 60)\n",
    "    print(\"{hours:02d}:{minutes:02d}:{seconds:02d}\".format(**vars()))"
   ]
  },
  {
   "cell_type": "code",
   "execution_count": 6,
   "metadata": {},
   "outputs": [
    {
     "name": "stdout",
     "output_type": "stream",
     "text": [
      "Week's Schedule Intial Situation\n",
      "+---------+----------+----------+----------+----------+----------+----------+----------+\n",
      "|         | Mo       | Tu       | We       | Th       | Fr       | Sa       | So       |\n",
      "+---------+----------+----------+----------+----------+----------+----------+----------+\n",
      "| shift 1 | need: 5  | need: 5  | need: 5  | need: 5  | need: 5  | need: 5  | need: 5  |\n",
      "|         | nurses:  | nurses:  | nurses:  | nurses:  | nurses:  | nurses:  | nurses:  |\n",
      "| shift 2 | need: 6  | need: 6  | need: 6  | need: 6  | need: 6  | need: 6  | need: 6  |\n",
      "|         | nurses:  | nurses:  | nurses:  | nurses:  | nurses:  | nurses:  | nurses:  |\n",
      "| shift 3 | need: 0  | need: 0  | need: 0  | need: 0  | need: 0  | need: 0  | need: 0  |\n",
      "|         | nurses:  | nurses:  | nurses:  | nurses:  | nurses:  | nurses:  | nurses:  |\n",
      "+---------+----------+----------+----------+----------+----------+----------+----------+\n"
     ]
    }
   ],
   "source": [
    "#%% Initializations\n",
    "p_to_accept_negative_change = .001\n",
    "\n",
    "# Situation definition\n",
    "matrix_nurses_needed = [5,6,0, 5,6,0, 5,6,0, 5,6,0, 5,6,0, 5,6,0, 5,6,0]\n",
    "#type 1 only first shift work week days\n",
    "matrix_nurse_availability_type1 = ['x','','', 'x','','',  'x','','', 'x','','', 'x','','', '','','', '','','']\n",
    "#type 2 1s+2s work week days\n",
    "matrix_nurse_availability_type2 = ['x','x','', 'x','x','',  'x','x','', 'x','x','', 'x','x','', '','','', '','','']\n",
    "#type 3 1s+2s+3s work week days\n",
    "matrix_nurse_availability_type3 = ['x','x','x', 'x','x','x',  'x','x','x', 'x','x','x', 'x','x','x', '','','', '','','']\n",
    "\n",
    "# Create Schedule\n",
    "#schedule_random = Schedule(matrix_nurses_needed=matrix_nurses_needed, is_random=False)\n",
    "schedule = Schedule(matrix_nurses_needed=matrix_nurses_needed)\n",
    "\n",
    "# Create model and nurses\n",
    "model = abm_scheduling.NSP_AB_Model()\n",
    "#nurses = model.generate_nurses(10, 0.5, True)\n",
    "list_nurse_schedules = []\n",
    "list_nurse_schedules.append(matrix_nurse_availability_type1)\n",
    "list_nurse_schedules.append(matrix_nurse_availability_type1)\n",
    "list_nurse_schedules.append(matrix_nurse_availability_type1)\n",
    "list_nurse_schedules.append(matrix_nurse_availability_type1)\n",
    "list_nurse_schedules.append(matrix_nurse_availability_type2)\n",
    "list_nurse_schedules.append(matrix_nurse_availability_type2)\n",
    "list_nurse_schedules.append(matrix_nurse_availability_type2)\n",
    "list_nurse_schedules.append(matrix_nurse_availability_type2)\n",
    "list_nurse_schedules.append(matrix_nurse_availability_type3)\n",
    "list_nurse_schedules.append(matrix_nurse_availability_type3)\n",
    "nurses = model.generate_nurses_from_nurse_schedules(list_nurse_schedules)\n",
    "schedule.print_schedule(schedule_name=\"Intial Situation\")"
   ]
  },
  {
   "cell_type": "code",
   "execution_count": 7,
   "metadata": {},
   "outputs": [
    {
     "data": {
      "text/plain": [
       "-10000.0"
      ]
     },
     "execution_count": 7,
     "metadata": {},
     "output_type": "execute_result"
    }
   ],
   "source": [
    "model.get_total_agent_satisfaction(nurses)"
   ]
  },
  {
   "cell_type": "code",
   "execution_count": 8,
   "metadata": {},
   "outputs": [
    {
     "name": "stdout",
     "output_type": "stream",
     "text": [
      "Week's Schedule Hypothetical Maximum\n",
      "+---------+----------+----------+----------+----------+----------+----------+----------+\n",
      "|         | Mo       | Tu       | We       | Th       | Fr       | Sa       | So       |\n",
      "+---------+----------+----------+----------+----------+----------+----------+----------+\n",
      "| shift 1 | need: 5  | need: 5  | need: 5  | need: 5  | need: 5  | need: 5  | need: 5  |\n",
      "|         | nurses:  | nurses:  | nurses:  | nurses:  | nurses:  | nurses:  | nurses:  |\n",
      "|         | 0,1,2,3, | 0,1,2,3, | 0,1,2,3, | 0,1,2,3, | 0,1,2,3, |          |          |\n",
      "|         | 4,5,6,7, | 4,5,6,7, | 4,5,6,7, | 4,5,6,7, | 4,5,6,7, |          |          |\n",
      "|         | 8,9      | 8,9      | 8,9      | 8,9      | 8,9      |          |          |\n",
      "| shift 2 | need: 6  | need: 6  | need: 6  | need: 6  | need: 6  | need: 6  | need: 6  |\n",
      "|         | nurses:  | nurses:  | nurses:  | nurses:  | nurses:  | nurses:  | nurses:  |\n",
      "|         | 4,5,6,7, | 4,5,6,7, | 4,5,6,7, | 4,5,6,7, | 4,5,6,7, |          |          |\n",
      "|         | 8,9      | 8,9      | 8,9      | 8,9      | 8,9      |          |          |\n",
      "| shift 3 | need: 0  | need: 0  | need: 0  | need: 0  | need: 0  | need: 0  | need: 0  |\n",
      "|         | nurses:  | nurses:  | nurses:  | nurses:  | nurses:  | nurses:  | nurses:  |\n",
      "|         | 8,9      | 8,9      | 8,9      | 8,9      | 8,9      |          |          |\n",
      "+---------+----------+----------+----------+----------+----------+----------+----------+\n",
      "Crude hypothetical shift coverage: 0.7142857142857143\n",
      "Shift Coverage Hypothetical Maximum\n",
      "+---------+------------+------------+------------+------------+------------+-----------+-----------+\n",
      "|         | Mo         | Tu         | We         | Th         | Fr         | Sa        | So        |\n",
      "+---------+------------+------------+------------+------------+------------+-----------+-----------+\n",
      "| shift 1 | need: 5    | need: 5    | need: 5    | need: 5    | need: 5    | need: 5   | need: 5   |\n",
      "|         | nurses: 10 | nurses: 10 | nurses: 10 | nurses: 10 | nurses: 10 | nurses: 0 | nurses: 0 |\n",
      "|         | (2)        | (2)        | (2)        | (2)        | (2)        | (0)       | (0)       |\n",
      "| shift 2 | need: 6    | need: 6    | need: 6    | need: 6    | need: 6    | need: 6   | need: 6   |\n",
      "|         | nurses: 6  | nurses: 6  | nurses: 6  | nurses: 6  | nurses: 6  | nurses: 0 | nurses: 0 |\n",
      "|         | (1)        | (1)        | (1)        | (1)        | (1)        | (0)       | (0)       |\n",
      "| shift 3 | need: 0    | need: 0    | need: 0    | need: 0    | need: 0    | need: 0   | need: 0   |\n",
      "|         | nurses: 2  | nurses: 2  | nurses: 2  | nurses: 2  | nurses: 2  | nurses: 0 | nurses: 0 |\n",
      "|         | (2)        | (2)        | (2)        | (2)        | (2)        | (0)       | (0)       |\n",
      "+---------+------------+------------+------------+------------+------------+-----------+-----------+\n"
     ]
    }
   ],
   "source": [
    "model.show_hypothetical_max_schedule(schedule=schedule, nurses=nurses)"
   ]
  },
  {
   "cell_type": "code",
   "execution_count": 9,
   "metadata": {},
   "outputs": [
    {
     "name": "stdout",
     "output_type": "stream",
     "text": [
      "11-06-19 23 45 44\n",
      "Week's Schedule Best Schedule. Beta: (0.9),p: (0.001)\n",
      "+---------+----------+----------+----------+----------+----------+----------+----------+\n",
      "|         | Mo       | Tu       | We       | Th       | Fr       | Sa       | So       |\n",
      "+---------+----------+----------+----------+----------+----------+----------+----------+\n",
      "| shift 1 | need: 5  | need: 5  | need: 5  | need: 5  | need: 5  | need: 5  | need: 5  |\n",
      "|         | nurses:  | nurses:  | nurses:  | nurses:  | nurses:  | nurses:  | nurses:  |\n",
      "|         | 9,1,0,2, | 9,1,0,2, | 2,6,1,3, | 6,3,1,0, | 9,0,1,3, |          |          |\n",
      "|         | 3        | 3        | 0        | 2        | 2        |          |          |\n",
      "| shift 2 | need: 6  | need: 6  | need: 6  | need: 6  | need: 6  | need: 6  | need: 6  |\n",
      "|         | nurses:  | nurses:  | nurses:  | nurses:  | nurses:  | nurses:  | nurses:  |\n",
      "|         | 6,8,7,4, | 6,4,7,5, | 7,4,5,9, | 5,8,7,9, | 7,6,8,4, |          |          |\n",
      "|         | 5        | 8        | 8        | 4        | 5        |          |          |\n",
      "| shift 3 | need: 0  | need: 0  | need: 0  | need: 0  | need: 0  | need: 0  | need: 0  |\n",
      "|         | nurses:  | nurses:  | nurses:  | nurses:  | nurses:  | nurses:  | nurses:  |\n",
      "+---------+----------+----------+----------+----------+----------+----------+----------+\n",
      "Solution shift coverage: 0.6493506493506493\n",
      "Solution utility:  450.0\n",
      "Agent satisfaction:  7532.621907615701\n",
      "11-06-19 23 45 58\n",
      "00:00:14\n"
     ]
    }
   ],
   "source": [
    "# Default utility function (no agent satisfaction)\n",
    "start_time = datetime.today()\n",
    "print(str(start_time.strftime(\"%d-%m-%y %H %M %S\")))\n",
    "results_B_09 = model.run(schedule=schedule, nurses=nurses, beta=0.9, \n",
    "                         p_to_accept_negative_change=.001, utility_function_parameters = None)\n",
    "end_time = datetime.today()\n",
    "print(str(end_time.strftime(\"%d-%m-%y %H %M %S\")))\n",
    "print_elapsed_time(start_time,end_time)"
   ]
  },
  {
   "cell_type": "code",
   "execution_count": 10,
   "metadata": {},
   "outputs": [
    {
     "name": "stdout",
     "output_type": "stream",
     "text": [
      "Nurse productivity -  \n",
      "-- 0 ------------------------------- \n",
      "assigned:5,\tmin:5,\tmax: 5,\tdeg.availab:0.24,\tprod: 1.00,\tsatisf: 941.58\n",
      "-- 1 ------------------------------- \n",
      "assigned:5,\tmin:5,\tmax: 5,\tdeg.availab:0.24,\tprod: 1.00,\tsatisf: 941.58\n",
      "-- 2 ------------------------------- \n",
      "assigned:5,\tmin:5,\tmax: 5,\tdeg.availab:0.24,\tprod: 1.00,\tsatisf: 941.58\n",
      "-- 3 ------------------------------- \n",
      "assigned:5,\tmin:5,\tmax: 5,\tdeg.availab:0.24,\tprod: 1.00,\tsatisf: 941.58\n",
      "-- 4 ------------------------------- \n",
      "assigned:5,\tmin:6,\tmax: 6,\tdeg.availab:0.48,\tprod: 0.83,\tsatisf: 627.72\n",
      "-- 5 ------------------------------- \n",
      "assigned:5,\tmin:6,\tmax: 6,\tdeg.availab:0.48,\tprod: 0.83,\tsatisf: 627.72\n",
      "-- 6 ------------------------------- \n",
      "assigned:5,\tmin:6,\tmax: 6,\tdeg.availab:0.48,\tprod: 0.83,\tsatisf: 627.72\n",
      "-- 7 ------------------------------- \n",
      "assigned:5,\tmin:6,\tmax: 6,\tdeg.availab:0.48,\tprod: 0.83,\tsatisf: 627.72\n",
      "-- 8 ------------------------------- \n",
      "assigned:5,\tmin:6,\tmax: 6,\tdeg.availab:0.71,\tprod: 0.83,\tsatisf: 627.72\n",
      "-- 9 ------------------------------- \n",
      "assigned:5,\tmin:6,\tmax: 6,\tdeg.availab:0.71,\tprod: 0.83,\tsatisf: 627.72\n"
     ]
    }
   ],
   "source": [
    "model.print_nurse_productivity(nurses)"
   ]
  },
  {
   "cell_type": "code",
   "execution_count": 11,
   "metadata": {},
   "outputs": [
    {
     "name": "stdout",
     "output_type": "stream",
     "text": [
      "Week's Schedule Intial Situation\n",
      "+---------+----------+----------+----------+----------+----------+----------+----------+\n",
      "|         | Mo       | Tu       | We       | Th       | Fr       | Sa       | So       |\n",
      "+---------+----------+----------+----------+----------+----------+----------+----------+\n",
      "| shift 1 | need: 5  | need: 5  | need: 5  | need: 5  | need: 5  | need: 5  | need: 5  |\n",
      "|         | nurses:  | nurses:  | nurses:  | nurses:  | nurses:  | nurses:  | nurses:  |\n",
      "|         | 9,1,0,3, | 9,1,0,2, | 2,6,1,3, | 6,3,1,0, | 9,0,1,3, |          |          |\n",
      "|         | 2        | 3        | 0        | 2        | 2        |          |          |\n",
      "| shift 2 | need: 6  | need: 6  | need: 6  | need: 6  | need: 6  | need: 6  | need: 6  |\n",
      "|         | nurses:  | nurses:  | nurses:  | nurses:  | nurses:  | nurses:  | nurses:  |\n",
      "|         | 6,8,7,4, | 6,4,7,5, | 7,4,5,9, | 5,8,7,9, | 7,6,8,4, |          |          |\n",
      "|         | 5        | 8        | 8        | 4        | 5        |          |          |\n",
      "| shift 3 | need: 0  | need: 0  | need: 0  | need: 0  | need: 0  | need: 0  | need: 0  |\n",
      "|         | nurses:  | nurses:  | nurses:  | nurses:  | nurses:  | nurses:  | nurses:  |\n",
      "+---------+----------+----------+----------+----------+----------+----------+----------+\n"
     ]
    }
   ],
   "source": [
    "# RESHUFFLE\n",
    "model = abm_scheduling.NSP_AB_Model()\n",
    "#nurses = model.generate_nurses(10, 0.5, True)\n",
    "list_nurse_schedules = []\n",
    "list_nurse_schedules.append(matrix_nurse_availability_type3)\n",
    "list_nurse_schedules.append(matrix_nurse_availability_type3)\n",
    "list_nurse_schedules.append(matrix_nurse_availability_type2)\n",
    "list_nurse_schedules.append(matrix_nurse_availability_type2)\n",
    "list_nurse_schedules.append(matrix_nurse_availability_type2)\n",
    "list_nurse_schedules.append(matrix_nurse_availability_type2)\n",
    "list_nurse_schedules.append(matrix_nurse_availability_type1)\n",
    "list_nurse_schedules.append(matrix_nurse_availability_type1)\n",
    "list_nurse_schedules.append(matrix_nurse_availability_type1)\n",
    "list_nurse_schedules.append(matrix_nurse_availability_type1)\n",
    "nurses = model.generate_nurses_from_nurse_schedules(list_nurse_schedules)\n",
    "schedule.print_schedule(schedule_name=\"Intial Situation\")"
   ]
  },
  {
   "cell_type": "code",
   "execution_count": 12,
   "metadata": {},
   "outputs": [
    {
     "name": "stdout",
     "output_type": "stream",
     "text": [
      "11-06-19 23 46 57\n",
      "Week's Schedule Best Schedule. Beta: (0.9),p: (0.001)\n",
      "+---------+----------+----------+----------+----------+----------+----------+----------+\n",
      "|         | Mo       | Tu       | We       | Th       | Fr       | Sa       | So       |\n",
      "+---------+----------+----------+----------+----------+----------+----------+----------+\n",
      "| shift 1 | need: 5  | need: 5  | need: 5  | need: 5  | need: 5  | need: 5  | need: 5  |\n",
      "|         | nurses:  | nurses:  | nurses:  | nurses:  | nurses:  | nurses:  | nurses:  |\n",
      "|         | 9,1,0,3, | 9,1,0,2, | 2,6,1,3, | 6,3,1,0, | 9,0,1,3, |          |          |\n",
      "|         | 2        | 3        | 0        | 2        | 2        |          |          |\n",
      "| shift 2 | need: 6  | need: 6  | need: 6  | need: 6  | need: 6  | need: 6  | need: 6  |\n",
      "|         | nurses:  | nurses:  | nurses:  | nurses:  | nurses:  | nurses:  | nurses:  |\n",
      "|         | 6,8,7,4, | 6,4,7,5, | 7,4,5,9, | 5,8,7,9, | 7,6,8,4, |          |          |\n",
      "|         | 5        | 8        | 8        | 4        | 5        |          |          |\n",
      "| shift 3 | need: 0  | need: 0  | need: 0  | need: 0  | need: 0  | need: 0  | need: 0  |\n",
      "|         | nurses:  | nurses:  | nurses:  | nurses:  | nurses:  | nurses:  | nurses:  |\n",
      "+---------+----------+----------+----------+----------+----------+----------+----------+\n",
      "Solution shift coverage: 0.6493506493506493\n",
      "Solution utility:  450.0\n",
      "Agent satisfaction:  281.481584374696\n",
      "11-06-19 23 47 10\n",
      "00:00:13\n"
     ]
    }
   ],
   "source": [
    "# Default utility function (no agent satisfaction)\n",
    "start_time = datetime.today()\n",
    "print(str(start_time.strftime(\"%d-%m-%y %H %M %S\")))\n",
    "results_B_09 = model.run(schedule=schedule, nurses=nurses, beta=0.9, \n",
    "                         p_to_accept_negative_change=.001, utility_function_parameters = None)\n",
    "end_time = datetime.today()\n",
    "print(str(end_time.strftime(\"%d-%m-%y %H %M %S\")))\n",
    "print_elapsed_time(start_time,end_time)"
   ]
  },
  {
   "cell_type": "code",
   "execution_count": 13,
   "metadata": {},
   "outputs": [
    {
     "name": "stdout",
     "output_type": "stream",
     "text": [
      "Nurse productivity -  \n",
      "-- 0 ------------------------------- \n",
      "assigned:3,\tmin:6,\tmax: 6,\tdeg.availab:0.71,\tprod: 0.50,\tsatisf: 455.61\n",
      "-- 1 ------------------------------- \n",
      "assigned:3,\tmin:6,\tmax: 6,\tdeg.availab:0.71,\tprod: 0.50,\tsatisf: 455.61\n",
      "-- 2 ------------------------------- \n",
      "assigned:3,\tmin:6,\tmax: 6,\tdeg.availab:0.48,\tprod: 0.50,\tsatisf: 455.61\n",
      "-- 3 ------------------------------- \n",
      "assigned:5,\tmin:6,\tmax: 6,\tdeg.availab:0.48,\tprod: 0.83,\tsatisf: 627.72\n",
      "-- 4 ------------------------------- \n",
      "assigned:4,\tmin:6,\tmax: 6,\tdeg.availab:0.48,\tprod: 0.67,\tsatisf: 551.22\n",
      "-- 5 ------------------------------- \n",
      "assigned:3,\tmin:6,\tmax: 6,\tdeg.availab:0.48,\tprod: 0.50,\tsatisf: 455.61\n",
      "-- 6 ------------------------------- \n",
      "assigned:0,\tmin:5,\tmax: 5,\tdeg.availab:0.24,\tprod: 0.00,\tsatisf: -1000.00\n",
      "-- 7 ------------------------------- \n",
      "assigned:0,\tmin:5,\tmax: 5,\tdeg.availab:0.24,\tprod: 0.00,\tsatisf: -1000.00\n",
      "-- 8 ------------------------------- \n",
      "assigned:0,\tmin:5,\tmax: 5,\tdeg.availab:0.24,\tprod: 0.00,\tsatisf: -1000.00\n",
      "-- 9 ------------------------------- \n",
      "assigned:1,\tmin:5,\tmax: 5,\tdeg.availab:0.24,\tprod: 0.20,\tsatisf: 280.09\n"
     ]
    }
   ],
   "source": [
    "model.print_nurse_productivity(nurses)"
   ]
  },
  {
   "cell_type": "code",
   "execution_count": 14,
   "metadata": {},
   "outputs": [
    {
     "name": "stdout",
     "output_type": "stream",
     "text": [
      "Week's Schedule Intial Situation\n",
      "+---------+----------+----------+----------+----------+----------+----------+----------+\n",
      "|         | Mo       | Tu       | We       | Th       | Fr       | Sa       | So       |\n",
      "+---------+----------+----------+----------+----------+----------+----------+----------+\n",
      "| shift 1 | need: 5  | need: 5  | need: 5  | need: 5  | need: 5  | need: 5  | need: 5  |\n",
      "|         | nurses:  | nurses:  | nurses:  | nurses:  | nurses:  | nurses:  | nurses:  |\n",
      "|         | 9,1,2    | 3,2,0,5  | 0,2,5    | 0,1,4    | 0,3,5,4  |          |          |\n",
      "| shift 2 | need: 6  | need: 6  | need: 6  | need: 6  | need: 6  | need: 6  | need: 6  |\n",
      "|         | nurses:  | nurses:  | nurses:  | nurses:  | nurses:  | nurses:  | nurses:  |\n",
      "|         | 6,8,7,4, | 6,7,8    | 7,9,8,1, | 8,7,9,3  | 7,6,8    |          |          |\n",
      "|         | 3        |          | 4,3      |          |          |          |          |\n",
      "| shift 3 | need: 0  | need: 0  | need: 0  | need: 0  | need: 0  | need: 0  | need: 0  |\n",
      "|         | nurses:  | nurses:  | nurses:  | nurses:  | nurses:  | nurses:  | nurses:  |\n",
      "+---------+----------+----------+----------+----------+----------+----------+----------+\n"
     ]
    }
   ],
   "source": [
    "# RESHUFFLE AGAIN\n",
    "model = abm_scheduling.NSP_AB_Model()\n",
    "#nurses = model.generate_nurses(10, 0.5, True)\n",
    "list_nurse_schedules = []\n",
    "list_nurse_schedules.append(matrix_nurse_availability_type3)\n",
    "list_nurse_schedules.append(matrix_nurse_availability_type2)\n",
    "list_nurse_schedules.append(matrix_nurse_availability_type1)\n",
    "list_nurse_schedules.append(matrix_nurse_availability_type2)\n",
    "list_nurse_schedules.append(matrix_nurse_availability_type1)\n",
    "list_nurse_schedules.append(matrix_nurse_availability_type2)\n",
    "list_nurse_schedules.append(matrix_nurse_availability_type1)\n",
    "list_nurse_schedules.append(matrix_nurse_availability_type2)\n",
    "list_nurse_schedules.append(matrix_nurse_availability_type3)\n",
    "list_nurse_schedules.append(matrix_nurse_availability_type1)\n",
    "nurses = model.generate_nurses_from_nurse_schedules(list_nurse_schedules)\n",
    "schedule.print_schedule(schedule_name=\"Intial Situation\")"
   ]
  },
  {
   "cell_type": "code",
   "execution_count": 15,
   "metadata": {},
   "outputs": [
    {
     "name": "stdout",
     "output_type": "stream",
     "text": [
      "11-06-19 23 53 23\n",
      "Week's Schedule Best Schedule. Beta: (0.9),p: (0.001)\n",
      "+---------+----------+----------+----------+----------+----------+----------+----------+\n",
      "|         | Mo       | Tu       | We       | Th       | Fr       | Sa       | So       |\n",
      "+---------+----------+----------+----------+----------+----------+----------+----------+\n",
      "| shift 1 | need: 5  | need: 5  | need: 5  | need: 5  | need: 5  | need: 5  | need: 5  |\n",
      "|         | nurses:  | nurses:  | nurses:  | nurses:  | nurses:  | nurses:  | nurses:  |\n",
      "|         | 5,1,0,7, | 8,2,9,4  | 0,8,6,7, | 1,8,2,4, | 4,8,9,2, |          |          |\n",
      "|         | 2        |          | 2        | 5        | 7        |          |          |\n",
      "| shift 2 | need: 6  | need: 6  | need: 6  | need: 6  | need: 6  | need: 6  | need: 6  |\n",
      "|         | nurses:  | nurses:  | nurses:  | nurses:  | nurses:  | nurses:  | nurses:  |\n",
      "|         | 6,4,3,8  | 6,7,5,3, | 9,4,3,1, | 9,0,3,7  | 6,0,5,1, |          |          |\n",
      "|         |          | 0,1      | 5        |          | 3        |          |          |\n",
      "| shift 3 | need: 0  | need: 0  | need: 0  | need: 0  | need: 0  | need: 0  | need: 0  |\n",
      "|         | nurses:  | nurses:  | nurses:  | nurses:  | nurses:  | nurses:  | nurses:  |\n",
      "+---------+----------+----------+----------+----------+----------+----------+----------+\n",
      "Solution shift coverage: 0.6233766233766234\n",
      "Solution utility:  432.0\n",
      "Agent satisfaction:  6175.557197843006\n",
      "11-06-19 23 53 36\n",
      "00:00:12\n"
     ]
    }
   ],
   "source": [
    "# Default utility function (no agent satisfaction)\n",
    "start_time = datetime.today()\n",
    "print(str(start_time.strftime(\"%d-%m-%y %H %M %S\")))\n",
    "results_B_09 = model.run(schedule=schedule, nurses=nurses, beta=0.9, \n",
    "                         p_to_accept_negative_change=.001, utility_function_parameters = None)\n",
    "end_time = datetime.today()\n",
    "print(str(end_time.strftime(\"%d-%m-%y %H %M %S\")))\n",
    "print_elapsed_time(start_time,end_time)"
   ]
  },
  {
   "cell_type": "code",
   "execution_count": 16,
   "metadata": {},
   "outputs": [
    {
     "name": "stdout",
     "output_type": "stream",
     "text": [
      "Nurse productivity -  \n",
      "-- 0 ------------------------------- \n",
      "assigned:5,\tmin:6,\tmax: 6,\tdeg.availab:0.71,\tprod: 0.83,\tsatisf: 627.72\n",
      "-- 1 ------------------------------- \n",
      "assigned:5,\tmin:6,\tmax: 6,\tdeg.availab:0.48,\tprod: 0.83,\tsatisf: 627.72\n",
      "-- 2 ------------------------------- \n",
      "assigned:5,\tmin:5,\tmax: 5,\tdeg.availab:0.24,\tprod: 1.00,\tsatisf: 941.58\n",
      "-- 3 ------------------------------- \n",
      "assigned:5,\tmin:6,\tmax: 6,\tdeg.availab:0.48,\tprod: 0.83,\tsatisf: 627.72\n",
      "-- 4 ------------------------------- \n",
      "assigned:3,\tmin:5,\tmax: 5,\tdeg.availab:0.24,\tprod: 0.60,\tsatisf: 683.42\n",
      "-- 5 ------------------------------- \n",
      "assigned:5,\tmin:6,\tmax: 6,\tdeg.availab:0.48,\tprod: 0.83,\tsatisf: 627.72\n",
      "-- 6 ------------------------------- \n",
      "assigned:1,\tmin:5,\tmax: 5,\tdeg.availab:0.24,\tprod: 0.20,\tsatisf: 280.09\n",
      "-- 7 ------------------------------- \n",
      "assigned:5,\tmin:6,\tmax: 6,\tdeg.availab:0.48,\tprod: 0.83,\tsatisf: 627.72\n",
      "-- 8 ------------------------------- \n",
      "assigned:5,\tmin:6,\tmax: 6,\tdeg.availab:0.71,\tprod: 0.83,\tsatisf: 627.72\n",
      "-- 9 ------------------------------- \n",
      "assigned:2,\tmin:5,\tmax: 5,\tdeg.availab:0.24,\tprod: 0.40,\tsatisf: 504.16\n"
     ]
    }
   ],
   "source": [
    "model.print_nurse_productivity(nurses)"
   ]
  },
  {
   "cell_type": "code",
   "execution_count": null,
   "metadata": {},
   "outputs": [],
   "source": []
  }
 ],
 "metadata": {
  "kernelspec": {
   "display_name": "Python 3",
   "language": "python",
   "name": "python3"
  },
  "language_info": {
   "codemirror_mode": {
    "name": "ipython",
    "version": 3
   },
   "file_extension": ".py",
   "mimetype": "text/x-python",
   "name": "python",
   "nbconvert_exporter": "python",
   "pygments_lexer": "ipython3",
   "version": "3.6.8"
  }
 },
 "nbformat": 4,
 "nbformat_minor": 2
}
