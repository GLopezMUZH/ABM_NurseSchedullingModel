{
 "cells": [
  {
   "cell_type": "markdown",
   "metadata": {},
   "source": [
    "### NSP Cases\n",
    "\n"
   ]
  },
  {
   "cell_type": "markdown",
   "metadata": {},
   "source": [
    "Here are the libraries / configurations used."
   ]
  },
  {
   "cell_type": "code",
   "execution_count": 1,
   "metadata": {},
   "outputs": [],
   "source": [
    "import abm_scheduling\n",
    "from abm_scheduling import Schedule as Schedule\n",
    "from abm_scheduling import Nurse as Nurse"
   ]
  },
  {
   "cell_type": "code",
   "execution_count": 2,
   "metadata": {},
   "outputs": [],
   "source": [
    "import time\n",
    "from datetime import datetime\n",
    "\n",
    "def print_elapsed_time(start_time,end_time):\n",
    "    elapsed = end_time - start_time\n",
    "    seconds = elapsed.days*86400 + elapsed.seconds # drop microseconds\n",
    "    minutes, seconds = divmod(seconds, 60)\n",
    "    hours, minutes = divmod(minutes, 60)\n",
    "    print(\"{hours:02d}:{minutes:02d}:{seconds:02d}\".format(**vars()))"
   ]
  },
  {
   "cell_type": "markdown",
   "metadata": {},
   "source": [
    "### Case - No weekends"
   ]
  },
  {
   "cell_type": "code",
   "execution_count": 3,
   "metadata": {},
   "outputs": [
    {
     "name": "stdout",
     "output_type": "stream",
     "text": [
      "Week's Schedule Intial Situation\n",
      "+---------+----------+----------+----------+----------+----------+----------+----------+\n",
      "|         | Mo       | Tu       | We       | Th       | Fr       | Sa       | So       |\n",
      "+---------+----------+----------+----------+----------+----------+----------+----------+\n",
      "| shift 1 | need: 5  | need: 5  | need: 5  | need: 5  | need: 5  | need: 5  | need: 5  |\n",
      "|         | nurses:  | nurses:  | nurses:  | nurses:  | nurses:  | nurses:  | nurses:  |\n",
      "| shift 2 | need: 5  | need: 5  | need: 5  | need: 5  | need: 5  | need: 5  | need: 5  |\n",
      "|         | nurses:  | nurses:  | nurses:  | nurses:  | nurses:  | nurses:  | nurses:  |\n",
      "| shift 3 | need: 5  | need: 5  | need: 5  | need: 5  | need: 5  | need: 5  | need: 5  |\n",
      "|         | nurses:  | nurses:  | nurses:  | nurses:  | nurses:  | nurses:  | nurses:  |\n",
      "+---------+----------+----------+----------+----------+----------+----------+----------+\n"
     ]
    }
   ],
   "source": [
    "#%% Initializations\n",
    "p_to_accept_negative_change = .001\n",
    "\n",
    "# Situation definition\n",
    "matrix_nurses_needed = [5,8,5, 4,7,4, 4,7,4, 4,7,5, 5,7,7, 6,7,8, 7,5,5]\n",
    "matrix_nurse_availability_type1 = ['x','x','', 'x','x','',  'x','x','', 'x','x','', 'x','x','', '','','', '','','']\n",
    "matrix_nurse_availability_type2 = ['x','x','x', 'x','x','x',  'x','x','x', 'x','x','x', 'x','x','x', '','','', '','','']\n",
    "matrix_nurse_availability_type3 = ['x','','', 'x','','',  '','','', 'x','','', 'x','','', '','','', '','','']\n",
    "\n",
    "# Create Schedule\n",
    "#schedule_random = Schedule(matrix_nurses_needed=matrix_nurses_needed, is_random=False)\n",
    "schedule = Schedule(num_nurses_needed=5)\n",
    "\n",
    "# Create model and nurses\n",
    "model = abm_scheduling.NSP_AB_Model()\n",
    "#nurses = model.generate_nurses(10, 0.5, True)\n",
    "list_nurse_schedules = []\n",
    "list_nurse_schedules.append(matrix_nurse_availability_type1)\n",
    "list_nurse_schedules.append(matrix_nurse_availability_type1)\n",
    "list_nurse_schedules.append(matrix_nurse_availability_type1)\n",
    "list_nurse_schedules.append(matrix_nurse_availability_type1)\n",
    "list_nurse_schedules.append(matrix_nurse_availability_type2)\n",
    "list_nurse_schedules.append(matrix_nurse_availability_type2)\n",
    "list_nurse_schedules.append(matrix_nurse_availability_type2)\n",
    "list_nurse_schedules.append(matrix_nurse_availability_type2)\n",
    "list_nurse_schedules.append(matrix_nurse_availability_type3)\n",
    "list_nurse_schedules.append(matrix_nurse_availability_type3)\n",
    "nurses = model.generate_nurses_from_nurse_schedules(list_nurse_schedules)\n",
    "schedule.print_schedule(schedule_name=\"Intial Situation\")"
   ]
  },
  {
   "cell_type": "code",
   "execution_count": 4,
   "metadata": {},
   "outputs": [
    {
     "ename": "TypeError",
     "evalue": "'NoneType' object is not iterable",
     "output_type": "error",
     "traceback": [
      "\u001b[1;31m---------------------------------------------------------------------------\u001b[0m",
      "\u001b[1;31mTypeError\u001b[0m                                 Traceback (most recent call last)",
      "\u001b[1;32m<ipython-input-4-0e4c96772827>\u001b[0m in \u001b[0;36m<module>\u001b[1;34m()\u001b[0m\n\u001b[0;32m      1\u001b[0m \u001b[1;31m# nurse satisfaction when no shift assigned\u001b[0m\u001b[1;33m\u001b[0m\u001b[1;33m\u001b[0m\u001b[0m\n\u001b[1;32m----> 2\u001b[1;33m \u001b[0mmodel\u001b[0m\u001b[1;33m.\u001b[0m\u001b[0mget_total_agent_satisfaction\u001b[0m\u001b[1;33m(\u001b[0m\u001b[0mnurses\u001b[0m\u001b[1;33m)\u001b[0m\u001b[1;33m\u001b[0m\u001b[0m\n\u001b[0m",
      "\u001b[1;32m~\\Desktop\\ABM-Final\\ABM_NurseSchedullingModel\\abm_scheduling\\abm_scheduling.py\u001b[0m in \u001b[0;36mget_total_agent_satisfaction\u001b[1;34m(self, nurses)\u001b[0m\n\u001b[0;32m    450\u001b[0m     \u001b[1;32mdef\u001b[0m \u001b[0mget_total_agent_satisfaction\u001b[0m\u001b[1;33m(\u001b[0m\u001b[0mself\u001b[0m\u001b[1;33m,\u001b[0m \u001b[0mnurses\u001b[0m\u001b[1;33m:\u001b[0m \u001b[1;33m[\u001b[0m\u001b[0mNurse\u001b[0m\u001b[1;33m]\u001b[0m\u001b[1;33m)\u001b[0m\u001b[1;33m:\u001b[0m\u001b[1;33m\u001b[0m\u001b[0m\n\u001b[0;32m    451\u001b[0m         \u001b[0mtotal_satisfaction\u001b[0m \u001b[1;33m=\u001b[0m \u001b[1;36m0\u001b[0m\u001b[1;33m\u001b[0m\u001b[0m\n\u001b[1;32m--> 452\u001b[1;33m         \u001b[1;32mfor\u001b[0m \u001b[0mnurse\u001b[0m \u001b[1;32min\u001b[0m \u001b[0mnurses\u001b[0m\u001b[1;33m:\u001b[0m\u001b[1;33m\u001b[0m\u001b[0m\n\u001b[0m\u001b[0;32m    453\u001b[0m             \u001b[0mtotal_satisfaction\u001b[0m \u001b[1;33m+=\u001b[0m \u001b[0mnurse\u001b[0m\u001b[1;33m.\u001b[0m\u001b[0mget_satisfaction\u001b[0m\u001b[1;33m(\u001b[0m\u001b[1;33m)\u001b[0m\u001b[1;33m\u001b[0m\u001b[0m\n\u001b[0;32m    454\u001b[0m         \u001b[1;32mreturn\u001b[0m \u001b[0mtotal_satisfaction\u001b[0m\u001b[1;33m\u001b[0m\u001b[0m\n",
      "\u001b[1;31mTypeError\u001b[0m: 'NoneType' object is not iterable"
     ]
    }
   ],
   "source": [
    "# nurse satisfaction when no shift assigned\n",
    "model.get_total_agent_satisfaction(nurses)"
   ]
  },
  {
   "cell_type": "code",
   "execution_count": null,
   "metadata": {},
   "outputs": [],
   "source": [
    "model.show_hypothetical_max_schedule(schedule=schedule, nurses=nurses)"
   ]
  },
  {
   "cell_type": "code",
   "execution_count": 24,
   "metadata": {},
   "outputs": [
    {
     "name": "stdout",
     "output_type": "stream",
     "text": [
      "11-06-19 22 51 25\n",
      "Week's Schedule Best Schedule. Beta: (0.7),p: (0.001)\n",
      "+---------+----------+----------+----------+----------+----------+----------+----------+\n",
      "|         | Mo       | Tu       | We       | Th       | Fr       | Sa       | So       |\n",
      "+---------+----------+----------+----------+----------+----------+----------+----------+\n",
      "| shift 1 | need: 5  | need: 5  | need: 5  | need: 5  | need: 5  | need: 5  | need: 5  |\n",
      "|         | nurses:  | nurses:  | nurses:  | nurses:  | nurses:  | nurses:  | nurses:  |\n",
      "|         | 3,8,9,5, | 8,5,0,3, | 5,4,0,1, | 9,6,1,8, | 7,1,3,8, |          |          |\n",
      "|         | 0        | 1        | 2        | 4        | 9        |          |          |\n",
      "| shift 2 | need: 5  | need: 5  | need: 5  | need: 5  | need: 5  | need: 5  | need: 5  |\n",
      "|         | nurses:  | nurses:  | nurses:  | nurses:  | nurses:  | nurses:  | nurses:  |\n",
      "|         | 1,7,2    | 6,5,2,4  | 5,3      | 2,3,0,5  | 0,2,4    |          |          |\n",
      "| shift 3 | need: 5  | need: 5  | need: 5  | need: 5  | need: 5  | need: 5  | need: 5  |\n",
      "|         | nurses:  | nurses:  | nurses:  | nurses:  | nurses:  | nurses:  | nurses:  |\n",
      "|         | 4,6      | 7,5      | 7,5,6    | 7        | 6,5      |          |          |\n",
      "+---------+----------+----------+----------+----------+----------+----------+----------+\n",
      "Solution shift coverage: 0.4857142857142857\n",
      "Solution utility:  -1043.0\n",
      "Agent satisfaction:  5222.44662817321\n",
      "11-06-19 22 51 38\n",
      "00:00:12\n"
     ]
    }
   ],
   "source": [
    "# Default utility function (no agent satisfaction)\n",
    "start_time = datetime.today()\n",
    "print(str(start_time.strftime(\"%d-%m-%y %H %M %S\")))\n",
    "results_B_07 = model.run(schedule=schedule, nurses=nurses, beta=0.7, \n",
    "                         p_to_accept_negative_change=.001, utility_function_parameters = None)\n",
    "end_time = datetime.today()\n",
    "print(str(end_time.strftime(\"%d-%m-%y %H %M %S\")))\n",
    "print_elapsed_time(start_time,end_time)"
   ]
  },
  {
   "cell_type": "code",
   "execution_count": 25,
   "metadata": {},
   "outputs": [
    {
     "name": "stdout",
     "output_type": "stream",
     "text": [
      "Nurse productivity -  \n",
      "0---------- \n",
      "min:6, max: 6, deg.availab:0.47619047619047616, assigned:5, prod: (0.833), satisf: 627.7184923013087\n",
      "1---------- \n",
      "min:6, max: 6, deg.availab:0.47619047619047616, assigned:5, prod: (0.833), satisf: 627.7184923013087\n",
      "2---------- \n",
      "min:6, max: 6, deg.availab:0.47619047619047616, assigned:5, prod: (0.833), satisf: 627.7184923013087\n",
      "3---------- \n",
      "min:6, max: 6, deg.availab:0.47619047619047616, assigned:5, prod: (0.833), satisf: 627.7184923013087\n",
      "4---------- \n",
      "min:6, max: 6, deg.availab:0.7142857142857144, assigned:7, prod: (1.17), satisf: -166.66666666666666\n",
      "5---------- \n",
      "min:6, max: 6, deg.availab:0.7142857142857144, assigned:7, prod: (1.17), satisf: -166.66666666666666\n",
      "6---------- \n",
      "min:6, max: 6, deg.availab:0.7142857142857144, assigned:7, prod: (1.17), satisf: -166.66666666666666\n",
      "7---------- \n",
      "min:6, max: 6, deg.availab:0.7142857142857144, assigned:5, prod: (0.833), satisf: 627.7184923013087\n",
      "8---------- \n",
      "min:4.0, max: 4.0, deg.availab:0.19047619047619047, assigned:4, prod: (1), satisf: 1291.9270833333333\n",
      "9---------- \n",
      "min:4.0, max: 4.0, deg.availab:0.19047619047619047, assigned:4, prod: (1), satisf: 1291.9270833333333\n"
     ]
    }
   ],
   "source": [
    "model.print_nurse_productivity(nurses)"
   ]
  },
  {
   "cell_type": "code",
   "execution_count": 26,
   "metadata": {},
   "outputs": [
    {
     "data": {
      "image/png": "[encoded data removed]",
      "text/plain": [
       "<Figure size 432x288 with 1 Axes>"
      ]
     },
     "metadata": {
      "needs_background": "light"
     },
     "output_type": "display_data"
    },
    {
     "data": {
      "image/png": "[encoded data removed]",
      "text/plain": [
       "<Figure size 432x288 with 1 Axes>"
      ]
     },
     "metadata": {
      "needs_background": "light"
     },
     "output_type": "display_data"
    }
   ],
   "source": [
    "model.plot_utility_per_timestep(results_B_07.utility_each_timestep)\n",
    "model.plot_shift_coverage_per_timestep(results_B_07.shift_coverage_each_timestep)\n"
   ]
  },
  {
   "cell_type": "code",
   "execution_count": 22,
   "metadata": {},
   "outputs": [
    {
     "name": "stdout",
     "output_type": "stream",
     "text": [
      "11-06-19 22 48 14\n",
      "Week's Schedule Best Schedule. Beta: (0.7),p: (0.001)\n",
      "+---------+----------+----------+----------+----------+----------+----------+----------+\n",
      "|         | Mo       | Tu       | We       | Th       | Fr       | Sa       | So       |\n",
      "+---------+----------+----------+----------+----------+----------+----------+----------+\n",
      "| shift 1 | need: 5  | need: 5  | need: 5  | need: 5  | need: 5  | need: 5  | need: 5  |\n",
      "|         | nurses:  | nurses:  | nurses:  | nurses:  | nurses:  | nurses:  | nurses:  |\n",
      "|         | 9,8,2,3, | 2,8,5,1, | 6,5,4,0  | 6,8,9,4, | 7,9,8,5  |          |          |\n",
      "|         | 1        | 9        |          | 0        |          |          |          |\n",
      "| shift 2 | need: 5  | need: 5  | need: 5  | need: 5  | need: 5  | need: 5  | need: 5  |\n",
      "|         | nurses:  | nurses:  | nurses:  | nurses:  | nurses:  | nurses:  | nurses:  |\n",
      "|         | 0,6      | 0,3      | 2,5,1,3  | 2,4,6,3, | 3,1,0,2  |          |          |\n",
      "|         |          |          |          | 1        |          |          |          |\n",
      "| shift 3 | need: 5  | need: 5  | need: 5  | need: 5  | need: 5  | need: 5  | need: 5  |\n",
      "|         | nurses:  | nurses:  | nurses:  | nurses:  | nurses:  | nurses:  | nurses:  |\n",
      "|         | 5,7,4    | 4,7,6    | 7,5      | 5,4,6,7  | 4,6      |          |          |\n",
      "+---------+----------+----------+----------+----------+----------+----------+----------+\n",
      "Solution shift coverage: 0.5142857142857142\n",
      "Solution utility:  -1284.2340311304251\n",
      "Agent satisfaction:  6253.799555279628\n",
      "11-06-19 22 50 48\n",
      "00:04:12\n"
     ]
    }
   ],
   "source": [
    "# Agent satisfaction utility function\n",
    "print(str(datetime.today().strftime(\"%d-%m-%y %H %M %S\")))\n",
    "utility_function_parameters = abm_scheduling.Utility_Function_Parameters()\n",
    "utility_function_parameters.utility_function = 'agent_satisfaction'\n",
    "results_B_07 = model.run(schedule=schedule, nurses=nurses, beta=0.7, \n",
    "                         p_to_accept_negative_change=.001, utility_function_parameters = utility_function_parameters)\n",
    "end_time = datetime.today()\n",
    "print(str(end_time.strftime(\"%d-%m-%y %H %M %S\")))\n",
    "print_elapsed_time(start_time,end_time)"
   ]
  },
  {
   "cell_type": "code",
   "execution_count": 23,
   "metadata": {},
   "outputs": [
    {
     "name": "stdout",
     "output_type": "stream",
     "text": [
      "Nurse productivity -  \n",
      "0---------- \n",
      "min:6, max: 6, deg.availab:0.47619047619047616, assigned:5, prod: (0.833), satisf: 627.7184923013087\n",
      "1---------- \n",
      "min:6, max: 6, deg.availab:0.47619047619047616, assigned:5, prod: (0.833), satisf: 627.7184923013087\n",
      "2---------- \n",
      "min:6, max: 6, deg.availab:0.47619047619047616, assigned:5, prod: (0.833), satisf: 627.7184923013087\n",
      "3---------- \n",
      "min:6, max: 6, deg.availab:0.47619047619047616, assigned:5, prod: (0.833), satisf: 627.7184923013087\n",
      "4---------- \n",
      "min:6, max: 6, deg.availab:0.7142857142857144, assigned:5, prod: (0.833), satisf: 627.7184923013087\n",
      "5---------- \n",
      "min:6, max: 6, deg.availab:0.7142857142857144, assigned:9, prod: (1.5), satisf: -500.0\n",
      "6---------- \n",
      "min:6, max: 6, deg.availab:0.7142857142857144, assigned:5, prod: (0.833), satisf: 627.7184923013087\n",
      "7---------- \n",
      "min:6, max: 6, deg.availab:0.7142857142857144, assigned:5, prod: (0.833), satisf: 627.7184923013087\n",
      "8---------- \n",
      "min:4.0, max: 4.0, deg.availab:0.19047619047619047, assigned:4, prod: (1), satisf: 1291.9270833333333\n",
      "9---------- \n",
      "min:4.0, max: 4.0, deg.availab:0.19047619047619047, assigned:3, prod: (0.75), satisf: 1067.8430258371338\n"
     ]
    }
   ],
   "source": [
    "model.print_nurse_productivity(nurses)"
   ]
  },
  {
   "cell_type": "code",
   "execution_count": 27,
   "metadata": {},
   "outputs": [
    {
     "data": {
      "image/png": "[encoded data removed]",
      "text/plain": [
       "<Figure size 432x288 with 1 Axes>"
      ]
     },
     "metadata": {
      "needs_background": "light"
     },
     "output_type": "display_data"
    },
    {
     "data": {
      "image/png": "[encoded data removed]",
      "text/plain": [
       "<Figure size 432x288 with 1 Axes>"
      ]
     },
     "metadata": {
      "needs_background": "light"
     },
     "output_type": "display_data"
    }
   ],
   "source": [
    "model.plot_utility_per_timestep(results_B_07.utility_each_timestep)\n",
    "model.plot_shift_coverage_per_timestep(results_B_07.shift_coverage_each_timestep)"
   ]
  },
  {
   "cell_type": "code",
   "execution_count": 28,
   "metadata": {},
   "outputs": [
    {
     "name": "stdout",
     "output_type": "stream",
     "text": [
      "11-06-19 22 53 34\n",
      "Week's Schedule Best Schedule. Beta: (0.9),p: (0.001)\n",
      "+---------+----------+----------+----------+----------+----------+----------+----------+\n",
      "|         | Mo       | Tu       | We       | Th       | Fr       | Sa       | So       |\n",
      "+---------+----------+----------+----------+----------+----------+----------+----------+\n",
      "| shift 1 | need: 5  | need: 5  | need: 5  | need: 5  | need: 5  | need: 5  | need: 5  |\n",
      "|         | nurses:  | nurses:  | nurses:  | nurses:  | nurses:  | nurses:  | nurses:  |\n",
      "|         | 5,9,8,2  | 0,8,5,9, | 3,1,0,4  | 4,0,7,8, | 2,9,3,4, |          |          |\n",
      "|         |          | 6        |          | 9        | 8        |          |          |\n",
      "| shift 2 | need: 5  | need: 5  | need: 5  | need: 5  | need: 5  | need: 5  | need: 5  |\n",
      "|         | nurses:  | nurses:  | nurses:  | nurses:  | nurses:  | nurses:  | nurses:  |\n",
      "|         | 1,3,7,5, | 4,3,1,6, | 5,4,6,2  | 1,3,2    | 5,1,0    |          |          |\n",
      "|         | 0        | 2        |          |          |          |          |          |\n",
      "| shift 3 | need: 5  | need: 5  | need: 5  | need: 5  | need: 5  | need: 5  | need: 5  |\n",
      "|         | nurses:  | nurses:  | nurses:  | nurses:  | nurses:  | nurses:  | nurses:  |\n",
      "|         | 6,5,4    | 7,6      | 4,7      | 5,6      | 7,6      |          |          |\n",
      "+---------+----------+----------+----------+----------+----------+----------+----------+\n",
      "Solution shift coverage: 0.5142857142857142\n",
      "Solution utility:  -2214.0\n",
      "Agent satisfaction:  6082.956112506141\n",
      "11-06-19 22 53 47\n",
      "00:00:13\n"
     ]
    }
   ],
   "source": [
    "# Default utility function (no agent satisfaction)\n",
    "start_time = datetime.today()\n",
    "print(str(start_time.strftime(\"%d-%m-%y %H %M %S\")))\n",
    "results_B_09 = model.run(schedule=schedule, nurses=nurses, beta=0.9, \n",
    "                         p_to_accept_negative_change=.001, utility_function_parameters = None)\n",
    "end_time = datetime.today()\n",
    "print(str(end_time.strftime(\"%d-%m-%y %H %M %S\")))\n",
    "print_elapsed_time(start_time,end_time)"
   ]
  },
  {
   "cell_type": "code",
   "execution_count": null,
   "metadata": {},
   "outputs": [],
   "source": [
    "model.print_nurse_productivity(nurses)"
   ]
  },
  {
   "cell_type": "code",
   "execution_count": 29,
   "metadata": {},
   "outputs": [
    {
     "name": "stdout",
     "output_type": "stream",
     "text": [
      "11-06-19 22 54 19\n",
      "Week's Schedule Best Schedule. Beta: (0.9),p: (0.001)\n",
      "+---------+----------+----------+----------+----------+----------+----------+----------+\n",
      "|         | Mo       | Tu       | We       | Th       | Fr       | Sa       | So       |\n",
      "+---------+----------+----------+----------+----------+----------+----------+----------+\n",
      "| shift 1 | need: 5  | need: 5  | need: 5  | need: 5  | need: 5  | need: 5  | need: 5  |\n",
      "|         | nurses:  | nurses:  | nurses:  | nurses:  | nurses:  | nurses:  | nurses:  |\n",
      "|         | 9,3,0,8  | 9,1,0,2, | 3,0      | 4,0,5,8, | 2,8,9,1, |          |          |\n",
      "|         |          | 8        |          | 9        | 4        |          |          |\n",
      "| shift 2 | need: 5  | need: 5  | need: 5  | need: 5  | need: 5  | need: 5  | need: 5  |\n",
      "|         | nurses:  | nurses:  | nurses:  | nurses:  | nurses:  | nurses:  | nurses:  |\n",
      "|         | 1,5,2,4  | 7,3      | 5,6,2,1  | 1,3,2    | 5,7,0,3  |          |          |\n",
      "| shift 3 | need: 5  | need: 5  | need: 5  | need: 5  | need: 5  | need: 5  | need: 5  |\n",
      "|         | nurses:  | nurses:  | nurses:  | nurses:  | nurses:  | nurses:  | nurses:  |\n",
      "|         | 6,7      | 5,4,6    | 4,7      | 6,7      | 6        |          |          |\n",
      "+---------+----------+----------+----------+----------+----------+----------+----------+\n",
      "Solution shift coverage: 0.45714285714285713\n",
      "Solution utility:  902.020196535589\n",
      "Agent satisfaction:  5222.44662817321\n",
      "11-06-19 22 56 45\n",
      "00:03:10\n"
     ]
    }
   ],
   "source": [
    "# Agent satisfaction utility function\n",
    "print(str(datetime.today().strftime(\"%d-%m-%y %H %M %S\")))\n",
    "utility_function_parameters = abm_scheduling.Utility_Function_Parameters()\n",
    "utility_function_parameters.utility_function = 'agent_satisfaction'\n",
    "results_B_09 = model.run(schedule=schedule, nurses=nurses, beta=0.9, \n",
    "                         p_to_accept_negative_change=.001, utility_function_parameters = utility_function_parameters)\n",
    "end_time = datetime.today()\n",
    "print(str(end_time.strftime(\"%d-%m-%y %H %M %S\")))\n",
    "print_elapsed_time(start_time,end_time)"
   ]
  },
  {
   "cell_type": "code",
   "execution_count": 30,
   "metadata": {},
   "outputs": [
    {
     "name": "stdout",
     "output_type": "stream",
     "text": [
      "Nurse productivity -  \n",
      "0---------- \n",
      "min:6, max: 6, deg.availab:0.47619047619047616, assigned:5, prod: (0.833), satisf: 627.7184923013087\n",
      "1---------- \n",
      "min:6, max: 6, deg.availab:0.47619047619047616, assigned:5, prod: (0.833), satisf: 627.7184923013087\n",
      "2---------- \n",
      "min:6, max: 6, deg.availab:0.47619047619047616, assigned:5, prod: (0.833), satisf: 627.7184923013087\n",
      "3---------- \n",
      "min:6, max: 6, deg.availab:0.47619047619047616, assigned:5, prod: (0.833), satisf: 627.7184923013087\n",
      "4---------- \n",
      "min:6, max: 6, deg.availab:0.7142857142857144, assigned:7, prod: (1.17), satisf: -166.66666666666666\n",
      "5---------- \n",
      "min:6, max: 6, deg.availab:0.7142857142857144, assigned:7, prod: (1.17), satisf: -166.66666666666666\n",
      "6---------- \n",
      "min:6, max: 6, deg.availab:0.7142857142857144, assigned:7, prod: (1.17), satisf: -166.66666666666666\n",
      "7---------- \n",
      "min:6, max: 6, deg.availab:0.7142857142857144, assigned:5, prod: (0.833), satisf: 627.7184923013087\n",
      "8---------- \n",
      "min:4.0, max: 4.0, deg.availab:0.19047619047619047, assigned:4, prod: (1), satisf: 1291.9270833333333\n",
      "9---------- \n",
      "min:4.0, max: 4.0, deg.availab:0.19047619047619047, assigned:4, prod: (1), satisf: 1291.9270833333333\n"
     ]
    }
   ],
   "source": [
    "model.print_nurse_productivity(nurses)"
   ]
  },
  {
   "cell_type": "code",
   "execution_count": 4,
   "metadata": {},
   "outputs": [
    {
     "name": "stdout",
     "output_type": "stream",
     "text": [
      "Week's Schedule Intial Situation\n",
      "+---------+----------+----------+----------+----------+----------+----------+----------+\n",
      "|         | Mo       | Tu       | We       | Th       | Fr       | Sa       | So       |\n",
      "+---------+----------+----------+----------+----------+----------+----------+----------+\n",
      "| shift 1 | need: 5  | need: 5  | need: 5  | need: 5  | need: 5  | need: 5  | need: 5  |\n",
      "|         | nurses:  | nurses:  | nurses:  | nurses:  | nurses:  | nurses:  | nurses:  |\n",
      "| shift 2 | need: 5  | need: 5  | need: 5  | need: 5  | need: 5  | need: 5  | need: 5  |\n",
      "|         | nurses:  | nurses:  | nurses:  | nurses:  | nurses:  | nurses:  | nurses:  |\n",
      "| shift 3 | need: 5  | need: 5  | need: 5  | need: 5  | need: 5  | need: 5  | need: 5  |\n",
      "|         | nurses:  | nurses:  | nurses:  | nurses:  | nurses:  | nurses:  | nurses:  |\n",
      "+---------+----------+----------+----------+----------+----------+----------+----------+\n"
     ]
    }
   ],
   "source": [
    "# Test upside down assignment nurses\n",
    "schedule = Schedule(num_nurses_needed=5)\n",
    "\n",
    "# Create model and nurses\n",
    "model = abm_scheduling.NSP_AB_Model()\n",
    "#nurses = model.generate_nurses(10, 0.5, True)\n",
    "list_nurse_schedules = []\n",
    "list_nurse_schedules.append(matrix_nurse_availability_type3)\n",
    "list_nurse_schedules.append(matrix_nurse_availability_type3)\n",
    "list_nurse_schedules.append(matrix_nurse_availability_type1)\n",
    "list_nurse_schedules.append(matrix_nurse_availability_type1)\n",
    "list_nurse_schedules.append(matrix_nurse_availability_type1)\n",
    "list_nurse_schedules.append(matrix_nurse_availability_type1)\n",
    "list_nurse_schedules.append(matrix_nurse_availability_type2)\n",
    "list_nurse_schedules.append(matrix_nurse_availability_type2)\n",
    "list_nurse_schedules.append(matrix_nurse_availability_type2)\n",
    "list_nurse_schedules.append(matrix_nurse_availability_type2)\n",
    "nurses = model.generate_nurses_from_nurse_schedules(list_nurse_schedules)\n",
    "schedule.print_schedule(schedule_name=\"Intial Situation\")"
   ]
  },
  {
   "cell_type": "code",
   "execution_count": 5,
   "metadata": {},
   "outputs": [
    {
     "name": "stdout",
     "output_type": "stream",
     "text": [
      "11-06-19 23 34 37\n",
      "Week's Schedule Best Schedule. Beta: (0.9),p: (0.001)\n",
      "+---------+----------+----------+----------+----------+----------+----------+----------+\n",
      "|         | Mo       | Tu       | We       | Th       | Fr       | Sa       | So       |\n",
      "+---------+----------+----------+----------+----------+----------+----------+----------+\n",
      "| shift 1 | need: 5  | need: 5  | need: 5  | need: 5  | need: 5  | need: 5  | need: 5  |\n",
      "|         | nurses:  | nurses:  | nurses:  | nurses:  | nurses:  | nurses:  | nurses:  |\n",
      "|         | 0,3,1,6, | 1,6,5,0, | 5,3,8    | 6,5,0,8, | 2,4,0,5, |          |          |\n",
      "|         | 9        | 7        |          | 1        | 1        |          |          |\n",
      "| shift 2 | need: 5  | need: 5  | need: 5  | need: 5  | need: 5  | need: 5  | need: 5  |\n",
      "|         | nurses:  | nurses:  | nurses:  | nurses:  | nurses:  | nurses:  | nurses:  |\n",
      "|         | 4,2,5    | 2,3,8,4  | 4,6,2    | 4,2,3    | 7,3,6    |          |          |\n",
      "| shift 3 | need: 5  | need: 5  | need: 5  | need: 5  | need: 5  | need: 5  | need: 5  |\n",
      "|         | nurses:  | nurses:  | nurses:  | nurses:  | nurses:  | nurses:  | nurses:  |\n",
      "|         | 8,7      | 9        | 7,9      | 7,9      | 8,9      |          |          |\n",
      "+---------+----------+----------+----------+----------+----------+----------+----------+\n",
      "Solution shift coverage: 0.45714285714285713\n",
      "Solution utility:  432.0\n",
      "Agent satisfaction:  4889.113294839875\n",
      "11-06-19 23 34 50\n",
      "00:00:13\n"
     ]
    }
   ],
   "source": [
    "# Default utility function (no agent satisfaction)\n",
    "start_time = datetime.today()\n",
    "print(str(start_time.strftime(\"%d-%m-%y %H %M %S\")))\n",
    "results_B_09 = model.run(schedule=schedule, nurses=nurses, beta=0.9, \n",
    "                         p_to_accept_negative_change=.001, utility_function_parameters = None)\n",
    "end_time = datetime.today()\n",
    "print(str(end_time.strftime(\"%d-%m-%y %H %M %S\")))\n",
    "print_elapsed_time(start_time,end_time)"
   ]
  },
  {
   "cell_type": "code",
   "execution_count": 6,
   "metadata": {},
   "outputs": [
    {
     "name": "stdout",
     "output_type": "stream",
     "text": [
      "Nurse productivity -  \n",
      "-- 0 ------------------------------- \n",
      "assigned:4,\tmin:4,\tmax: 4,\tdeg.availab:0.19,\tprod: 1.00,\tsatisf: 1291.9271\n",
      "-- 1 ------------------------------- \n",
      "assigned:4,\tmin:4,\tmax: 4,\tdeg.availab:0.19,\tprod: 1.00,\tsatisf: 1291.9271\n",
      "-- 2 ------------------------------- \n",
      "assigned:5,\tmin:6,\tmax: 6,\tdeg.availab:0.48,\tprod: 0.83,\tsatisf: 627.7185\n",
      "-- 3 ------------------------------- \n",
      "assigned:5,\tmin:6,\tmax: 6,\tdeg.availab:0.48,\tprod: 0.83,\tsatisf: 627.7185\n",
      "-- 4 ------------------------------- \n",
      "assigned:5,\tmin:6,\tmax: 6,\tdeg.availab:0.48,\tprod: 0.83,\tsatisf: 627.7185\n",
      "-- 5 ------------------------------- \n",
      "assigned:5,\tmin:6,\tmax: 6,\tdeg.availab:0.48,\tprod: 0.83,\tsatisf: 627.7185\n",
      "-- 6 ------------------------------- \n",
      "assigned:5,\tmin:6,\tmax: 6,\tdeg.availab:0.71,\tprod: 0.83,\tsatisf: 627.7185\n",
      "-- 7 ------------------------------- \n",
      "assigned:9,\tmin:6,\tmax: 6,\tdeg.availab:0.71,\tprod: 1.50,\tsatisf: -500.0000\n",
      "-- 8 ------------------------------- \n",
      "assigned:7,\tmin:6,\tmax: 6,\tdeg.availab:0.71,\tprod: 1.17,\tsatisf: -166.6667\n",
      "-- 9 ------------------------------- \n",
      "assigned:7,\tmin:6,\tmax: 6,\tdeg.availab:0.71,\tprod: 1.17,\tsatisf: -166.6667\n"
     ]
    }
   ],
   "source": [
    "model.print_nurse_productivity(nurses)"
   ]
  },
  {
   "cell_type": "code",
   "execution_count": 7,
   "metadata": {},
   "outputs": [
    {
     "name": "stdout",
     "output_type": "stream",
     "text": [
      "11-06-19 23 35 36\n",
      "Week's Schedule Best Schedule. Beta: (0.9),p: (0.001)\n",
      "+---------+----------+----------+----------+----------+----------+----------+----------+\n",
      "|         | Mo       | Tu       | We       | Th       | Fr       | Sa       | So       |\n",
      "+---------+----------+----------+----------+----------+----------+----------+----------+\n",
      "| shift 1 | need: 5  | need: 5  | need: 5  | need: 5  | need: 5  | need: 5  | need: 5  |\n",
      "|         | nurses:  | nurses:  | nurses:  | nurses:  | nurses:  | nurses:  | nurses:  |\n",
      "|         | 0,4,9,1, | 0,1,9    | 8,5,2,7, | 2,9,0,1  | 0,3,1,4  |          |          |\n",
      "|         | 5        |          | 4        |          |          |          |          |\n",
      "| shift 2 | need: 5  | need: 5  | need: 5  | need: 5  | need: 5  | need: 5  | need: 5  |\n",
      "|         | nurses:  | nurses:  | nurses:  | nurses:  | nurses:  | nurses:  | nurses:  |\n",
      "|         | 3,2,6    | 5,3,4,2  | 9,6,7,3  | 4,5,3    | 5,6,2    |          |          |\n",
      "| shift 3 | need: 5  | need: 5  | need: 5  | need: 5  | need: 5  | need: 5  | need: 5  |\n",
      "|         | nurses:  | nurses:  | nurses:  | nurses:  | nurses:  | nurses:  | nurses:  |\n",
      "|         | 7,8      | 7,6,8    | 7        | 8,7,6    | 8,7,9    |          |          |\n",
      "+---------+----------+----------+----------+----------+----------+----------+----------+\n",
      "Solution shift coverage: 0.47619047619047616\n",
      "Solution utility:  61.51486084270669\n",
      "Agent satisfaction:  5683.498453807852\n",
      "11-06-19 23 37 54\n",
      "00:03:17\n"
     ]
    }
   ],
   "source": [
    "# Agent satisfaction utility function\n",
    "print(str(datetime.today().strftime(\"%d-%m-%y %H %M %S\")))\n",
    "utility_function_parameters = abm_scheduling.Utility_Function_Parameters()\n",
    "utility_function_parameters.utility_function = 'agent_satisfaction'\n",
    "results_B_09 = model.run(schedule=schedule, nurses=nurses, beta=0.9, \n",
    "                         p_to_accept_negative_change=.001, utility_function_parameters = utility_function_parameters)\n",
    "end_time = datetime.today()\n",
    "print(str(end_time.strftime(\"%d-%m-%y %H %M %S\")))\n",
    "print_elapsed_time(start_time,end_time)"
   ]
  },
  {
   "cell_type": "code",
   "execution_count": 8,
   "metadata": {},
   "outputs": [
    {
     "name": "stdout",
     "output_type": "stream",
     "text": [
      "Nurse productivity -  \n",
      "-- 0 ------------------------------- \n",
      "assigned:4,\tmin:4,\tmax: 4,\tdeg.availab:0.19,\tprod: 1.00,\tsatisf: 1291.9271\n",
      "-- 1 ------------------------------- \n",
      "assigned:4,\tmin:4,\tmax: 4,\tdeg.availab:0.19,\tprod: 1.00,\tsatisf: 1291.9271\n",
      "-- 2 ------------------------------- \n",
      "assigned:5,\tmin:6,\tmax: 6,\tdeg.availab:0.48,\tprod: 0.83,\tsatisf: 627.7185\n",
      "-- 3 ------------------------------- \n",
      "assigned:5,\tmin:6,\tmax: 6,\tdeg.availab:0.48,\tprod: 0.83,\tsatisf: 627.7185\n",
      "-- 4 ------------------------------- \n",
      "assigned:5,\tmin:6,\tmax: 6,\tdeg.availab:0.48,\tprod: 0.83,\tsatisf: 627.7185\n",
      "-- 5 ------------------------------- \n",
      "assigned:5,\tmin:6,\tmax: 6,\tdeg.availab:0.48,\tprod: 0.83,\tsatisf: 627.7185\n",
      "-- 6 ------------------------------- \n",
      "assigned:5,\tmin:6,\tmax: 6,\tdeg.availab:0.71,\tprod: 0.83,\tsatisf: 627.7185\n",
      "-- 7 ------------------------------- \n",
      "assigned:7,\tmin:6,\tmax: 6,\tdeg.availab:0.71,\tprod: 1.17,\tsatisf: -166.6667\n",
      "-- 8 ------------------------------- \n",
      "assigned:5,\tmin:6,\tmax: 6,\tdeg.availab:0.71,\tprod: 0.83,\tsatisf: 627.7185\n",
      "-- 9 ------------------------------- \n",
      "assigned:9,\tmin:6,\tmax: 6,\tdeg.availab:0.71,\tprod: 1.50,\tsatisf: -500.0000\n"
     ]
    }
   ],
   "source": [
    "model.print_nurse_productivity(nurses)"
   ]
  },
  {
   "cell_type": "code",
   "execution_count": null,
   "metadata": {},
   "outputs": [],
   "source": []
  }
 ],
 "metadata": {
  "kernelspec": {
   "display_name": "Python 3",
   "language": "python",
   "name": "python3"
  },
  "language_info": {
   "codemirror_mode": {
    "name": "ipython",
    "version": 3
   },
   "file_extension": ".py",
   "mimetype": "text/x-python",
   "name": "python",
   "nbconvert_exporter": "python",
   "pygments_lexer": "ipython3",
   "version": "3.6.8"
  }
 },
 "nbformat": 4,
 "nbformat_minor": 2
}
