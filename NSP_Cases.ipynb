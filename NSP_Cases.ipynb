{
 "cells": [
  {
   "cell_type": "markdown",
   "metadata": {},
   "source": [
    "### NSP Cases\n",
    "\n"
   ]
  },
  {
   "cell_type": "markdown",
   "metadata": {},
   "source": [
    "Here are the libraries / configurations used."
   ]
  },
  {
   "cell_type": "code",
   "execution_count": 1,
   "metadata": {},
   "outputs": [],
   "source": [
    "from abm_scheduling import Schedule as Schedule\n",
    "from abm_scheduling import Nurse as Nurse"
   ]
  },
  {
   "cell_type": "code",
   "execution_count": null,
   "metadata": {},
   "outputs": [],
   "source": []
  },
  {
   "cell_type": "code",
   "execution_count": null,
   "metadata": {},
   "outputs": [],
   "source": []
  },
  {
   "cell_type": "code",
   "execution_count": null,
   "metadata": {},
   "outputs": [],
   "source": []
  },
  {
   "cell_type": "code",
   "execution_count": null,
   "metadata": {},
   "outputs": [],
   "source": []
  },
  {
   "cell_type": "code",
   "execution_count": 2,
   "metadata": {},
   "outputs": [
    {
     "name": "stdout",
     "output_type": "stream",
     "text": [
      "Week's Schedule\n",
      "+---------+----------+----------+----------+----------+----------+----------+----------+\n",
      "|         | Mo       | Tu       | We       | Th       | Fr       | Sa       | So       |\n",
      "+---------+----------+----------+----------+----------+----------+----------+----------+\n",
      "| shift 1 | need: 5  | need: 4  | need: 4  | need: 4  | need: 5  | need: 6  | need: 7  |\n",
      "|         | nurses:  | nurses:  | nurses:  | nurses:  | nurses:  | nurses:  | nurses:  |\n",
      "| shift 2 | need: 8  | need: 7  | need: 7  | need: 7  | need: 7  | need: 7  | need: 5  |\n",
      "|         | nurses:  | nurses:  | nurses:  | nurses:  | nurses:  | nurses:  | nurses:  |\n",
      "| shift 3 | need: 5  | need: 4  | need: 4  | need: 5  | need: 7  | need: 8  | need: 5  |\n",
      "|         | nurses:  | nurses:  | nurses:  | nurses:  | nurses:  | nurses:  | nurses:  |\n",
      "+---------+----------+----------+----------+----------+----------+----------+----------+\n"
     ]
    }
   ],
   "source": [
    "#%% Defined numbers\n",
    "# Mo 1,2,3, Tu 1,2,3, We...\n",
    "matrix_nurses_needed = [5,8,5, 4,7,4, 4,7,4, 4,7,5, 5,7,7, 6,7,8, 7,5,5]\n",
    "schedule_random = Schedule(matrix_nurses_needed=matrix_nurses_needed, is_random=False)\n",
    "schedule_random.print_schedule()"
   ]
  },
  {
   "cell_type": "code",
   "execution_count": null,
   "metadata": {},
   "outputs": [],
   "source": [
    "# --example schedules--\n",
    "schedule_fixed = Schedule(num_nurses_needed=3)\n",
    "schedule_fixed.print_schedule()"
   ]
  },
  {
   "cell_type": "code",
   "execution_count": null,
   "metadata": {},
   "outputs": [],
   "source": [
    "schedule_random = Schedule(num_nurses_needed=3, is_random=True)\n",
    "schedule_random.print_schedule()"
   ]
  },
  {
   "cell_type": "code",
   "execution_count": null,
   "metadata": {},
   "outputs": [],
   "source": [
    "# --example nurses--\n",
    "# full time, no weekends\n",
    "nurse = Nurse(id_name=0)\n",
    "nurse.generate_shift_preferences(degree_of_agent_availability=1, works_weekends=False)\n",
    "nurse.print_shift_preferences()"
   ]
  },
  {
   "cell_type": "code",
   "execution_count": null,
   "metadata": {
    "scrolled": false
   },
   "outputs": [],
   "source": [
    "# full time, weekends\n",
    "nurse = Nurse(id_name=1)\n",
    "nurse.generate_shift_preferences(degree_of_agent_availability=1, works_weekends=True)\n",
    "nurse.print_shift_preferences()"
   ]
  },
  {
   "cell_type": "code",
   "execution_count": null,
   "metadata": {},
   "outputs": [],
   "source": [
    "# part time, weekends\n",
    "nurse = Nurse(id_name=3)\n",
    "nurse.generate_shift_preferences(degree_of_agent_availability=0.5, works_weekends=True)\n",
    "nurse.print_shift_preferences()"
   ]
  },
  {
   "cell_type": "code",
   "execution_count": 3,
   "metadata": {},
   "outputs": [
    {
     "name": "stdout",
     "output_type": "stream",
     "text": [
      "Nurse 2's Preferences\n",
      "+---------+----+----+----+----+----+----+----+\n",
      "|         | Mo | Tu | We | Th | Fr | Sa | So |\n",
      "+---------+----+----+----+----+----+----+----+\n",
      "| shift 1 | x  | x  | x  |    | x  |    |    |\n",
      "| shift 2 | x  |    | x  | x  | x  |    |    |\n",
      "| shift 3 |    | x  | x  | x  |    |    |    |\n",
      "+---------+----+----+----+----+----+----+----+\n"
     ]
    }
   ],
   "source": [
    "# part time, no weekends\n",
    "nurse = Nurse(id_name=2)\n",
    "nurse.generate_shift_preferences(degree_of_agent_availability=0.78, works_weekends=False)\n",
    "nurse.print_shift_preferences()"
   ]
  },
  {
   "cell_type": "code",
   "execution_count": null,
   "metadata": {},
   "outputs": [],
   "source": [
    "# --example generating nurses--\n",
    "# generate 4 nurses that work 50% and on weekends\n",
    "nurses = []\n",
    "num_nurses = 4\n",
    "for n in range(num_nurses):\n",
    "    nurse = Nurse(id_name=n)\n",
    "    nurse.generate_shift_preferences(degree_of_agent_availability=0.5, works_weekends=True)\n",
    "    nurses.append(nurse)\n",
    "    nurse.print_shift_preferences()"
   ]
  },
  {
   "cell_type": "code",
   "execution_count": null,
   "metadata": {},
   "outputs": [],
   "source": [
    "# -- example assign nurse to shift --\n",
    "nurses[0].print_shift_preferences()"
   ]
  },
  {
   "cell_type": "code",
   "execution_count": null,
   "metadata": {},
   "outputs": [],
   "source": [
    "schedule = Schedule(num_nurses_needed=3)\n",
    "candidate_schedule = copy.deepcopy(schedule)\n",
    "best_schedule = copy.deepcopy(schedule)\n",
    "best_utility = 0\n",
    "nurses = generate_nurses(10, 0.5, True)\n",
    "p_to_accept_negative_change = .001\n",
    "# show what all shift preferences look like in the schedule\n",
    "hypothetical_max_schedule = copy.deepcopy(schedule)\n",
    "for nurse in nurses:\n",
    "    for shift in nurse.shift_preferences:\n",
    "        hypothetical_max_schedule.add_nurse_to_shift(nurse, shift, False)\n",
    "        \n",
    "schedule.print_schedule()\n",
    "hypothetical_max_schedule.print_schedule()\n",
    "print('Crude hypothetical shift coverage:', hypothetical_max_schedule.get_shift_coverage())\n",
    "\n",
    "utility_each_timestep = []\n",
    "shift_coverage_each_timestep = []\n",
    "# timestep is for each nurse, so total timesteps = x * num_nurses where x is range(x)\n",
    "for timestep in range(10000):\n",
    "    for nurse in nurses:\n",
    "        schedule_utility = schedule.get_utility()\n",
    "        utility_each_timestep.append(schedule_utility)\n",
    "        shift_coverage_each_timestep.append(schedule.get_shift_coverage())\n",
    "        # keep track of best utility\n",
    "        if schedule_utility > best_utility:\n",
    "            best_schedule.schedule = copy.deepcopy(schedule.schedule)\n",
    "            best_utility = schedule_utility\n",
    "        rnd_i = rnd.randint(len(nurse.shift_preferences))\n",
    "        rnd_shift_pref = nurse.shift_preferences[rnd_i]\n",
    "        was_in_shift = rnd_shift_pref in nurse.shifts\n",
    "        # try adding/removing shift depending on whether the shift is assigned\n",
    "        if not was_in_shift:\n",
    "            candidate_schedule.add_nurse_to_shift(nurse, rnd_shift_pref, False)\n",
    "        else:\n",
    "            candidate_schedule.remove_nurse_from_shift(nurse, rnd_shift_pref, False)\n",
    "        # if the change was better or randomly accept negative change, apply change to schedule\n",
    "        if (candidate_schedule.get_utility() > schedule_utility) or (rnd.random_sample() < p_to_accept_negative_change):\n",
    "            if not was_in_shift:\n",
    "                schedule.add_nurse_to_shift(nurse, rnd_shift_pref, True)\n",
    "            else:\n",
    "                schedule.remove_nurse_from_shift(nurse, rnd_shift_pref, True)\n",
    "        # if the change was worse, undo the change to the candidate schedule\n",
    "        else:\n",
    "            if not was_in_shift:\n",
    "                candidate_schedule.remove_nurse_from_shift(nurse, rnd_shift_pref, False)\n",
    "            else:\n",
    "                candidate_schedule.add_nurse_to_shift(nurse, rnd_shift_pref, False)\n",
    "\n",
    "best_schedule.print_schedule()\n",
    "print('Solution shift coverage:',best_schedule.get_shift_coverage())\n",
    "print('Solution utility', best_schedule.get_utility())\n",
    "\n",
    "plt.figure()\n",
    "plt.plot(utility_each_timestep, label = \"utility\")\n",
    "plt.title(\"Schedule utility of each timestep\")\n",
    "plt.xlabel(\"timestep\")\n",
    "plt.ylabel(\"utility\")\n",
    "plt.legend()\n",
    "plt.show()\n",
    "\n",
    "plt.figure()\n",
    "plt.plot(shift_coverage_each_timestep, label = \"shift coverage\")\n",
    "plt.title(\"Shift coverage of each timestep\")\n",
    "plt.xlabel(\"timestep\")\n",
    "plt.ylabel(\"shift coverage\")\n",
    "plt.legend()\n",
    "plt.show()"
   ]
  },
  {
   "cell_type": "code",
   "execution_count": null,
   "metadata": {},
   "outputs": [],
   "source": []
  }
 ],
 "metadata": {
  "kernelspec": {
   "display_name": "Python 3",
   "language": "python",
   "name": "python3"
  },
  "language_info": {
   "codemirror_mode": {
    "name": "ipython",
    "version": 3
   },
   "file_extension": ".py",
   "mimetype": "text/x-python",
   "name": "python",
   "nbconvert_exporter": "python",
   "pygments_lexer": "ipython3",
   "version": "3.6.8"
  }
 },
 "nbformat": 4,
 "nbformat_minor": 2
}
