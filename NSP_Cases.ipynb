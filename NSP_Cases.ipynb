{
 "cells": [
  {
   "cell_type": "markdown",
   "metadata": {},
   "source": [
    "### NSP Cases\n",
    "\n"
   ]
  },
  {
   "cell_type": "markdown",
   "metadata": {},
   "source": [
    "Here are the libraries / configurations used."
   ]
  },
  {
   "cell_type": "code",
   "execution_count": 1,
   "metadata": {},
   "outputs": [],
   "source": [
    "import abm_scheduling\n",
    "from abm_scheduling import Schedule as Schedule\n",
    "from abm_scheduling import Nurse as Nurse"
   ]
  },
  {
   "cell_type": "markdown",
   "metadata": {},
   "source": [
    "### Case - No weekends"
   ]
  },
  {
   "cell_type": "code",
   "execution_count": 2,
   "metadata": {},
   "outputs": [
    {
     "name": "stdout",
     "output_type": "stream",
     "text": [
      "Week's Schedule Intial Situation\n",
      "+---------+----------+----------+----------+----------+----------+----------+----------+\n",
      "|         | Mo       | Tu       | We       | Th       | Fr       | Sa       | So       |\n",
      "+---------+----------+----------+----------+----------+----------+----------+----------+\n",
      "| shift 1 | need: 3  | need: 3  | need: 3  | need: 3  | need: 3  | need: 3  | need: 3  |\n",
      "|         | nurses:  | nurses:  | nurses:  | nurses:  | nurses:  | nurses:  | nurses:  |\n",
      "| shift 2 | need: 3  | need: 3  | need: 3  | need: 3  | need: 3  | need: 3  | need: 3  |\n",
      "|         | nurses:  | nurses:  | nurses:  | nurses:  | nurses:  | nurses:  | nurses:  |\n",
      "| shift 3 | need: 3  | need: 3  | need: 3  | need: 3  | need: 3  | need: 3  | need: 3  |\n",
      "|         | nurses:  | nurses:  | nurses:  | nurses:  | nurses:  | nurses:  | nurses:  |\n",
      "+---------+----------+----------+----------+----------+----------+----------+----------+\n"
     ]
    }
   ],
   "source": [
    "#%% Initializations\n",
    "p_to_accept_negative_change = .001\n",
    "\n",
    "# Situation definition\n",
    "matrix_nurses_needed = [5,8,5, 4,7,4, 4,7,4, 4,7,5, 5,7,7, 6,7,8, 7,5,5]\n",
    "matrix_nurse_availability_type1 = ['x','x','', 'x','x','',  'x','x','', 'x','x','', 'x','x','', '','','', '','','']\n",
    "matrix_nurse_availability_type2 = ['x','x','x', 'x','x','x',  'x','x','x', 'x','x','x', 'x','x','x', '','','', '','','']\n",
    "\n",
    "# Create Schedule\n",
    "#schedule_random = Schedule(matrix_nurses_needed=matrix_nurses_needed, is_random=False)\n",
    "schedule = Schedule(num_nurses_needed=3)\n",
    "\n",
    "# Create model and nurses\n",
    "model = abm_scheduling.NSP_AB_Model()\n",
    "#nurses = model.generate_nurses(10, 0.5, True)\n",
    "list_nurse_schedules = []\n",
    "list_nurse_schedules.append(matrix_nurse_availability_type1)\n",
    "list_nurse_schedules.append(matrix_nurse_availability_type1)\n",
    "list_nurse_schedules.append(matrix_nurse_availability_type1)\n",
    "list_nurse_schedules.append(matrix_nurse_availability_type1)\n",
    "list_nurse_schedules.append(matrix_nurse_availability_type1)\n",
    "list_nurse_schedules.append(matrix_nurse_availability_type2)\n",
    "list_nurse_schedules.append(matrix_nurse_availability_type2)\n",
    "list_nurse_schedules.append(matrix_nurse_availability_type2)\n",
    "list_nurse_schedules.append(matrix_nurse_availability_type2)\n",
    "list_nurse_schedules.append(matrix_nurse_availability_type2)\n",
    "nurses = model.generate_nurses_from_nurse_schedules(list_nurse_schedules)\n",
    "schedule.print_schedule(schedule_name=\"Intial Situation\")"
   ]
  },
  {
   "cell_type": "code",
   "execution_count": 3,
   "metadata": {},
   "outputs": [
    {
     "name": "stdout",
     "output_type": "stream",
     "text": [
      "Week's Schedule Hypothetical Maximum\n",
      "+---------+----------+----------+----------+----------+----------+----------+----------+\n",
      "|         | Mo       | Tu       | We       | Th       | Fr       | Sa       | So       |\n",
      "+---------+----------+----------+----------+----------+----------+----------+----------+\n",
      "| shift 1 | need: 3  | need: 3  | need: 3  | need: 3  | need: 3  | need: 3  | need: 3  |\n",
      "|         | nurses:  | nurses:  | nurses:  | nurses:  | nurses:  | nurses:  | nurses:  |\n",
      "|         | 0,1,2,3, | 0,1,2,3, | 0,1,2,3, | 0,1,2,3, | 0,1,2,3, |          |          |\n",
      "|         | 4,5,6,7, | 4,5,6,7, | 4,5,6,7, | 4,5,6,7, | 4,5,6,7, |          |          |\n",
      "|         | 8,9      | 8,9      | 8,9      | 8,9      | 8,9      |          |          |\n",
      "| shift 2 | need: 3  | need: 3  | need: 3  | need: 3  | need: 3  | need: 3  | need: 3  |\n",
      "|         | nurses:  | nurses:  | nurses:  | nurses:  | nurses:  | nurses:  | nurses:  |\n",
      "|         | 0,1,2,3, | 0,1,2,3, | 0,1,2,3, | 0,1,2,3, | 0,1,2,3, |          |          |\n",
      "|         | 4,5,6,7, | 4,5,6,7, | 4,5,6,7, | 4,5,6,7, | 4,5,6,7, |          |          |\n",
      "|         | 8,9      | 8,9      | 8,9      | 8,9      | 8,9      |          |          |\n",
      "| shift 3 | need: 3  | need: 3  | need: 3  | need: 3  | need: 3  | need: 3  | need: 3  |\n",
      "|         | nurses:  | nurses:  | nurses:  | nurses:  | nurses:  | nurses:  | nurses:  |\n",
      "|         | 5,6,7,8, | 5,6,7,8, | 5,6,7,8, | 5,6,7,8, | 5,6,7,8, |          |          |\n",
      "|         | 9        | 9        | 9        | 9        | 9        |          |          |\n",
      "+---------+----------+----------+----------+----------+----------+----------+----------+\n",
      "Crude hypothetical shift coverage: 0.7142857142857143\n",
      "Shift Coverage Hypothetical Maximum\n",
      "+---------+------------+------------+------------+------------+------------+-----------+-----------+\n",
      "|         | Mo         | Tu         | We         | Th         | Fr         | Sa        | So        |\n",
      "+---------+------------+------------+------------+------------+------------+-----------+-----------+\n",
      "| shift 1 | need: 3    | need: 3    | need: 3    | need: 3    | need: 3    | need: 3   | need: 3   |\n",
      "|         | nurses: 10 | nurses: 10 | nurses: 10 | nurses: 10 | nurses: 10 | nurses: 0 | nurses: 0 |\n",
      "|         | (3.33)     | (3.33)     | (3.33)     | (3.33)     | (3.33)     | (0)       | (0)       |\n",
      "| shift 2 | need: 3    | need: 3    | need: 3    | need: 3    | need: 3    | need: 3   | need: 3   |\n",
      "|         | nurses: 10 | nurses: 10 | nurses: 10 | nurses: 10 | nurses: 10 | nurses: 0 | nurses: 0 |\n",
      "|         | (3.33)     | (3.33)     | (3.33)     | (3.33)     | (3.33)     | (0)       | (0)       |\n",
      "| shift 3 | need: 3    | need: 3    | need: 3    | need: 3    | need: 3    | need: 3   | need: 3   |\n",
      "|         | nurses: 5  | nurses: 5  | nurses: 5  | nurses: 5  | nurses: 5  | nurses: 0 | nurses: 0 |\n",
      "|         | (1.67)     | (1.67)     | (1.67)     | (1.67)     | (1.67)     | (0)       | (0)       |\n",
      "+---------+------------+------------+------------+------------+------------+-----------+-----------+\n"
     ]
    }
   ],
   "source": [
    "model.show_hypothetical_max_schedule(schedule=schedule, nurses=nurses)"
   ]
  },
  {
   "cell_type": "code",
   "execution_count": 4,
   "metadata": {},
   "outputs": [
    {
     "name": "stdout",
     "output_type": "stream",
     "text": [
      "Week's Schedule Best Schedule\n",
      "+---------+----------+----------+----------+----------+----------+----------+----------+\n",
      "|         | Mo       | Tu       | We       | Th       | Fr       | Sa       | So       |\n",
      "+---------+----------+----------+----------+----------+----------+----------+----------+\n",
      "| shift 1 | need: 3  | need: 3  | need: 3  | need: 3  | need: 3  | need: 3  | need: 3  |\n",
      "|         | nurses:  | nurses:  | nurses:  | nurses:  | nurses:  | nurses:  | nurses:  |\n",
      "|         | 9,4,2    | 9,3,4    | 0,7,1    | 1,8,2    | 8,3,1    |          |          |\n",
      "| shift 2 | need: 3  | need: 3  | need: 3  | need: 3  | need: 3  | need: 3  | need: 3  |\n",
      "|         | nurses:  | nurses:  | nurses:  | nurses:  | nurses:  | nurses:  | nurses:  |\n",
      "|         | 6,3,0    | 2,1,5    | 4,6,3    | 0,3,4    | 5,4,0    |          |          |\n",
      "| shift 3 | need: 3  | need: 3  | need: 3  | need: 3  | need: 3  | need: 3  | need: 3  |\n",
      "|         | nurses:  | nurses:  | nurses:  | nurses:  | nurses:  | nurses:  | nurses:  |\n",
      "|         | 7,8,5    | 7,8,6    | 9,8,5    | 5,6,9    | 6,9,7    |          |          |\n",
      "+---------+----------+----------+----------+----------+----------+----------+----------+\n",
      "Solution shift coverage: 0.7142857142857143\n",
      "Solution utility 450\n"
     ]
    }
   ],
   "source": [
    "best_schedule, utility_each_timestep, shift_coverage_each_timestep = model.run(schedule=schedule, nurses=nurses, p_to_accept_negative_change=p_to_accept_negative_change)"
   ]
  },
  {
   "cell_type": "code",
   "execution_count": 5,
   "metadata": {},
   "outputs": [
    {
     "data": {
      "image/png": "[encoded data removed]",
      "text/plain": [
       "<Figure size 432x288 with 1 Axes>"
      ]
     },
     "metadata": {
      "needs_background": "light"
     },
     "output_type": "display_data"
    },
    {
     "data": {
      "image/png": "[encoded data removed]",
      "text/plain": [
       "<Figure size 432x288 with 1 Axes>"
      ]
     },
     "metadata": {
      "needs_background": "light"
     },
     "output_type": "display_data"
    }
   ],
   "source": [
    "model.plot_utility_per_timestep(utility_each_timestep)\n",
    "model.plot_shift_coverage_per_timestep(shift_coverage_each_timestep)\n"
   ]
  },
  {
   "cell_type": "markdown",
   "metadata": {},
   "source": [
    "### Case 2 randoms"
   ]
  },
  {
   "cell_type": "code",
   "execution_count": null,
   "metadata": {},
   "outputs": [],
   "source": [
    "schedule = Schedule(num_nurses_needed=3)\n",
    "candidate_schedule = copy.deepcopy(schedule)\n",
    "best_schedule = copy.deepcopy(schedule)\n",
    "best_utility = 0\n",
    "nurses = generate_nurses(10, 0.5, True)\n",
    "p_to_accept_negative_change = .001\n",
    "# show what all shift preferences look like in the schedule\n",
    "hypothetical_max_schedule = copy.deepcopy(schedule)\n",
    "for nurse in nurses:\n",
    "    for shift in nurse.shift_preferences:\n",
    "        hypothetical_max_schedule.add_nurse_to_shift(nurse, shift, False)\n",
    "        \n",
    "schedule.print_schedule()\n",
    "hypothetical_max_schedule.print_schedule()\n",
    "print('Crude hypothetical shift coverage:', hypothetical_max_schedule.get_shift_coverage())\n",
    "\n",
    "utility_each_timestep = []\n",
    "shift_coverage_each_timestep = []\n",
    "# timestep is for each nurse, so total timesteps = x * num_nurses where x is range(x)\n",
    "for timestep in range(10000):\n",
    "    for nurse in nurses:\n",
    "        schedule_utility = schedule.get_utility()\n",
    "        utility_each_timestep.append(schedule_utility)\n",
    "        shift_coverage_each_timestep.append(schedule.get_shift_coverage())\n",
    "        # keep track of best utility\n",
    "        if schedule_utility > best_utility:\n",
    "            best_schedule.schedule = copy.deepcopy(schedule.schedule)\n",
    "            best_utility = schedule_utility\n",
    "        rnd_i = rnd.randint(len(nurse.shift_preferences))\n",
    "        rnd_shift_pref = nurse.shift_preferences[rnd_i]\n",
    "        was_in_shift = rnd_shift_pref in nurse.shifts\n",
    "        # try adding/removing shift depending on whether the shift is assigned\n",
    "        if not was_in_shift:\n",
    "            candidate_schedule.add_nurse_to_shift(nurse, rnd_shift_pref, False)\n",
    "        else:\n",
    "            candidate_schedule.remove_nurse_from_shift(nurse, rnd_shift_pref, False)\n",
    "        # if the change was better or randomly accept negative change, apply change to schedule\n",
    "        if (candidate_schedule.get_utility() > schedule_utility) or (rnd.random_sample() < p_to_accept_negative_change):\n",
    "            if not was_in_shift:\n",
    "                schedule.add_nurse_to_shift(nurse, rnd_shift_pref, True)\n",
    "            else:\n",
    "                schedule.remove_nurse_from_shift(nurse, rnd_shift_pref, True)\n",
    "        # if the change was worse, undo the change to the candidate schedule\n",
    "        else:\n",
    "            if not was_in_shift:\n",
    "                candidate_schedule.remove_nurse_from_shift(nurse, rnd_shift_pref, False)\n",
    "            else:\n",
    "                candidate_schedule.add_nurse_to_shift(nurse, rnd_shift_pref, False)\n",
    "\n",
    "best_schedule.print_schedule()\n",
    "print('Solution shift coverage:',best_schedule.get_shift_coverage())\n",
    "print('Solution utility', best_schedule.get_utility())\n",
    "\n",
    "plt.figure()\n",
    "plt.plot(utility_each_timestep, label = \"utility\")\n",
    "plt.title(\"Schedule utility of each timestep\")\n",
    "plt.xlabel(\"timestep\")\n",
    "plt.ylabel(\"utility\")\n",
    "plt.legend()\n",
    "plt.show()\n",
    "\n",
    "plt.figure()\n",
    "plt.plot(shift_coverage_each_timestep, label = \"shift coverage\")\n",
    "plt.title(\"Shift coverage of each timestep\")\n",
    "plt.xlabel(\"timestep\")\n",
    "plt.ylabel(\"shift coverage\")\n",
    "plt.legend()\n",
    "plt.show()"
   ]
  },
  {
   "cell_type": "code",
   "execution_count": null,
   "metadata": {},
   "outputs": [],
   "source": []
  }
 ],
 "metadata": {
  "kernelspec": {
   "display_name": "Python 3",
   "language": "python",
   "name": "python3"
  },
  "language_info": {
   "codemirror_mode": {
    "name": "ipython",
    "version": 3
   },
   "file_extension": ".py",
   "mimetype": "text/x-python",
   "name": "python",
   "nbconvert_exporter": "python",
   "pygments_lexer": "ipython3",
   "version": "3.6.8"
  }
 },
 "nbformat": 4,
 "nbformat_minor": 2
}
