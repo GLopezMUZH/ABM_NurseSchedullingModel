{
 "cells": [
  {
   "cell_type": "markdown",
   "metadata": {},
   "source": [
    "### Agent-Based Modelling - FS19\n",
    "# ABM Final - Gabriela Lopez & Luca Weibel\n",
    "\n"
   ]
  },
  {
   "cell_type": "markdown",
   "metadata": {},
   "source": [
    "Here are the libraries / configurations used."
   ]
  },
  {
   "cell_type": "code",
   "execution_count": 1,
   "metadata": {},
   "outputs": [],
   "source": [
    "%config IPCompleter.greedy=True\n",
    "\n",
    "import importlib\n",
    "import abm_scheduling as sch\n",
    "\n",
    "#from prettytable import PrettyTable"
   ]
  },
  {
   "cell_type": "code",
   "execution_count": 2,
   "metadata": {},
   "outputs": [
    {
     "data": {
      "text/plain": [
       "<module 'abm_scheduling' from 'C:\\\\Users\\\\glopez\\\\uzh_stuff\\\\MOEC0559AgentBasedModeling\\\\ABM_NurseSchedullingModel\\\\abm_scheduling\\\\__init__.py'>"
      ]
     },
     "execution_count": 2,
     "metadata": {},
     "output_type": "execute_result"
    }
   ],
   "source": [
    "importlib.reload(sch)"
   ]
  },
  {
   "cell_type": "code",
   "execution_count": 3,
   "metadata": {},
   "outputs": [
    {
     "name": "stdout",
     "output_type": "stream",
     "text": [
      " \t  monday  tuesday  wednesday  thursday  friday  saturday  sunday \n",
      "0\t need: 3    \tneed: 3    \tneed: 3    \tneed: 3    \tneed: 3    \tneed: 3    \tneed: 3    \t\n",
      "0\t nurses: []\t nurses: []\t nurses: []\t nurses: []\t nurses: []\t nurses: []\t nurses: []\t \n",
      "1\t need: 3    \tneed: 3    \tneed: 3    \tneed: 3    \tneed: 3    \tneed: 3    \tneed: 3    \t\n",
      "1\t nurses: []\t nurses: []\t nurses: []\t nurses: []\t nurses: []\t nurses: []\t nurses: []\t \n",
      "2\t need: 3    \tneed: 3    \tneed: 3    \tneed: 3    \tneed: 3    \tneed: 3    \tneed: 3    \t\n",
      "2\t nurses: []\t nurses: []\t nurses: []\t nurses: []\t nurses: []\t nurses: []\t nurses: []\t \n"
     ]
    }
   ],
   "source": [
    "# --example schedules--\n",
    "schedule_fixed = sch.Schedule(num_nurses_needed=3)\n",
    "schedule_fixed.print_schedule()"
   ]
  },
  {
   "cell_type": "code",
   "execution_count": 4,
   "metadata": {},
   "outputs": [
    {
     "name": "stdout",
     "output_type": "stream",
     "text": [
      " \t  monday  tuesday  wednesday  thursday  friday  saturday  sunday \n",
      "0\t need: 1    \tneed: 0    \tneed: 2    \tneed: 1    \tneed: 3    \tneed: 0    \tneed: 0    \t\n",
      "0\t nurses: []\t nurses: []\t nurses: []\t nurses: []\t nurses: []\t nurses: []\t nurses: []\t \n",
      "1\t need: 2    \tneed: 1    \tneed: 3    \tneed: 3    \tneed: 0    \tneed: 3    \tneed: 2    \t\n",
      "1\t nurses: []\t nurses: []\t nurses: []\t nurses: []\t nurses: []\t nurses: []\t nurses: []\t \n",
      "2\t need: 0    \tneed: 1    \tneed: 2    \tneed: 2    \tneed: 0    \tneed: 2    \tneed: 0    \t\n",
      "2\t nurses: []\t nurses: []\t nurses: []\t nurses: []\t nurses: []\t nurses: []\t nurses: []\t \n"
     ]
    }
   ],
   "source": [
    "schedule_random = sch.Schedule(num_nurses_needed=3, is_random=True)\n",
    "schedule_random.print_schedule()"
   ]
  },
  {
   "cell_type": "code",
   "execution_count": null,
   "metadata": {
    "scrolled": false
   },
   "outputs": [],
   "source": [
    "# --example nurses--\n",
    "# full time, no weekends\n",
    "nurse = Nurse(id_name=0)\n",
    "nurse.generate_shift_preferences(degree_of_agent_availability=1, works_weekends=False)\n",
    "nurse.print_shift_preferences()\n",
    "\n",
    "# full time, weekends\n",
    "nurse = Nurse(id_name=1)\n",
    "nurse.generate_shift_preferences(degree_of_agent_availability=1, works_weekends=True)\n",
    "nurse.print_shift_preferences()\n",
    "\n",
    "# part time, no weekends\n",
    "nurse = Nurse(id_name=2)\n",
    "nurse.generate_shift_preferences(degree_of_agent_availability=0.5, works_weekends=False)\n",
    "nurse.print_shift_preferences()\n",
    "\n",
    "# part time, weekends\n",
    "nurse = Nurse(id_name=3)\n",
    "nurse.generate_shift_preferences(degree_of_agent_availability=0.5, works_weekends=True)\n",
    "nurse.print_shift_preferences()\n",
    "\n",
    "# --example generating nurses--\n",
    "# generate 10 nurses that work 50% and on weekends\n",
    "nurses = []\n",
    "num_nurses = 10\n",
    "for n in range(num_nurses):\n",
    "    nurse = Nurse(id_name=n)\n",
    "    nurse.generate_shift_preferences(degree_of_agent_availability=0.5, works_weekends=True)\n",
    "    nurses.append(nurse)"
   ]
  },
  {
   "cell_type": "code",
   "execution_count": null,
   "metadata": {},
   "outputs": [],
   "source": []
  },
  {
   "cell_type": "code",
   "execution_count": null,
   "metadata": {},
   "outputs": [],
   "source": []
  },
  {
   "cell_type": "markdown",
   "metadata": {},
   "source": [
    "# ---- FOR REFERENCE ---- "
   ]
  },
  {
   "cell_type": "markdown",
   "metadata": {},
   "source": [
    "# S07 Exercises - Luca Weibel\n",
    "\n"
   ]
  },
  {
   "cell_type": "markdown",
   "metadata": {},
   "source": [
    "### Exercise 7.1: Forest fire model"
   ]
  },
  {
   "cell_type": "markdown",
   "metadata": {},
   "source": [
    "#### Task\n",
    "Here we compute the production (average number of trees before after each summer, i.e. after each\n",
    "fire phase) as a function of $g$ considering both Moore (8-neighborhood) and Von Neumann (4-neighborhood).\n",
    "\n",
    "The system parameters are system size $L=20,40$ (where forest is of size $L$x$L$), $f=0.001$, and total time steps $t_{max}=1000$."
   ]
  },
  {
   "cell_type": "code",
   "execution_count": null,
   "metadata": {},
   "outputs": [],
   "source": [
    "L_s = [20, 40]\n",
    "f = 0.001\n",
    "t_max = 1000\n",
    "growth_rates = [g for g in range(0, 101, 10)]\n",
    "methods = ['Von Neumann', 'Moore']\n",
    "reps = 5\n",
    "\n",
    "for method in methods:\n",
    "    for L in L_s:\n",
    "        # Von Neumann - generates 4-neighborhood\n",
    "        net = nx.grid_2d_graph(L, L, periodic=False)\n",
    "        net = nx.convert_node_labels_to_integers(net)\n",
    "        if method == 'Moore':\n",
    "            # add aditional edges\n",
    "            for node in net.nodes():\n",
    "                x = node % L\n",
    "                y = node // L\n",
    "                # top right\n",
    "                if x + 1 < L and y - 1 >= 0:\n",
    "                    net.add_edge(node, node - L + 1)\n",
    "                # bottom right\n",
    "                if x + 1 < L and y + 1 < L:\n",
    "                    net.add_edge(node, node + L + 1)\n",
    "                # bottom left\n",
    "                if x - 1 >= 0 and y + 1 < L:\n",
    "                    net.add_edge(node, node + L - 1)\n",
    "                # top left\n",
    "                if x - 1 >= 0 and y - 1 >= 0:\n",
    "                    net.add_edge(node, node - L - 1)\n",
    "        avg_num_trees_before_each_summer = []\n",
    "        for g in growth_rates:\n",
    "            all_reps = []\n",
    "            for rep in range(reps):\n",
    "                forest = [0] * (L * L)\n",
    "                num_trees_before_each_summer = []\n",
    "                for t in range(t_max):\n",
    "                    num_trees_before_each_summer.append(forest.count(1))\n",
    "                    for i in range(len(forest)):\n",
    "                        # growth phase\n",
    "                        if forest[i] == 0:\n",
    "                            forest[i] = int(rnd.uniform() < (g * 0.01))\n",
    "                        # fire phase - init\n",
    "                        if forest[i] == 1:\n",
    "                            forest[i] = int(rnd.uniform() < f) + 1\n",
    "                    # fire phase - burn\n",
    "                    burning_trees = [idx for idx, tree in enumerate(forest) if tree == 2]\n",
    "                    for burning_tree in burning_trees:\n",
    "                        burning_tree_neighbors = [_ for _ in net.neighbors(burning_tree)]\n",
    "                        for neighbor in burning_tree_neighbors:\n",
    "                            if forest[neighbor] == 1:\n",
    "                                forest[neighbor] = 2\n",
    "                                if neighbor not in burning_trees:\n",
    "                                    burning_trees.append(neighbor)               \n",
    "                    for burnt_tree in burning_trees:\n",
    "                        forest[burnt_tree] = 0\n",
    "                all_reps.append(np.mean(num_trees_before_each_summer))\n",
    "            avg_num_trees_before_each_summer.append(np.mean(all_reps))\n",
    "\n",
    "        plt.figure()\n",
    "        plt.plot(growth_rates, avg_num_trees_before_each_summer, label = \"Production\")\n",
    "        plt.title(f'Production as a function of g with {method} neighborhood, L={L}, f={f}, t_max={t_max}, and repetitions={reps}')\n",
    "        plt.xlabel(\"Growth Rate (%)\")\n",
    "        plt.ylabel(\"Production (trees)\")\n",
    "        plt.legend()\n",
    "        plt.show()"
   ]
  },
  {
   "cell_type": "markdown",
   "metadata": {},
   "source": [
    "### Exercise 7.2: Sand Pile Model"
   ]
  },
  {
   "cell_type": "markdown",
   "metadata": {},
   "source": [
    "#### Task\n",
    "Here we plot the theoretical and experimental (10,000 trials) avalanche (number of topples caused) distribution with $T=2$ and $k=1$ for different network size $N$. Then we plot the experimental (10,000 trials) avalanche (number of topples caused) distribution with $T=6$ and $k=1$ for different network size $N$. We remove the 0 avalanches count in order to more easily analyze the distributions.\n",
    "\n",
    "The system parameters are number of agents $N=10,20,50,100$."
   ]
  },
  {
   "cell_type": "code",
   "execution_count": null,
   "metadata": {
    "scrolled": false
   },
   "outputs": [],
   "source": [
    "N_s = [10, 20, 50, 100]\n",
    "T = 2\n",
    "k = 1\n",
    "Ai = 1\n",
    "\n",
    "for N in N_s:\n",
    "    agents = [Ai] * N\n",
    "    topples_caused = []\n",
    "    theoretical_topples_caused = []\n",
    "    for trails in range(10000):\n",
    "        # add a grain to one agent randomly selected\n",
    "        rnd_i = rnd.randint(N)\n",
    "        # calculate theoretical topples\n",
    "        d = min(rnd_i, N - rnd_i)\n",
    "        M = 0\n",
    "        if agents[rnd_i] >= T - 1:\n",
    "            for i in range(rnd_i, N):\n",
    "                if agents[i] >= T - 1:\n",
    "                    M += 1\n",
    "                else:\n",
    "                    break\n",
    "            for i in range(rnd_i - 1, -1, -1):\n",
    "                if agents[i] >= T - 1:\n",
    "                    M += 1\n",
    "                else:\n",
    "                    break\n",
    "        theoretical_topples_caused.append(max(0, d * (M - d + 1)))\n",
    "        # add grain\n",
    "        agents[rnd_i] += 1\n",
    "        # check and possibly initiate topples\n",
    "        overflowed = [idx for idx, a in enumerate(agents) if a >= T]\n",
    "        # calculate experimental topples\n",
    "        topples = 0\n",
    "        while(len(overflowed) > 0):\n",
    "            for o_i in overflowed:\n",
    "                topples += 1\n",
    "                agents[o_i] -= 2 * k\n",
    "                for k_i in range(1, k+1):\n",
    "                    if (o_i + k_i) < N:\n",
    "                        agents[o_i + k_i] += 1\n",
    "                    if (o_i - k_i) >= 0:\n",
    "                        agents[o_i - k_i] += 1\n",
    "            overflowed = [idx for idx, a in enumerate(agents) if a >= T]\n",
    "        topples_caused.append(topples)\n",
    "            \n",
    "    data = collections.Counter(topples_caused)\n",
    "    data[0] = 0\n",
    "    plt.figure()\n",
    "    plt.bar([key for key in data], [data[key] for key in data])\n",
    "    plt.title(f'Experimental distribution of avalanches (10000 trials) with N={N} T={T} k={k}')\n",
    "    plt.xlabel(\"Number of topples caused\")\n",
    "    plt.show()\n",
    "    t_data = collections.Counter(theoretical_topples_caused)\n",
    "    t_data[0] = 0\n",
    "    plt.figure()\n",
    "    plt.bar([key for key in t_data], [t_data[key] for key in t_data], color='red')\n",
    "    plt.title(f'Theoretical distribution of avalanches (10000 trials) with N={N} T={T} k={k}')\n",
    "    plt.xlabel(\"Number of topples caused\")\n",
    "    plt.show()"
   ]
  },
  {
   "cell_type": "code",
   "execution_count": null,
   "metadata": {},
   "outputs": [],
   "source": [
    "N_s = [10, 20, 50, 100]\n",
    "T = 6\n",
    "k = 1\n",
    "Ai = 0\n",
    "\n",
    "for N in N_s:\n",
    "    agents = [Ai] * N\n",
    "    topples_caused = []\n",
    "    for trails in range(10000):\n",
    "        # add a grain to one agent randomly selected\n",
    "        rnd_i = rnd.randint(N)\n",
    "        agents[rnd_i] += 1\n",
    "        # check and possibly initiate topples\n",
    "        overflowed = [idx for idx, a in enumerate(agents) if a >= T]\n",
    "        topples = 0\n",
    "        while(len(overflowed) > 0):\n",
    "            for o_i in overflowed:\n",
    "                topples += 1\n",
    "                agents[o_i] -= 2 * k\n",
    "                for k_i in range(1, k+1):\n",
    "                    if (o_i + k_i) < N:\n",
    "                        agents[o_i + k_i] += 1\n",
    "                    if (o_i - k_i) >= 0:\n",
    "                        agents[o_i - k_i] += 1\n",
    "            overflowed = [idx for idx, a in enumerate(agents) if a >= T]\n",
    "        topples_caused.append(topples)\n",
    "            \n",
    "    data = collections.Counter(topples_caused)\n",
    "    data[0] = 0\n",
    "    plt.figure()\n",
    "    plt.bar([key for key in data], [data[key] for key in data])\n",
    "    plt.title(f'Experimental distribution of avalanches (10000 trials) with N={N} T={T} k={k}')\n",
    "    plt.xlabel(\"Number of topples caused\")\n",
    "    plt.show()"
   ]
  }
 ],
 "metadata": {
  "kernelspec": {
   "display_name": "Python 3",
   "language": "python",
   "name": "python3"
  },
  "language_info": {
   "codemirror_mode": {
    "name": "ipython",
    "version": 3
   },
   "file_extension": ".py",
   "mimetype": "text/x-python",
   "name": "python",
   "nbconvert_exporter": "python",
   "pygments_lexer": "ipython3",
   "version": "3.6.8"
  }
 },
 "nbformat": 4,
 "nbformat_minor": 2
}
