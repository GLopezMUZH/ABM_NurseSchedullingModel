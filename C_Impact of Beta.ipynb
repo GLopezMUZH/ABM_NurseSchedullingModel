{
 "cells": [
  {
   "cell_type": "markdown",
   "metadata": {},
   "source": [
    "# Case. Impact of Beta"
   ]
  },
  {
   "cell_type": "markdown",
   "metadata": {},
   "source": [
    "Situation: \n",
    "- 70% more agent availability on week days as weekends\n",
    "- Shift requirements higher on Friday 3rd Shift (3S), Saturday 1S and 3S, Sunday 3S\n",
    "\n",
    "Task:\n",
    "- Evaluate Shift Coverage over Beta: [0.1,0.9]\n",
    "- Evaluate Agent Satisfaction over Beta: [0.1,0.9] using default function and shift stability function"
   ]
  },
  {
   "cell_type": "code",
   "execution_count": 1,
   "metadata": {},
   "outputs": [],
   "source": [
    "import abm_scheduling\n",
    "from abm_scheduling import Schedule as Schedule\n",
    "from abm_scheduling import Nurse as Nurse"
   ]
  },
  {
   "cell_type": "code",
   "execution_count": 7,
   "metadata": {},
   "outputs": [],
   "source": [
    "import time\n",
    "from datetime import datetime\n",
    "\n",
    "import abm_scheduling.Log\n",
    "from abm_scheduling.Log import Log as Log\n",
    "\n",
    "import matplotlib.pylab as plt\n",
    "%matplotlib inline\n",
    "\n",
    "log = Log()"
   ]
  },
  {
   "cell_type": "markdown",
   "metadata": {},
   "source": [
    "## Define situation"
   ]
  },
  {
   "cell_type": "code",
   "execution_count": 3,
   "metadata": {},
   "outputs": [],
   "source": [
    "num_nurses_per_shift = 5\n",
    "num_nurses = 25\n",
    "p_to_accept_negative_change = .001\n",
    "degree_of_agent_availability = 0.7\n",
    "works_weekends = True\n",
    "\n",
    "betas = [i * 0.1 for i in range(1, 10)]"
   ]
  },
  {
   "cell_type": "code",
   "execution_count": 4,
   "metadata": {
    "scrolled": true
   },
   "outputs": [
    {
     "name": "stdout",
     "output_type": "stream",
     "text": [
      "Week's Schedule Intial Situation\n",
      "+---------+----------+----------+----------+----------+----------+----------+----------+\n",
      "|         | Mo       | Tu       | We       | Th       | Fr       | Sa       | So       |\n",
      "+---------+----------+----------+----------+----------+----------+----------+----------+\n",
      "| shift 1 | need: 6  | need: 4  | need: 5  | need: 4  | need: 7  | need: 6  | need: 6  |\n",
      "|         | nurses:  | nurses:  | nurses:  | nurses:  | nurses:  | nurses:  | nurses:  |\n",
      "| shift 2 | need: 5  | need: 6  | need: 7  | need: 6  | need: 7  | need: 4  | need: 6  |\n",
      "|         | nurses:  | nurses:  | nurses:  | nurses:  | nurses:  | nurses:  | nurses:  |\n",
      "| shift 3 | need: 5  | need: 5  | need: 6  | need: 6  | need: 5  | need: 6  | need: 5  |\n",
      "|         | nurses:  | nurses:  | nurses:  | nurses:  | nurses:  | nurses:  | nurses:  |\n",
      "+---------+----------+----------+----------+----------+----------+----------+----------+\n"
     ]
    }
   ],
   "source": [
    "schedule = Schedule(num_nurses_needed=num_nurses_per_shift, is_random=True)\n",
    "model = abm_scheduling.NSP_AB_Model()\n",
    "nurses = model.generate_nurses(num_nurses=num_nurses,\n",
    "                               degree_of_agent_availability=degree_of_agent_availability,\n",
    "                               works_weekends=works_weekends)\n",
    "\n",
    "schedule.print_schedule(schedule_name=\"Intial Situation\")"
   ]
  },
  {
   "cell_type": "code",
   "execution_count": null,
   "metadata": {},
   "outputs": [],
   "source": [
    "beta_reg_util_results = []\n",
    "for beta in betas:\n",
    "    beta_reg_util_result = model.run(schedule_org=schedule,\n",
    "                                     nurses_org=nurses,\n",
    "                                     beta=beta,\n",
    "                                     p_to_accept_negative_change=p_to_accept_negative_change,\n",
    "                                     utility_function_parameters=None,\n",
    "                                     print_stats=False)\n",
    "    beta_reg_util_results.append(beta_reg_util_result)"
   ]
  },
  {
   "cell_type": "code",
   "execution_count": 9,
   "metadata": {},
   "outputs": [
    {
     "data": {
      "image/png": "[encoded data removed]",
      "text/plain": [
       "<Figure size 432x288 with 1 Axes>"
      ]
     },
     "metadata": {},
     "output_type": "display_data"
    }
   ],
   "source": [
    "plt.figure()\n",
    "plt.plot(betas, [r.shift_coverage for r in beta_reg_util_results], label=\"Shift Coverage\")\n",
    "plt.title(f'Shift coverage as a function of beta')\n",
    "plt.xlabel(\"Beta\")\n",
    "plt.ylabel(\"Shift Coverage\")\n",
    "plt.legend()\n",
    "plt.show()"
   ]
  },
  {
   "cell_type": "code",
   "execution_count": null,
   "metadata": {},
   "outputs": [],
   "source": [
    "beta_as_util_results = []\n",
    "for beta in betas:\n",
    "    beta_as_util_result = model.run(schedule_org=schedule,\n",
    "                                    nurses_org=nurses,\n",
    "                                    beta=beta,\n",
    "                                    p_to_accept_negative_change=p_to_accept_negative_change,\n",
    "                                    utility_function_parameters=utility_function_parameters)\n",
    "    beta_as_util_results.append(beta_as_util_result)"
   ]
  },
  {
   "cell_type": "code",
   "execution_count": null,
   "metadata": {},
   "outputs": [],
   "source": [
    "plt.figure()\n",
    "plt.plot(betas, [r.total_agent_satisfaction for r in beta_reg_util_results], label=\"Agent Satisfaction\")\n",
    "plt.title(f'Agent satisfaction as a function of beta')\n",
    "plt.xlabel(\"Beta\")\n",
    "plt.ylabel(\"Agent Satisfaction\")\n",
    "plt.legend()\n",
    "plt.show()"
   ]
  }
 ],
 "metadata": {
  "kernelspec": {
   "display_name": "Python 3",
   "language": "python",
   "name": "python3"
  },
  "language_info": {
   "codemirror_mode": {
    "name": "ipython",
    "version": 3
   },
   "file_extension": ".py",
   "mimetype": "text/x-python",
   "name": "python",
   "nbconvert_exporter": "python",
   "pygments_lexer": "ipython3",
   "version": "3.6.3"
  }
 },
 "nbformat": 4,
 "nbformat_minor": 2
}
