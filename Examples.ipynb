{
 "cells": [
  {
   "cell_type": "code",
   "execution_count": 1,
   "metadata": {},
   "outputs": [],
   "source": [
    "import abm_scheduling\n",
    "from abm_scheduling import Schedule as Schedule\n",
    "from abm_scheduling import Nurse as Nurse"
   ]
  },
  {
   "cell_type": "code",
   "execution_count": 2,
   "metadata": {},
   "outputs": [],
   "source": [
    "import matplotlib.pylab as plt"
   ]
  },
  {
   "cell_type": "markdown",
   "metadata": {},
   "source": [
    "## Schedule generation examples"
   ]
  },
  {
   "cell_type": "code",
   "execution_count": null,
   "metadata": {},
   "outputs": [],
   "source": [
    "# --example schedules--\n",
    "schedule_fixed = Schedule(num_nurses_needed=3)\n",
    "schedule_fixed.print_schedule()"
   ]
  },
  {
   "cell_type": "code",
   "execution_count": null,
   "metadata": {},
   "outputs": [],
   "source": [
    "schedule_random = Schedule(num_nurses_needed=3, is_random=True)\n",
    "schedule_random.print_schedule()"
   ]
  },
  {
   "cell_type": "code",
   "execution_count": null,
   "metadata": {},
   "outputs": [],
   "source": [
    "# Mo 1,2,3, Tu 1,2,3, We...\n",
    "matrix_nurses_needed = [5,8,5, 4,7,4, 4,7,4, 4,7,5, 5,7,7, 6,7,8, 7,5,5]\n",
    "schedule_random = Schedule(matrix_nurses_needed=matrix_nurses_needed, is_random=False)\n",
    "schedule_random.print_schedule()"
   ]
  },
  {
   "cell_type": "markdown",
   "metadata": {},
   "source": [
    "## Nurse generation examples "
   ]
  },
  {
   "cell_type": "code",
   "execution_count": null,
   "metadata": {},
   "outputs": [],
   "source": [
    "# --example nurses--\n",
    "# full time, no weekends\n",
    "nurse = Nurse(id_name=0)\n",
    "nurse.generate_shift_preferences(degree_of_agent_availability=1, works_weekends=False)\n",
    "nurse.print_shift_preferences()\n"
   ]
  },
  {
   "cell_type": "code",
   "execution_count": null,
   "metadata": {},
   "outputs": [],
   "source": [
    "# full time, weekends\n",
    "nurse = Nurse(id_name=1)\n",
    "nurse.generate_shift_preferences(degree_of_agent_availability=1, works_weekends=True)\n",
    "nurse.print_shift_preferences()\n",
    "\n",
    "# part time, no weekends\n",
    "nurse = Nurse(id_name=2)\n",
    "nurse.generate_shift_preferences(degree_of_agent_availability=0.78, works_weekends=False)\n",
    "nurse.print_shift_preferences()\n",
    "\n",
    "# part time, weekends\n",
    "nurse = Nurse(id_name=3)\n",
    "nurse.generate_shift_preferences(degree_of_agent_availability=0.5, works_weekends=True)\n",
    "nurse.print_shift_preferences()"
   ]
  },
  {
   "cell_type": "code",
   "execution_count": null,
   "metadata": {},
   "outputs": [],
   "source": [
    "# --example generating nurses--\n",
    "# generate 10 nurses that work 50% and on weekends\n",
    "nurses = []\n",
    "num_nurses = 10\n",
    "for n in range(num_nurses):\n",
    "    nurse = Nurse(id_name=n)\n",
    "    nurse.generate_shift_preferences(degree_of_agent_availability=0.5, works_weekends=True)\n",
    "    nurses.append(nurse)"
   ]
  },
  {
   "cell_type": "code",
   "execution_count": null,
   "metadata": {},
   "outputs": [],
   "source": [
    "# generate nurses in the model\n",
    "model = abm_scheduling.NSP_AB_Model()\n",
    "model.generate_nurses(num_nurses=5, degree_of_agent_availability=0.5, works_weekends=True)\n",
    "model.print_nurse_productivity(nurses)"
   ]
  },
  {
   "cell_type": "code",
   "execution_count": null,
   "metadata": {},
   "outputs": [],
   "source": [
    "# Mo 1,2,3, Tu 1,2,3, We...\n",
    "matrix_nurse_availability = ['x','x','', 'x','x','',  'x','x','', 'x','x','', 'x','x','', '','','', '','','']\n",
    "nurse = Nurse(id_name=5)\n",
    "nurse.assign_shift_preferences(matrix_nurse_availability=matrix_nurse_availability, minimum_shifts=5, maximum_shifts=5)\n",
    "nurse.print_shift_preferences()\n"
   ]
  },
  {
   "cell_type": "markdown",
   "metadata": {},
   "source": [
    "## Agent satisfaciton examples"
   ]
  },
  {
   "cell_type": "markdown",
   "metadata": {},
   "source": [
    "Test cases:\n",
    "\n",
    "- Nurse no assignments, min = 5\n",
    "- Nurse 1 assignments, min = 5\n",
    "- Nurse 5 assignments, min = 5\n",
    "- Nurse 6 assignments, min = 4, max 5 **//will not happen in our Model"
   ]
  },
  {
   "cell_type": "code",
   "execution_count": 3,
   "metadata": {},
   "outputs": [
    {
     "name": "stdout",
     "output_type": "stream",
     "text": [
      "Nurse 1's Preferences. Availability: (0.238)Min/Max: 5 / 5\n",
      "+---------+----+----+----+----+----+----+----+\n",
      "|         | Mo | Tu | We | Th | Fr | Sa | So |\n",
      "+---------+----+----+----+----+----+----+----+\n",
      "| shift 1 | x  | x  | x  | x  | x  |    |    |\n",
      "| shift 2 |    |    |    |    |    |    |    |\n",
      "| shift 3 |    |    |    |    |    |    |    |\n",
      "+---------+----+----+----+----+----+----+----+\n",
      "Nurse 1's Assigned Shifts\n",
      "+---------+----+----+----+----+----+----+----+\n",
      "|         | Mo | Tu | We | Th | Fr | Sa | So |\n",
      "+---------+----+----+----+----+----+----+----+\n",
      "| shift 1 |    |    |    |    |    |    |    |\n",
      "| shift 2 |    |    |    |    |    |    |    |\n",
      "| shift 3 |    |    |    |    |    |    |    |\n",
      "+---------+----+----+----+----+----+----+----+\n",
      "Nurse satisfaction, function:  default :  -1000.0\n"
     ]
    }
   ],
   "source": [
    "# Nurse no assignments, min = 5\n",
    "matrix_nurse_availability = ['x','','', 'x','','',  'x','','', 'x','','', 'x','','', '','','', '','','']\n",
    "nurse = Nurse(id_name=1)\n",
    "nurse.assign_shift_preferences(matrix_nurse_availability=matrix_nurse_availability, minimum_shifts=5, maximum_shifts=5)\n",
    "nurse.print_shift_preferences()\n",
    "nurse.print_assigned_shifts()\n",
    "print(\"Nurse satisfaction, function: \", nurse.satisfaction_function, \": \", nurse.get_satisfaction())"
   ]
  },
  {
   "cell_type": "code",
   "execution_count": null,
   "metadata": {},
   "outputs": [],
   "source": [
    "# Nurse, can work only in 1 shift, min 3, max 3 during the week\n",
    "satisfaction_over_shift_assignment = []\n",
    "matrix_nurse_availability = ['x','','', '','','',  'x','','', '','','', 'x','','', '','','', '','','']\n",
    "nurse = Nurse(id_name=2)\n",
    "nurse.assign_shift_preferences(matrix_nurse_availability=matrix_nurse_availability, minimum_shifts=5, maximum_shifts=5)\n",
    "nurse.print_shift_preferences()\n",
    "schedule = Schedule(0)\n",
    "# no assignments\n",
    "satisfaction_over_shift_assignment.append(nurse.get_satisfaction())\n",
    "# start assignments\n",
    "for shift in schedule.schedule:\n",
    "    nurse.shifts.append((shift.day, shift.shift_num))\n",
    "    satisfaction_over_shift_assignment.append(nurse.get_satisfaction())\n",
    "plt.plot(satisfaction_over_shift_assignment)\n",
    "plt.grid(True)\n",
    "print(satisfaction_over_shift_assignment)"
   ]
  },
  {
   "cell_type": "code",
   "execution_count": null,
   "metadata": {},
   "outputs": [],
   "source": [
    "# Nurse, can work only in 1 shift, min 5, max 5 during the week\n",
    "satisfaction_over_shift_assignment = []\n",
    "matrix_nurse_availability = ['x','','', 'x','','',  'x','','', 'x','','', 'x','','', '','','', '','','']\n",
    "nurse = Nurse(id_name=2)\n",
    "nurse.assign_shift_preferences(matrix_nurse_availability=matrix_nurse_availability, minimum_shifts=5, maximum_shifts=5)\n",
    "nurse.print_shift_preferences()\n",
    "schedule = Schedule(0)\n",
    "# no assignments\n",
    "satisfaction_over_shift_assignment.append(nurse.get_satisfaction())\n",
    "# start assignments\n",
    "for shift in schedule.schedule:\n",
    "    nurse.shifts.append((shift.day, shift.shift_num))\n",
    "    satisfaction_over_shift_assignment.append(nurse.get_satisfaction())\n",
    "plt.plot(satisfaction_over_shift_assignment)\n",
    "plt.grid(True)\n",
    "print(satisfaction_over_shift_assignment)"
   ]
  },
  {
   "cell_type": "code",
   "execution_count": null,
   "metadata": {},
   "outputs": [],
   "source": [
    "# Nurse, can work 2 different shifts, min 4, max 6 during the week\n",
    "satisfaction_over_shift_assignment = []\n",
    "matrix_nurse_availability = ['x','x','', 'x','x','',  'x','x','', 'x','x','', 'x','x','', '','','', '','','']\n",
    "nurse = Nurse(id_name=3)\n",
    "nurse.assign_shift_preferences(matrix_nurse_availability=matrix_nurse_availability, minimum_shifts=4, maximum_shifts=6)\n",
    "nurse.print_shift_preferences()\n",
    "schedule = Schedule(0)\n",
    "# no assignments\n",
    "satisfaction_over_shift_assignment.append(nurse.get_satisfaction())\n",
    "# start assignments\n",
    "for shift in schedule.schedule:\n",
    "    nurse.shifts.append((shift.day, shift.shift_num))\n",
    "    satisfaction_over_shift_assignment.append(nurse.get_satisfaction())\n",
    "plt.plot(satisfaction_over_shift_assignment)\n",
    "plt.grid(True)\n",
    "print(satisfaction_over_shift_assignment)"
   ]
  },
  {
   "cell_type": "code",
   "execution_count": null,
   "metadata": {},
   "outputs": [],
   "source": [
    "# Nurse, can work 3 different shifts, min 1, max 6 during the week\n",
    "satisfaction_over_shift_assignment = []\n",
    "matrix_nurse_availability = ['x','x','x', 'x','x','x',  '','x','', 'x','x','x', '','','', '','x','x', '','x','x']\n",
    "nurse = Nurse(id_name=3)\n",
    "nurse.assign_shift_preferences(matrix_nurse_availability=matrix_nurse_availability, minimum_shifts=4, maximum_shifts=6)\n",
    "nurse.print_shift_preferences()\n",
    "schedule = Schedule(0)\n",
    "# no assignments\n",
    "satisfaction_over_shift_assignment.append(nurse.get_satisfaction())\n",
    "# start assignments\n",
    "for shift in schedule.schedule:\n",
    "    nurse.shifts.append((shift.day, shift.shift_num))\n",
    "    satisfaction_over_shift_assignment.append(nurse.get_satisfaction())\n",
    "plt.plot(satisfaction_over_shift_assignment)\n",
    "plt.grid(True)\n",
    "print(satisfaction_over_shift_assignment)"
   ]
  },
  {
   "cell_type": "code",
   "execution_count": null,
   "metadata": {},
   "outputs": [],
   "source": []
  }
 ],
 "metadata": {
  "file_extension": ".py",
  "kernelspec": {
   "display_name": "Python 3",
   "language": "python",
   "name": "python3"
  },
  "language_info": {
   "codemirror_mode": {
    "name": "ipython",
    "version": 3
   },
   "file_extension": ".py",
   "mimetype": "text/x-python",
   "name": "python",
   "nbconvert_exporter": "python",
   "pygments_lexer": "ipython3",
   "version": "3.6.8"
  },
  "mimetype": "text/x-python",
  "name": "python",
  "npconvert_exporter": "python",
  "pygments_lexer": "ipython3",
  "version": 3
 },
 "nbformat": 4,
 "nbformat_minor": 2
}
