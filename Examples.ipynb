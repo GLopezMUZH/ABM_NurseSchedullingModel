{
 "cells": [
  {
   "cell_type": "code",
   "execution_count": 1,
   "metadata": {},
   "outputs": [],
   "source": [
    "import abm_scheduling\n",
    "from abm_scheduling import Schedule as Schedule\n",
    "from abm_scheduling import Nurse as Nurse"
   ]
  },
  {
   "cell_type": "code",
   "execution_count": 2,
   "metadata": {},
   "outputs": [],
   "source": [
    "import matplotlib.pylab as plt"
   ]
  },
  {
   "cell_type": "markdown",
   "metadata": {},
   "source": [
    "## Schedule generation examples"
   ]
  },
  {
   "cell_type": "code",
   "execution_count": 3,
   "metadata": {},
   "outputs": [
    {
     "name": "stdout",
     "output_type": "stream",
     "text": [
      "Week's Schedule \n",
      "+---------+----------+----------+----------+----------+----------+----------+----------+\n",
      "|         | Mo       | Tu       | We       | Th       | Fr       | Sa       | So       |\n",
      "+---------+----------+----------+----------+----------+----------+----------+----------+\n",
      "| shift 1 | need: 3  | need: 3  | need: 3  | need: 3  | need: 3  | need: 3  | need: 3  |\n",
      "|         | nurses:  | nurses:  | nurses:  | nurses:  | nurses:  | nurses:  | nurses:  |\n",
      "| shift 2 | need: 3  | need: 3  | need: 3  | need: 3  | need: 3  | need: 3  | need: 3  |\n",
      "|         | nurses:  | nurses:  | nurses:  | nurses:  | nurses:  | nurses:  | nurses:  |\n",
      "| shift 3 | need: 3  | need: 3  | need: 3  | need: 3  | need: 3  | need: 3  | need: 3  |\n",
      "|         | nurses:  | nurses:  | nurses:  | nurses:  | nurses:  | nurses:  | nurses:  |\n",
      "+---------+----------+----------+----------+----------+----------+----------+----------+\n"
     ]
    }
   ],
   "source": [
    "# --example schedules--\n",
    "schedule_fixed = Schedule(num_nurses_needed=3)\n",
    "schedule_fixed.print_schedule()"
   ]
  },
  {
   "cell_type": "code",
   "execution_count": 4,
   "metadata": {},
   "outputs": [
    {
     "name": "stdout",
     "output_type": "stream",
     "text": [
      "Week's Schedule \n",
      "+---------+----------+----------+----------+----------+----------+----------+----------+\n",
      "|         | Mo       | Tu       | We       | Th       | Fr       | Sa       | So       |\n",
      "+---------+----------+----------+----------+----------+----------+----------+----------+\n",
      "| shift 1 | need: 0  | need: 2  | need: 3  | need: 3  | need: 1  | need: 1  | need: 0  |\n",
      "|         | nurses:  | nurses:  | nurses:  | nurses:  | nurses:  | nurses:  | nurses:  |\n",
      "| shift 2 | need: 1  | need: 1  | need: 3  | need: 1  | need: 0  | need: 1  | need: 2  |\n",
      "|         | nurses:  | nurses:  | nurses:  | nurses:  | nurses:  | nurses:  | nurses:  |\n",
      "| shift 3 | need: 1  | need: 0  | need: 1  | need: 0  | need: 1  | need: 1  | need: 1  |\n",
      "|         | nurses:  | nurses:  | nurses:  | nurses:  | nurses:  | nurses:  | nurses:  |\n",
      "+---------+----------+----------+----------+----------+----------+----------+----------+\n"
     ]
    }
   ],
   "source": [
    "schedule_random = Schedule(num_nurses_needed=3, is_random=True)\n",
    "schedule_random.print_schedule()"
   ]
  },
  {
   "cell_type": "code",
   "execution_count": 5,
   "metadata": {},
   "outputs": [
    {
     "name": "stdout",
     "output_type": "stream",
     "text": [
      "Week's Schedule \n",
      "+---------+----------+----------+----------+----------+----------+----------+----------+\n",
      "|         | Mo       | Tu       | We       | Th       | Fr       | Sa       | So       |\n",
      "+---------+----------+----------+----------+----------+----------+----------+----------+\n",
      "| shift 1 | need: 5  | need: 4  | need: 4  | need: 4  | need: 5  | need: 6  | need: 7  |\n",
      "|         | nurses:  | nurses:  | nurses:  | nurses:  | nurses:  | nurses:  | nurses:  |\n",
      "| shift 2 | need: 8  | need: 7  | need: 7  | need: 7  | need: 7  | need: 7  | need: 5  |\n",
      "|         | nurses:  | nurses:  | nurses:  | nurses:  | nurses:  | nurses:  | nurses:  |\n",
      "| shift 3 | need: 5  | need: 4  | need: 4  | need: 5  | need: 7  | need: 8  | need: 5  |\n",
      "|         | nurses:  | nurses:  | nurses:  | nurses:  | nurses:  | nurses:  | nurses:  |\n",
      "+---------+----------+----------+----------+----------+----------+----------+----------+\n"
     ]
    }
   ],
   "source": [
    "# Mo 1,2,3, Tu 1,2,3, We...\n",
    "matrix_nurses_needed = [5,8,5, 4,7,4, 4,7,4, 4,7,5, 5,7,7, 6,7,8, 7,5,5]\n",
    "schedule_random = Schedule(matrix_nurses_needed=matrix_nurses_needed, is_random=False)\n",
    "schedule_random.print_schedule()"
   ]
  },
  {
   "cell_type": "markdown",
   "metadata": {},
   "source": [
    "## Nurse generation examples "
   ]
  },
  {
   "cell_type": "code",
   "execution_count": 3,
   "metadata": {},
   "outputs": [
    {
     "name": "stdout",
     "output_type": "stream",
     "text": [
      "Nurse 0's Preferences. Availability: (1)Min/Max: 6/21\n",
      "+---------+----+----+----+----+----+----+----+\n",
      "|         | Mo | Tu | We | Th | Fr | Sa | So |\n",
      "+---------+----+----+----+----+----+----+----+\n",
      "| shift 1 | x  | x  | x  | x  | x  |    |    |\n",
      "| shift 2 | x  | x  | x  | x  | x  |    |    |\n",
      "| shift 3 | x  | x  | x  | x  | x  |    |    |\n",
      "+---------+----+----+----+----+----+----+----+\n"
     ]
    }
   ],
   "source": [
    "# --example nurses--\n",
    "# full time, no weekends\n",
    "nurse = Nurse(id_name=0)\n",
    "nurse.generate_shift_preferences(degree_of_agent_availability=1, works_weekends=False)\n",
    "nurse.print_shift_preferences()\n"
   ]
  },
  {
   "cell_type": "code",
   "execution_count": null,
   "metadata": {},
   "outputs": [],
   "source": [
    "# full time, weekends\n",
    "nurse = Nurse(id_name=1)\n",
    "nurse.generate_shift_preferences(degree_of_agent_availability=1, works_weekends=True)\n",
    "nurse.print_shift_preferences()\n",
    "\n",
    "# part time, no weekends\n",
    "nurse = Nurse(id_name=2)\n",
    "nurse.generate_shift_preferences(degree_of_agent_availability=0.78, works_weekends=False)\n",
    "nurse.print_shift_preferences()\n",
    "\n",
    "# part time, weekends\n",
    "nurse = Nurse(id_name=3)\n",
    "nurse.generate_shift_preferences(degree_of_agent_availability=0.5, works_weekends=True)\n",
    "nurse.print_shift_preferences()"
   ]
  },
  {
   "cell_type": "code",
   "execution_count": 4,
   "metadata": {},
   "outputs": [],
   "source": [
    "# --example generating nurses--\n",
    "# generate 10 nurses that work 50% and on weekends\n",
    "nurses = []\n",
    "num_nurses = 10\n",
    "for n in range(num_nurses):\n",
    "    nurse = Nurse(id_name=n)\n",
    "    nurse.generate_shift_preferences(degree_of_agent_availability=0.5, works_weekends=True)\n",
    "    nurses.append(nurse)"
   ]
  },
  {
   "cell_type": "code",
   "execution_count": 6,
   "metadata": {},
   "outputs": [
    {
     "name": "stdout",
     "output_type": "stream",
     "text": [
      "Nurse productivity -  \n",
      "-- 0 ------------------------------- \n",
      "assigned:0,\tmin:6,\tmax: 10,\tdeg.availab:0.50,\tprod: 0.00,\tsatisf: -1000.00\n",
      "-- 1 ------------------------------- \n",
      "assigned:0,\tmin:6,\tmax: 10,\tdeg.availab:0.50,\tprod: 0.00,\tsatisf: -1000.00\n",
      "-- 2 ------------------------------- \n",
      "assigned:0,\tmin:6,\tmax: 10,\tdeg.availab:0.50,\tprod: 0.00,\tsatisf: -1000.00\n",
      "-- 3 ------------------------------- \n",
      "assigned:0,\tmin:6,\tmax: 10,\tdeg.availab:0.50,\tprod: 0.00,\tsatisf: -1000.00\n",
      "-- 4 ------------------------------- \n",
      "assigned:0,\tmin:6,\tmax: 10,\tdeg.availab:0.50,\tprod: 0.00,\tsatisf: -1000.00\n",
      "-- 5 ------------------------------- \n",
      "assigned:0,\tmin:6,\tmax: 10,\tdeg.availab:0.50,\tprod: 0.00,\tsatisf: -1000.00\n",
      "-- 6 ------------------------------- \n",
      "assigned:0,\tmin:6,\tmax: 10,\tdeg.availab:0.50,\tprod: 0.00,\tsatisf: -1000.00\n",
      "-- 7 ------------------------------- \n",
      "assigned:0,\tmin:6,\tmax: 10,\tdeg.availab:0.50,\tprod: 0.00,\tsatisf: -1000.00\n",
      "-- 8 ------------------------------- \n",
      "assigned:0,\tmin:6,\tmax: 10,\tdeg.availab:0.50,\tprod: 0.00,\tsatisf: -1000.00\n",
      "-- 9 ------------------------------- \n",
      "assigned:0,\tmin:6,\tmax: 10,\tdeg.availab:0.50,\tprod: 0.00,\tsatisf: -1000.00\n"
     ]
    }
   ],
   "source": [
    "# generate nurses in the model\n",
    "model = abm_scheduling.NSP_AB_Model()\n",
    "model.generate_nurses(num_nurses=5, degree_of_agent_availability=0.5, works_weekends=True)\n",
    "model.print_nurse_productivity(nurses)"
   ]
  },
  {
   "cell_type": "code",
   "execution_count": 7,
   "metadata": {},
   "outputs": [
    {
     "name": "stdout",
     "output_type": "stream",
     "text": [
      "Nurse 5's Preferences. Availability: (0.476)\n",
      "+---------+----+----+----+----+----+----+----+\n",
      "|         | Mo | Tu | We | Th | Fr | Sa | So |\n",
      "+---------+----+----+----+----+----+----+----+\n",
      "| shift 1 | x  | x  | x  | x  | x  |    |    |\n",
      "| shift 2 | x  | x  | x  | x  | x  |    |    |\n",
      "| shift 3 |    |    |    |    |    |    |    |\n",
      "+---------+----+----+----+----+----+----+----+\n"
     ]
    }
   ],
   "source": [
    "# Mo 1,2,3, Tu 1,2,3, We...\n",
    "matrix_nurse_availability = ['x','x','', 'x','x','',  'x','x','', 'x','x','', 'x','x','', '','','', '','','']\n",
    "nurse = Nurse(id_name=5)\n",
    "nurse.assign_shift_preferences(matrix_nurse_availability=matrix_nurse_availability, minimum_shifts=5, maximum_shifts=5)\n",
    "nurse.print_shift_preferences()\n"
   ]
  },
  {
   "cell_type": "markdown",
   "metadata": {},
   "source": [
    "## Agent satisfaciton examples"
   ]
  },
  {
   "cell_type": "markdown",
   "metadata": {},
   "source": [
    "Test cases:\n",
    "\n",
    "- Nurse no assignments, min = 5\n",
    "- Nurse 1 assignments, min = 5\n",
    "- Nurse 5 assignments, min = 5\n",
    "- Nurse 6 assignments, min = 4, max 5 **//will not happen in our Model"
   ]
  },
  {
   "cell_type": "code",
   "execution_count": 8,
   "metadata": {},
   "outputs": [
    {
     "name": "stdout",
     "output_type": "stream",
     "text": [
      "Nurse 1's Preferences. Availability: (0.238)\n",
      "+---------+----+----+----+----+----+----+----+\n",
      "|         | Mo | Tu | We | Th | Fr | Sa | So |\n",
      "+---------+----+----+----+----+----+----+----+\n",
      "| shift 1 | x  | x  | x  | x  | x  |    |    |\n",
      "| shift 2 |    |    |    |    |    |    |    |\n",
      "| shift 3 |    |    |    |    |    |    |    |\n",
      "+---------+----+----+----+----+----+----+----+\n",
      "Nurse 1's Assigned Shifts\n",
      "+---------+----+----+----+----+----+----+----+\n",
      "|         | Mo | Tu | We | Th | Fr | Sa | So |\n",
      "+---------+----+----+----+----+----+----+----+\n",
      "| shift 1 |    |    |    |    |    |    |    |\n",
      "| shift 2 |    |    |    |    |    |    |    |\n",
      "| shift 3 |    |    |    |    |    |    |    |\n",
      "+---------+----+----+----+----+----+----+----+\n",
      "Nurse satisfaction, function:  default :  -1000.0\n"
     ]
    }
   ],
   "source": [
    "# Nurse no assignments, min = 5\n",
    "matrix_nurse_availability = ['x','','', 'x','','',  'x','','', 'x','','', 'x','','', '','','', '','','']\n",
    "nurse = Nurse(id_name=1)\n",
    "nurse.assign_shift_preferences(matrix_nurse_availability=matrix_nurse_availability, minimum_shifts=5, maximum_shifts=5)\n",
    "nurse.print_shift_preferences()\n",
    "nurse.print_assigned_shifts()\n",
    "print(\"Nurse satisfaction, function: \", nurse.satisfaction_function, \": \", nurse.get_satisfaction())"
   ]
  },
  {
   "cell_type": "code",
   "execution_count": 13,
   "metadata": {},
   "outputs": [
    {
     "name": "stdout",
     "output_type": "stream",
     "text": [
      "Nurse 2's Preferences. Availability: (0.143)\n",
      "+---------+----+----+----+----+----+----+----+\n",
      "|         | Mo | Tu | We | Th | Fr | Sa | So |\n",
      "+---------+----+----+----+----+----+----+----+\n",
      "| shift 1 | x  |    | x  |    | x  |    |    |\n",
      "| shift 2 |    |    |    |    |    |    |    |\n",
      "| shift 3 |    |    |    |    |    |    |    |\n",
      "+---------+----+----+----+----+----+----+----+\n",
      "[-1000.0, 280.0887724224567, 280.0887724224567, 280.0887724224567, 280.0887724224567, 280.0887724224567, -200.0, -400.0, -600.0, -800.0, -1000.0, -1200.0, -1400.0, -1600.0, -1800.0, -2000.0, -2200.0, -2400.0, -2600.0, -2800.0, -3000.0, -3200.0]\n"
     ]
    },
    {
     "data": {
      "image/png": "[encoded data removed]",
      "text/plain": [
       "<Figure size 432x288 with 1 Axes>"
      ]
     },
     "metadata": {
      "needs_background": "light"
     },
     "output_type": "display_data"
    }
   ],
   "source": [
    "# Nurse, can work only in 1 shift, min 3, max 3 during the week\n",
    "satisfaction_over_shift_assignment = []\n",
    "matrix_nurse_availability = ['x','','', '','','',  'x','','', '','','', 'x','','', '','','', '','','']\n",
    "nurse = Nurse(id_name=2)\n",
    "nurse.assign_shift_preferences(matrix_nurse_availability=matrix_nurse_availability, minimum_shifts=5, maximum_shifts=5)\n",
    "nurse.print_shift_preferences()\n",
    "schedule = Schedule(0)\n",
    "# no assignments\n",
    "satisfaction_over_shift_assignment.append(nurse.get_satisfaction())\n",
    "# start assignments\n",
    "for shift in schedule.schedule:\n",
    "    nurse.shifts.append((shift.day, shift.shift_num))\n",
    "    satisfaction_over_shift_assignment.append(nurse.get_satisfaction())\n",
    "plt.plot(satisfaction_over_shift_assignment)\n",
    "plt.grid(True)\n",
    "print(satisfaction_over_shift_assignment)"
   ]
  },
  {
   "cell_type": "code",
   "execution_count": 10,
   "metadata": {},
   "outputs": [
    {
     "name": "stdout",
     "output_type": "stream",
     "text": [
      "Nurse 2's Preferences. Availability: (0.238)\n",
      "+---------+----+----+----+----+----+----+----+\n",
      "|         | Mo | Tu | We | Th | Fr | Sa | So |\n",
      "+---------+----+----+----+----+----+----+----+\n",
      "| shift 1 | x  | x  | x  | x  | x  |    |    |\n",
      "| shift 2 |    |    |    |    |    |    |    |\n",
      "| shift 3 |    |    |    |    |    |    |    |\n",
      "+---------+----+----+----+----+----+----+----+\n",
      "[-1000.0, 280.0887724224567, 280.0887724224567, 280.0887724224567, 504.16019662496836, 504.16019662496836, -200.0, -400.0, -600.0, -800.0, -1000.0, -1200.0, -1400.0, -1600.0, -1800.0, -2000.0, -2200.0, -2400.0, -2600.0, -2800.0, -3000.0, -3200.0]\n"
     ]
    },
    {
     "data": {
      "image/png": "[encoded data removed]",
      "text/plain": [
       "<Figure size 432x288 with 1 Axes>"
      ]
     },
     "metadata": {
      "needs_background": "light"
     },
     "output_type": "display_data"
    }
   ],
   "source": [
    "# Nurse, can work only in 1 shift, min 5, max 5 during the week\n",
    "satisfaction_over_shift_assignment = []\n",
    "matrix_nurse_availability = ['x','','', 'x','','',  'x','','', 'x','','', 'x','','', '','','', '','','']\n",
    "nurse = Nurse(id_name=2)\n",
    "nurse.assign_shift_preferences(matrix_nurse_availability=matrix_nurse_availability, minimum_shifts=5, maximum_shifts=5)\n",
    "nurse.print_shift_preferences()\n",
    "schedule = Schedule(0)\n",
    "# no assignments\n",
    "satisfaction_over_shift_assignment.append(nurse.get_satisfaction())\n",
    "# start assignments\n",
    "for shift in schedule.schedule:\n",
    "    nurse.shifts.append((shift.day, shift.shift_num))\n",
    "    satisfaction_over_shift_assignment.append(nurse.get_satisfaction())\n",
    "plt.plot(satisfaction_over_shift_assignment)\n",
    "plt.grid(True)\n",
    "print(satisfaction_over_shift_assignment)"
   ]
  },
  {
   "cell_type": "code",
   "execution_count": 11,
   "metadata": {},
   "outputs": [
    {
     "name": "stdout",
     "output_type": "stream",
     "text": [
      "Nurse 3's Preferences. Availability: (0.476)\n",
      "+---------+----+----+----+----+----+----+----+\n",
      "|         | Mo | Tu | We | Th | Fr | Sa | So |\n",
      "+---------+----+----+----+----+----+----+----+\n",
      "| shift 1 | x  | x  | x  | x  | x  |    |    |\n",
      "| shift 2 | x  | x  | x  | x  | x  |    |    |\n",
      "| shift 3 |    |    |    |    |    |    |    |\n",
      "+---------+----+----+----+----+----+----+----+\n",
      "[-1000.0, 280.0887724224567, 504.16019662496836, 504.16019662496836, 683.4195365357656, 826.8333333333333, -200.0, -400.0, -600.0, -800.0, -1000.0, -1200.0, -1400.0, -1600.0, -1800.0, -2000.0, -2200.0, -2400.0, -2600.0, -2800.0, -3000.0, -3200.0]\n"
     ]
    },
    {
     "data": {
      "image/png": "[encoded data removed]",
      "text/plain": [
       "<Figure size 432x288 with 1 Axes>"
      ]
     },
     "metadata": {
      "needs_background": "light"
     },
     "output_type": "display_data"
    }
   ],
   "source": [
    "# Nurse, can work 2 different shifts, min 5, max 5 during the week\n",
    "satisfaction_over_shift_assignment = []\n",
    "matrix_nurse_availability = ['x','x','', 'x','x','',  'x','x','', 'x','x','', 'x','x','', '','','', '','','']\n",
    "nurse = Nurse(id_name=3)\n",
    "nurse.assign_shift_preferences(matrix_nurse_availability=matrix_nurse_availability, minimum_shifts=5, maximum_shifts=5)\n",
    "nurse.print_shift_preferences()\n",
    "schedule = Schedule(0)\n",
    "# no assignments\n",
    "satisfaction_over_shift_assignment.append(nurse.get_satisfaction())\n",
    "# start assignments\n",
    "for shift in schedule.schedule:\n",
    "    nurse.shifts.append((shift.day, shift.shift_num))\n",
    "    satisfaction_over_shift_assignment.append(nurse.get_satisfaction())\n",
    "plt.plot(satisfaction_over_shift_assignment)\n",
    "plt.grid(True)\n",
    "print(satisfaction_over_shift_assignment)"
   ]
  },
  {
   "cell_type": "code",
   "execution_count": 12,
   "metadata": {},
   "outputs": [
    {
     "name": "stdout",
     "output_type": "stream",
     "text": [
      "Nurse 3's Preferences. Availability: (0.667)\n",
      "+---------+----+----+----+----+----+----+----+\n",
      "|         | Mo | Tu | We | Th | Fr | Sa | So |\n",
      "+---------+----+----+----+----+----+----+----+\n",
      "| shift 1 | x  | x  |    | x  |    |    |    |\n",
      "| shift 2 | x  | x  | x  | x  |    | x  | x  |\n",
      "| shift 3 | x  | x  |    | x  |    | x  | x  |\n",
      "+---------+----+----+----+----+----+----+----+\n",
      "[-1000.0, 224.07101793796542, 403.3281572999747, 546.7356292286125, 661.4666666666667, 753.2621907615705, 826.7175651167491, -166.66666666666666, -333.3333333333333, -500.0, -666.6666666666666, -833.3333333333334, -1000.0, -1166.6666666666667, -1333.3333333333333, -1500.0, -1666.6666666666667, -1833.3333333333333, -2000.0, -2166.6666666666665, -2333.3333333333335, -2500.0]\n"
     ]
    },
    {
     "data": {
      "image/png": "[encoded data removed]",
      "text/plain": [
       "<Figure size 432x288 with 1 Axes>"
      ]
     },
     "metadata": {
      "needs_background": "light"
     },
     "output_type": "display_data"
    }
   ],
   "source": [
    "# Nurse, can work 3 different shifts, min 4, max 6 during the week\n",
    "satisfaction_over_shift_assignment = []\n",
    "matrix_nurse_availability = ['x','x','x', 'x','x','x',  '','x','', 'x','x','x', '','','', '','x','x', '','x','x']\n",
    "nurse = Nurse(id_name=3)\n",
    "nurse.assign_shift_preferences(matrix_nurse_availability=matrix_nurse_availability, minimum_shifts=4, maximum_shifts=6)\n",
    "nurse.print_shift_preferences()\n",
    "schedule = Schedule(0)\n",
    "# no assignments\n",
    "satisfaction_over_shift_assignment.append(nurse.get_satisfaction())\n",
    "# start assignments\n",
    "for shift in schedule.schedule:\n",
    "    nurse.shifts.append((shift.day, shift.shift_num))\n",
    "    satisfaction_over_shift_assignment.append(nurse.get_satisfaction())\n",
    "plt.plot(satisfaction_over_shift_assignment)\n",
    "plt.grid(True)\n",
    "print(satisfaction_over_shift_assignment)"
   ]
  },
  {
   "cell_type": "code",
   "execution_count": null,
   "metadata": {},
   "outputs": [],
   "source": []
  }
 ],
 "metadata": {
  "file_extension": ".py",
  "kernelspec": {
   "display_name": "Python 3",
   "language": "python",
   "name": "python3"
  },
  "language_info": {
   "codemirror_mode": {
    "name": "ipython",
    "version": 3
   },
   "file_extension": ".py",
   "mimetype": "text/x-python",
   "name": "python",
   "nbconvert_exporter": "python",
   "pygments_lexer": "ipython3",
   "version": "3.6.8"
  },
  "mimetype": "text/x-python",
  "name": "python",
  "npconvert_exporter": "python",
  "pygments_lexer": "ipython3",
  "version": 3
 },
 "nbformat": 4,
 "nbformat_minor": 2
}
