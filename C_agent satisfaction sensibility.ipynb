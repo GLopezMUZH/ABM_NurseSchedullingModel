{
 "cells": [
  {
   "cell_type": "markdown",
   "metadata": {},
   "source": [
    "# Case. Impact of Agent satisfaction sensibility"
   ]
  },
  {
   "cell_type": "markdown",
   "metadata": {},
   "source": [
    "Situation:\n",
    "\n",
    "    More agent availability on week days as weekends, 40% agents work on weekends, 60% not.\n",
    "    \n",
    "Task:\n",
    "\n",
    "    Evaluate Shift Coverage over Agent satisfaction penalty for under-assignment\n",
    "    Evaluate Agent Satisfaction over Agent satisfaction penalty for under-assignment using default function and shift stability function"
   ]
  },
  {
   "cell_type": "code",
   "execution_count": 1,
   "metadata": {},
   "outputs": [],
   "source": [
    "import abm_scheduling\n",
    "from abm_scheduling import Schedule as Schedule\n",
    "from abm_scheduling import Nurse as Nurse"
   ]
  },
  {
   "cell_type": "code",
   "execution_count": 2,
   "metadata": {},
   "outputs": [],
   "source": [
    "import time\n",
    "from datetime import datetime\n",
    "\n",
    "import abm_scheduling.Log\n",
    "from abm_scheduling.Log import Log as Log\n",
    "\n",
    "log = Log()"
   ]
  },
  {
   "cell_type": "markdown",
   "metadata": {},
   "source": [
    "## Randomized. Define situation"
   ]
  },
  {
   "cell_type": "code",
   "execution_count": 3,
   "metadata": {},
   "outputs": [],
   "source": [
    "p_to_accept_negative_change = .001\n",
    "num_nurses_per_shift = 4\n",
    "beta = 0.8"
   ]
  },
  {
   "cell_type": "code",
   "execution_count": 4,
   "metadata": {},
   "outputs": [],
   "source": [
    "# 25 nurses, only 10 can work on weekends\n",
    "nurses = []\n",
    "for n in range(10):\n",
    "    nurse = Nurse(id_name=n)\n",
    "    nurse.generate_shift_preferences(degree_of_agent_availability=0.7, works_weekends=True)\n",
    "    nurses.append(nurse)"
   ]
  },
  {
   "cell_type": "code",
   "execution_count": 5,
   "metadata": {},
   "outputs": [
    {
     "name": "stdout",
     "output_type": "stream",
     "text": [
      "Nurse 1's Preferences. Availability: 13(0.7) Min/Max: 6 / 6\n",
      "+---------+----+----+----+----+----+----+----+\n",
      "|         | Mo | Tu | We | Th | Fr | Sa | So |\n",
      "+---------+----+----+----+----+----+----+----+\n",
      "| shift 1 | x  | x  | x  | x  |    |    |    |\n",
      "| shift 2 | x  | x  |    |    | x  | x  |    |\n",
      "| shift 3 | x  |    |    | x  | x  | x  | x  |\n",
      "+---------+----+----+----+----+----+----+----+\n"
     ]
    }
   ],
   "source": [
    "nurses[1].print_shift_preferences()"
   ]
  },
  {
   "cell_type": "code",
   "execution_count": 6,
   "metadata": {},
   "outputs": [],
   "source": [
    "for n in range(15):\n",
    "    nurse = Nurse(id_name=(10+n))\n",
    "    nurse.generate_shift_preferences(degree_of_agent_availability=0.7, works_weekends=False)\n",
    "    nurses.append(nurse)"
   ]
  },
  {
   "cell_type": "code",
   "execution_count": 7,
   "metadata": {},
   "outputs": [
    {
     "name": "stdout",
     "output_type": "stream",
     "text": [
      "Week's Schedule Intial Situation\n",
      "+---------+----------+----------+----------+----------+----------+----------+----------+\n",
      "|         | Mo       | Tu       | We       | Th       | Fr       | Sa       | So       |\n",
      "+---------+----------+----------+----------+----------+----------+----------+----------+\n",
      "| shift 1 | need: 4  | need: 3  | need: 5  | need: 5  | need: 4  | need: 6  | need: 4  |\n",
      "|         | nurses:  | nurses:  | nurses:  | nurses:  | nurses:  | nurses:  | nurses:  |\n",
      "| shift 2 | need: 5  | need: 4  | need: 5  | need: 4  | need: 7  | need: 4  | need: 7  |\n",
      "|         | nurses:  | nurses:  | nurses:  | nurses:  | nurses:  | nurses:  | nurses:  |\n",
      "| shift 3 | need: 5  | need: 4  | need: 5  | need: 4  | need: 3  | need: 5  | need: 5  |\n",
      "|         | nurses:  | nurses:  | nurses:  | nurses:  | nurses:  | nurses:  | nurses:  |\n",
      "+---------+----------+----------+----------+----------+----------+----------+----------+\n"
     ]
    }
   ],
   "source": [
    "schedule = Schedule(num_nurses_needed=num_nurses_per_shift, is_random=True)\n",
    "model = abm_scheduling.NSP_AB_Model()\n",
    "schedule.print_schedule(schedule_name=\"Intial Situation\")"
   ]
  },
  {
   "cell_type": "code",
   "execution_count": 16,
   "metadata": {},
   "outputs": [
    {
     "name": "stdout",
     "output_type": "stream",
     "text": [
      "Crude hypothetical shift coverage: 0.9795918367346939\n",
      "Shift Coverage Hypothetical Maximum\n",
      "+---------+------------+------------+------------+------------+------------+-----------+-----------+\n",
      "|         | Mo         | Tu         | We         | Th         | Fr         | Sa        | So        |\n",
      "+---------+------------+------------+------------+------------+------------+-----------+-----------+\n",
      "| shift 1 | need: 4    | need: 3    | need: 5    | need: 5    | need: 4    | need: 6   | need: 4   |\n",
      "|         | nurses: 17 | nurses: 19 | nurses: 18 | nurses: 16 | nurses: 18 | nurses: 5 | nurses: 7 |\n",
      "|         | (4.25)     | (6.33)     | (3.6)      | (3.2)      | (4.5)      | (0.833)   | (1.75)    |\n",
      "| shift 2 | need: 5    | need: 4    | need: 5    | need: 4    | need: 7    | need: 4   | need: 7   |\n",
      "|         | nurses: 19 | nurses: 18 | nurses: 20 | nurses: 20 | nurses: 17 | nurses: 7 | nurses: 6 |\n",
      "|         | (3.8)      | (4.5)      | (4)        | (5)        | (2.43)     | (1.75)    | (0.857)   |\n",
      "| shift 3 | need: 5    | need: 4    | need: 5    | need: 4    | need: 3    | need: 5   | need: 5   |\n",
      "|         | nurses: 20 | nurses: 17 | nurses: 21 | nurses: 17 | nurses: 15 | nurses: 7 | nurses: 7 |\n",
      "|         | (4)        | (4.25)     | (4.2)      | (4.25)     | (5)        | (1.4)     | (1.4)     |\n",
      "+---------+------------+------------+------------+------------+------------+-----------+-----------+\n",
      "Nurse productivity -  \n",
      "Nr:   0, \tassig:15,\tmin:6,\tmax: 6,\tdeg.av:0.70,\tprod: 2.50,\tsatisf:  -1500.00,\toverbooked\n",
      "Nr:   1, \tassig:13,\tmin:6,\tmax: 6,\tdeg.av:0.70,\tprod: 2.17,\tsatisf:  -1166.67,\toverbooked\n",
      "Nr:   2, \tassig:12,\tmin:6,\tmax: 6,\tdeg.av:0.70,\tprod: 2.00,\tsatisf:  -1000.00,\toverbooked\n",
      "Nr:   3, \tassig:15,\tmin:6,\tmax: 6,\tdeg.av:0.70,\tprod: 2.50,\tsatisf:  -1500.00,\toverbooked\n",
      "Nr:   4, \tassig:15,\tmin:6,\tmax: 6,\tdeg.av:0.70,\tprod: 2.50,\tsatisf:  -1500.00,\toverbooked\n",
      "Nr:   5, \tassig:16,\tmin:6,\tmax: 6,\tdeg.av:0.70,\tprod: 2.67,\tsatisf:  -1666.67,\toverbooked\n",
      "Nr:   6, \tassig:18,\tmin:6,\tmax: 6,\tdeg.av:0.70,\tprod: 3.00,\tsatisf:  -2000.00,\toverbooked\n",
      "Nr:   7, \tassig:12,\tmin:6,\tmax: 6,\tdeg.av:0.70,\tprod: 2.00,\tsatisf:  -1000.00,\toverbooked\n",
      "Nr:   8, \tassig:16,\tmin:6,\tmax: 6,\tdeg.av:0.70,\tprod: 2.67,\tsatisf:  -1666.67,\toverbooked\n",
      "Nr:   9, \tassig:17,\tmin:6,\tmax: 6,\tdeg.av:0.70,\tprod: 2.83,\tsatisf:  -1833.33,\toverbooked\n",
      "Nr:  10, \tassig:12,\tmin:6,\tmax: 6,\tdeg.av:0.70,\tprod: 2.00,\tsatisf:  -1000.00,\toverbooked\n",
      "Nr:  11, \tassig:12,\tmin:6,\tmax: 6,\tdeg.av:0.70,\tprod: 2.00,\tsatisf:  -1000.00,\toverbooked\n",
      "Nr:  12, \tassig:11,\tmin:6,\tmax: 6,\tdeg.av:0.70,\tprod: 1.83,\tsatisf:   -833.33,\toverbooked\n",
      "Nr:  13, \tassig:12,\tmin:6,\tmax: 6,\tdeg.av:0.70,\tprod: 2.00,\tsatisf:  -1000.00,\toverbooked\n",
      "Nr:  14, \tassig:8,\tmin:6,\tmax: 6,\tdeg.av:0.70,\tprod: 1.33,\tsatisf:   -333.33,\toverbooked\n",
      "Nr:  15, \tassig:14,\tmin:6,\tmax: 6,\tdeg.av:0.70,\tprod: 2.33,\tsatisf:  -1333.33,\toverbooked\n",
      "Nr:  16, \tassig:12,\tmin:6,\tmax: 6,\tdeg.av:0.70,\tprod: 2.00,\tsatisf:  -1000.00,\toverbooked\n",
      "Nr:  17, \tassig:9,\tmin:6,\tmax: 6,\tdeg.av:0.70,\tprod: 1.50,\tsatisf:   -500.00,\toverbooked\n",
      "Nr:  18, \tassig:8,\tmin:6,\tmax: 6,\tdeg.av:0.70,\tprod: 1.33,\tsatisf:   -333.33,\toverbooked\n",
      "Nr:  19, \tassig:12,\tmin:6,\tmax: 6,\tdeg.av:0.70,\tprod: 2.00,\tsatisf:  -1000.00,\toverbooked\n",
      "Nr:  20, \tassig:9,\tmin:6,\tmax: 6,\tdeg.av:0.70,\tprod: 1.50,\tsatisf:   -500.00,\toverbooked\n",
      "Nr:  21, \tassig:10,\tmin:6,\tmax: 6,\tdeg.av:0.70,\tprod: 1.67,\tsatisf:   -666.67,\toverbooked\n",
      "Nr:  22, \tassig:10,\tmin:6,\tmax: 6,\tdeg.av:0.70,\tprod: 1.67,\tsatisf:   -666.67,\toverbooked\n",
      "Nr:  23, \tassig:12,\tmin:6,\tmax: 6,\tdeg.av:0.70,\tprod: 2.00,\tsatisf:  -1000.00,\toverbooked\n",
      "Nr:  24, \tassig:11,\tmin:6,\tmax: 6,\tdeg.av:0.70,\tprod: 1.83,\tsatisf:   -833.33,\toverbooked\n"
     ]
    }
   ],
   "source": [
    "model.show_hypothetical_max_schedule(schedule=schedule, nurses=nurses, print_detail_schedule = False, print_nurse_productivity = True)"
   ]
  },
  {
   "cell_type": "code",
   "execution_count": 9,
   "metadata": {},
   "outputs": [
    {
     "data": {
      "text/plain": [
       "-25000.0"
      ]
     },
     "execution_count": 9,
     "metadata": {},
     "output_type": "execute_result"
    }
   ],
   "source": [
    "model.get_total_agent_satisfaction(nurses)"
   ]
  },
  {
   "cell_type": "code",
   "execution_count": 10,
   "metadata": {},
   "outputs": [
    {
     "name": "stdout",
     "output_type": "stream",
     "text": [
      "Week's Schedule Best Schedule. Beta: (0.8),p: (0.001)\n",
      "+---------+------------+------------+-------------+------------+-------------+----------+----------+\n",
      "|         | Mo         | Tu         | We          | Th         | Fr          | Sa       | So       |\n",
      "+---------+------------+------------+-------------+------------+-------------+----------+----------+\n",
      "| shift 1 | need: 4    | need: 3    | need: 5     | need: 5    | need: 4     | need: 6  | need: 4  |\n",
      "|         | nurses:    | nurses:    | nurses:     | nurses:    | nurses:     | nurses:  | nurses:  |\n",
      "|         | 12,0,3,17  | 0,6,24     | 10,16,19,6, | 24,3,19,8, | 23,3,24,4   | 8,9,4    | 9,2,3,0  |\n",
      "|         |            |            | 18          | 7          |             |          |          |\n",
      "| shift 2 | need: 5    | need: 4    | need: 5     | need: 4    | need: 7     | need: 4  | need: 7  |\n",
      "|         | nurses:    | nurses:    | nurses:     | nurses:    | nurses:     | nurses:  | nurses:  |\n",
      "|         | 2,7,5,24,  | 12,19,15,3 | 14,13,22,9, | 18,15,9,2  | 9,11,19,10, | 2,6,3,0  | 8,5,4    |\n",
      "|         | 23         |            | 0           |            | 16,14,0     |          |          |\n",
      "| shift 3 | need: 5    | need: 4    | need: 5     | need: 4    | need: 3     | need: 5  | need: 5  |\n",
      "|         | nurses:    | nurses:    | nurses:     | nurses:    | nurses:     | nurses:  | nurses:  |\n",
      "|         | 21,4,16,8, | 18,20,21,2 | 21,15,20,2, | 6,12,22,23 | 21,1,5      | 1,7,5    | 6,1,7    |\n",
      "|         | 13         |            | 12          |            |             |          |          |\n",
      "+---------+------------+------------+-------------+------------+-------------+----------+----------+\n",
      "Solution shift coverage: 0.8877551020408163\n",
      "Solution utility:  696.0\n",
      "Agent satisfaction:  2976.5333333333315\n",
      "Start:  2019-06-16 19:47:08.642390\n",
      "End:  2019-06-16 19:47:51.945198\n",
      "Elapsed time: 00:00:43\n"
     ]
    }
   ],
   "source": [
    "# Default utility function (no agent satisfaction)\n",
    "start_time = datetime.today()\n",
    "results = model.run(schedule_org=schedule, nurses_org=nurses, beta=0.8, \n",
    "                         p_to_accept_negative_change=.001, utility_function_parameters = None)\n",
    "end_time = datetime.today()\n",
    "log.print_elapsed_time(start_time,end_time)"
   ]
  },
  {
   "cell_type": "code",
   "execution_count": 11,
   "metadata": {},
   "outputs": [
    {
     "name": "stdout",
     "output_type": "stream",
     "text": [
      "Nurse productivity -  \n",
      "Nr:   0, \tassig:6,\tmin:6,\tmax: 6,\tdeg.av:0.70,\tprod: 1.00,\tsatisf:    768.60,\tok\n",
      "Nr:   1, \tassig:5,\tmin:6,\tmax: 6,\tdeg.av:0.70,\tprod: 0.83,\tsatisf:    533.67,\tunderbooked\n",
      "Nr:   2, \tassig:4,\tmin:6,\tmax: 6,\tdeg.av:0.70,\tprod: 0.67,\tsatisf:    281.67,\tunderbooked\n",
      "Nr:   3, \tassig:4,\tmin:6,\tmax: 6,\tdeg.av:0.70,\tprod: 0.67,\tsatisf:    281.67,\tunderbooked\n",
      "Nr:   4, \tassig:6,\tmin:6,\tmax: 6,\tdeg.av:0.70,\tprod: 1.00,\tsatisf:    768.60,\tok\n",
      "Nr:   5, \tassig:4,\tmin:6,\tmax: 6,\tdeg.av:0.70,\tprod: 0.67,\tsatisf:    281.67,\tunderbooked\n",
      "Nr:   6, \tassig:4,\tmin:6,\tmax: 6,\tdeg.av:0.70,\tprod: 0.67,\tsatisf:    281.67,\tunderbooked\n",
      "Nr:   7, \tassig:5,\tmin:6,\tmax: 6,\tdeg.av:0.70,\tprod: 0.83,\tsatisf:    533.67,\tunderbooked\n",
      "Nr:   8, \tassig:3,\tmin:6,\tmax: 6,\tdeg.av:0.70,\tprod: 0.50,\tsatisf:      8.33,\tunderbooked\n",
      "Nr:   9, \tassig:4,\tmin:6,\tmax: 6,\tdeg.av:0.70,\tprod: 0.67,\tsatisf:    281.67,\tunderbooked\n",
      "Nr:  10, \tassig:2,\tmin:6,\tmax: 6,\tdeg.av:0.70,\tprod: 0.33,\tsatisf:   -291.67,\tunderbooked\n",
      "Nr:  11, \tassig:4,\tmin:6,\tmax: 6,\tdeg.av:0.70,\tprod: 0.67,\tsatisf:    281.67,\tunderbooked\n",
      "Nr:  12, \tassig:3,\tmin:6,\tmax: 6,\tdeg.av:0.70,\tprod: 0.50,\tsatisf:      8.33,\tunderbooked\n",
      "Nr:  13, \tassig:3,\tmin:6,\tmax: 6,\tdeg.av:0.70,\tprod: 0.50,\tsatisf:      8.33,\tunderbooked\n",
      "Nr:  14, \tassig:3,\tmin:6,\tmax: 6,\tdeg.av:0.70,\tprod: 0.50,\tsatisf:      8.33,\tunderbooked\n",
      "Nr:  15, \tassig:3,\tmin:6,\tmax: 6,\tdeg.av:0.70,\tprod: 0.50,\tsatisf:      8.33,\tunderbooked\n",
      "Nr:  16, \tassig:3,\tmin:6,\tmax: 6,\tdeg.av:0.70,\tprod: 0.50,\tsatisf:      8.33,\tunderbooked\n",
      "Nr:  17, \tassig:2,\tmin:6,\tmax: 6,\tdeg.av:0.70,\tprod: 0.33,\tsatisf:   -291.67,\tunderbooked\n",
      "Nr:  18, \tassig:0,\tmin:6,\tmax: 6,\tdeg.av:0.70,\tprod: 0.00,\tsatisf:  -1000.00,\tunderbooked\n",
      "Nr:  19, \tassig:3,\tmin:6,\tmax: 6,\tdeg.av:0.70,\tprod: 0.50,\tsatisf:      8.33,\tunderbooked\n",
      "Nr:  20, \tassig:1,\tmin:6,\tmax: 6,\tdeg.av:0.70,\tprod: 0.17,\tsatisf:   -625.00,\tunderbooked\n",
      "Nr:  21, \tassig:3,\tmin:6,\tmax: 6,\tdeg.av:0.70,\tprod: 0.50,\tsatisf:      8.33,\tunderbooked\n",
      "Nr:  22, \tassig:3,\tmin:6,\tmax: 6,\tdeg.av:0.70,\tprod: 0.50,\tsatisf:      8.33,\tunderbooked\n",
      "Nr:  23, \tassig:4,\tmin:6,\tmax: 6,\tdeg.av:0.70,\tprod: 0.67,\tsatisf:    281.67,\tunderbooked\n",
      "Nr:  24, \tassig:5,\tmin:6,\tmax: 6,\tdeg.av:0.70,\tprod: 0.83,\tsatisf:    533.67,\tunderbooked\n"
     ]
    }
   ],
   "source": [
    "model.print_nurse_productivity(results.nurses)"
   ]
  },
  {
   "cell_type": "code",
   "execution_count": 14,
   "metadata": {},
   "outputs": [
    {
     "name": "stdout",
     "output_type": "stream",
     "text": [
      "Week's Schedule Best Schedule. Beta: (0.8),p: (0.001)\n",
      "+---------+--------------+------------+-------------+-------------+--------------+----------+----------+\n",
      "|         | Mo           | Tu         | We          | Th          | Fr           | Sa       | So       |\n",
      "+---------+--------------+------------+-------------+-------------+--------------+----------+----------+\n",
      "| shift 1 | need: 4      | need: 3    | need: 5     | need: 5     | need: 4      | need: 6  | need: 4  |\n",
      "|         | nurses:      | nurses:    | nurses:     | nurses:     | nurses:      | nurses:  | nurses:  |\n",
      "|         | 6,19,17,13   | 13,7,12    | 14,17,6,9,  | 7,8,3,17,   | 0,11,23,9    | 9,4,2    | 9,0,3    |\n",
      "|         |              |            | 13          | 0           |              |          |          |\n",
      "| shift 2 | need: 5      | need: 4    | need: 5     | need: 4     | need: 7      | need: 4  | need: 7  |\n",
      "|         | nurses:      | nurses:    | nurses:     | nurses:     | nurses:      | nurses:  | nurses:  |\n",
      "|         | 23,14,1,8,   | 24,1,15,19 | 2,10,22,3,  | 4,6,10,5    | 10,13,19,14, | 1,6,3    | 4,5      |\n",
      "|         | 10           |            | 21          |             | 21,22,24     |          |          |\n",
      "| shift 3 | need: 5      | need: 4    | need: 5     | need: 4     | need: 3      | need: 5  | need: 5  |\n",
      "|         | nurses:      | nurses:    | nurses:     | nurses:     | nurses:      | nurses:  | nurses:  |\n",
      "|         | 16,15,22,21, | 18,0,14,17 | 11,19,18,7, | 19,20,23,18 | 5,20,16      | 5,7,0,8  | 8,7,1,2, |\n",
      "|         | 4            |            | 12          |             |              |          | 6        |\n",
      "+---------+--------------+------------+-------------+-------------+--------------+----------+----------+\n",
      "Solution shift coverage: 0.8877551020408163\n",
      "Solution utility:  813.6085333333338\n",
      "Agent satisfaction:  3675.2666666666646\n",
      "Start:  2019-06-16 19:47:08.642390\n",
      "End:  2019-06-16 19:53:13.886088\n",
      "Elapsed time: 00:06:05\n"
     ]
    }
   ],
   "source": [
    "# Agent satisfaction utility function\n",
    "utility_function_parameters = abm_scheduling.Utility_Function_Parameters()\n",
    "utility_function_parameters.utility_function = 'agent_satisfaction'\n",
    "results = model.run(schedule_org=schedule, nurses_org=nurses, \n",
    "                         p_to_accept_negative_change=.001, utility_function_parameters = utility_function_parameters)\n",
    "end_time = datetime.today()\n",
    "log.print_elapsed_time(start_time,end_time)"
   ]
  },
  {
   "cell_type": "code",
   "execution_count": 15,
   "metadata": {},
   "outputs": [
    {
     "name": "stdout",
     "output_type": "stream",
     "text": [
      "Nurse productivity -  \n",
      "Nr:   0, \tassig:4,\tmin:6,\tmax: 6,\tdeg.av:0.70,\tprod: 0.67,\tsatisf:    281.67,\tunderbooked\n",
      "Nr:   1, \tassig:5,\tmin:6,\tmax: 6,\tdeg.av:0.70,\tprod: 0.83,\tsatisf:    533.67,\tunderbooked\n",
      "Nr:   2, \tassig:3,\tmin:6,\tmax: 6,\tdeg.av:0.70,\tprod: 0.50,\tsatisf:      8.33,\tunderbooked\n",
      "Nr:   3, \tassig:4,\tmin:6,\tmax: 6,\tdeg.av:0.70,\tprod: 0.67,\tsatisf:    281.67,\tunderbooked\n",
      "Nr:   4, \tassig:5,\tmin:6,\tmax: 6,\tdeg.av:0.70,\tprod: 0.83,\tsatisf:    533.67,\tunderbooked\n",
      "Nr:   5, \tassig:5,\tmin:6,\tmax: 6,\tdeg.av:0.70,\tprod: 0.83,\tsatisf:    533.67,\tunderbooked\n",
      "Nr:   6, \tassig:5,\tmin:6,\tmax: 6,\tdeg.av:0.70,\tprod: 0.83,\tsatisf:    533.67,\tunderbooked\n",
      "Nr:   7, \tassig:4,\tmin:6,\tmax: 6,\tdeg.av:0.70,\tprod: 0.67,\tsatisf:    281.67,\tunderbooked\n",
      "Nr:   8, \tassig:6,\tmin:6,\tmax: 6,\tdeg.av:0.70,\tprod: 1.00,\tsatisf:    768.60,\tok\n",
      "Nr:   9, \tassig:4,\tmin:6,\tmax: 6,\tdeg.av:0.70,\tprod: 0.67,\tsatisf:    281.67,\tunderbooked\n",
      "Nr:  10, \tassig:3,\tmin:6,\tmax: 6,\tdeg.av:0.70,\tprod: 0.50,\tsatisf:      8.33,\tunderbooked\n",
      "Nr:  11, \tassig:2,\tmin:6,\tmax: 6,\tdeg.av:0.70,\tprod: 0.33,\tsatisf:   -291.67,\tunderbooked\n",
      "Nr:  12, \tassig:4,\tmin:6,\tmax: 6,\tdeg.av:0.70,\tprod: 0.67,\tsatisf:    281.67,\tunderbooked\n",
      "Nr:  13, \tassig:3,\tmin:6,\tmax: 6,\tdeg.av:0.70,\tprod: 0.50,\tsatisf:      8.33,\tunderbooked\n",
      "Nr:  14, \tassig:5,\tmin:6,\tmax: 6,\tdeg.av:0.70,\tprod: 0.83,\tsatisf:    533.67,\tunderbooked\n",
      "Nr:  15, \tassig:3,\tmin:6,\tmax: 6,\tdeg.av:0.70,\tprod: 0.50,\tsatisf:      8.33,\tunderbooked\n",
      "Nr:  16, \tassig:2,\tmin:6,\tmax: 6,\tdeg.av:0.70,\tprod: 0.33,\tsatisf:   -291.67,\tunderbooked\n",
      "Nr:  17, \tassig:4,\tmin:6,\tmax: 6,\tdeg.av:0.70,\tprod: 0.67,\tsatisf:    281.67,\tunderbooked\n",
      "Nr:  18, \tassig:2,\tmin:6,\tmax: 6,\tdeg.av:0.70,\tprod: 0.33,\tsatisf:   -291.67,\tunderbooked\n",
      "Nr:  19, \tassig:3,\tmin:6,\tmax: 6,\tdeg.av:0.70,\tprod: 0.50,\tsatisf:      8.33,\tunderbooked\n",
      "Nr:  20, \tassig:2,\tmin:6,\tmax: 6,\tdeg.av:0.70,\tprod: 0.33,\tsatisf:   -291.67,\tunderbooked\n",
      "Nr:  21, \tassig:3,\tmin:6,\tmax: 6,\tdeg.av:0.70,\tprod: 0.50,\tsatisf:      8.33,\tunderbooked\n",
      "Nr:  22, \tassig:1,\tmin:6,\tmax: 6,\tdeg.av:0.70,\tprod: 0.17,\tsatisf:   -625.00,\tunderbooked\n",
      "Nr:  23, \tassig:4,\tmin:6,\tmax: 6,\tdeg.av:0.70,\tprod: 0.67,\tsatisf:    281.67,\tunderbooked\n",
      "Nr:  24, \tassig:3,\tmin:6,\tmax: 6,\tdeg.av:0.70,\tprod: 0.50,\tsatisf:      8.33,\tunderbooked\n"
     ]
    }
   ],
   "source": [
    "model.print_nurse_productivity(results.nurses)"
   ]
  },
  {
   "cell_type": "code",
   "execution_count": null,
   "metadata": {},
   "outputs": [],
   "source": []
  },
  {
   "cell_type": "code",
   "execution_count": null,
   "metadata": {},
   "outputs": [],
   "source": []
  },
  {
   "cell_type": "code",
   "execution_count": null,
   "metadata": {},
   "outputs": [],
   "source": []
  },
  {
   "cell_type": "markdown",
   "metadata": {},
   "source": [
    "## Targeted search. Define situation"
   ]
  },
  {
   "cell_type": "code",
   "execution_count": null,
   "metadata": {},
   "outputs": [],
   "source": [
    "#%% Initializations\n",
    "p_to_accept_negative_change = .001\n",
    "\n",
    "# Situation definition\n",
    "matrix_nurses_needed = [5,6,3, 5,6,3, 5,6,3, 5,6,3, 5,6,5, 6,6,5, 6,6,3]\n",
    "#type 1 only first shift work week days\n",
    "matrix_nurse_availability_type1 = ['x','','', 'x','','',  'x','','', 'x','','', 'x','','', 'x','','', '','','x']\n",
    "#type 2 1s+2s work week days\n",
    "matrix_nurse_availability_type2 = ['x','x','', 'x','x','',  'x','x','', 'x','x','', 'x','x','', '','','', '','','']\n",
    "#type 3 1s+2s+3s work week days\n",
    "matrix_nurse_availability_type3 = ['x','x','x', 'x','x','x',  'x','x','x', 'x','x','x', 'x','x','', 'x','x','', 'x','x','']\n",
    "#type 4 \"springers\"\n",
    "matrix_nurse_availability_type4 = ['x','x','x', 'x','x','x',  'x','x','x', 'x','x','x', 'x','x','x', 'x','x','x', 'x','x','x']\n",
    "maximum_shifts_type4=3\n",
    "#type 5 work only weekends\n",
    "matrix_nurse_availability_type5 = ['','','', '','','', '','','', '','','', '','','x', 'x','x','x', 'x','x','x']\n",
    "\n",
    "\n",
    "# Create Schedule\n",
    "#schedule_random = Schedule(matrix_nurses_needed=matrix_nurses_needed, is_random=False)\n",
    "schedule = Schedule(matrix_nurses_needed=matrix_nurses_needed)\n",
    "\n",
    "# Create model and nurses\n",
    "model = abm_scheduling.NSP_AB_Model()\n",
    "#nurses = model.generate_nurses(10, 0.5, True)\n",
    "list_nurse_schedules = []\n",
    "list_nurse_schedules.append(matrix_nurse_availability_type1)\n",
    "list_nurse_schedules.append(matrix_nurse_availability_type1)\n",
    "list_nurse_schedules.append(matrix_nurse_availability_type1)\n",
    "list_nurse_schedules.append(matrix_nurse_availability_type1)\n",
    "list_nurse_schedules.append(matrix_nurse_availability_type2)\n",
    "list_nurse_schedules.append(matrix_nurse_availability_type2)\n",
    "list_nurse_schedules.append(matrix_nurse_availability_type2)\n",
    "list_nurse_schedules.append(matrix_nurse_availability_type2)\n",
    "list_nurse_schedules.append(matrix_nurse_availability_type3)\n",
    "list_nurse_schedules.append(matrix_nurse_availability_type3)\n",
    "list_nurse_schedules.append(matrix_nurse_availability_type4)\n",
    "list_nurse_schedules.append(matrix_nurse_availability_type4)\n",
    "list_nurse_schedules.append(matrix_nurse_availability_type5)\n",
    "list_nurse_schedules.append(matrix_nurse_availability_type5)\n",
    "list_nurse_schedules.append(matrix_nurse_availability_type5)\n",
    "\n",
    "nurses = model.generate_nurses_from_nurse_schedules(list_nurse_schedules)\n",
    "schedule.print_schedule(schedule_name=\"Intial Situation\")"
   ]
  },
  {
   "cell_type": "code",
   "execution_count": null,
   "metadata": {},
   "outputs": [],
   "source": [
    "nurses[10].minimum_shifts = 2\n",
    "nurses[10].maximum_shifts = 4\n",
    "nurses[10].print_shift_preferences()\n",
    "nurses[11].minimum_shifts = 2\n",
    "nurses[11].maximum_shifts = 4\n",
    "nurses[11].print_shift_preferences()"
   ]
  },
  {
   "cell_type": "code",
   "execution_count": null,
   "metadata": {},
   "outputs": [],
   "source": [
    "model.get_total_agent_satisfaction(nurses)"
   ]
  },
  {
   "cell_type": "code",
   "execution_count": null,
   "metadata": {},
   "outputs": [],
   "source": [
    "model.print_nurse_productivity(nurses)"
   ]
  },
  {
   "cell_type": "code",
   "execution_count": null,
   "metadata": {},
   "outputs": [],
   "source": [
    "model.show_hypothetical_max_schedule(schedule=schedule, nurses=nurses)"
   ]
  },
  {
   "cell_type": "code",
   "execution_count": null,
   "metadata": {},
   "outputs": [],
   "source": [
    "# Default utility function (no agent satisfaction)\n",
    "start_time = datetime.today()\n",
    "results = model.run(schedule_org=schedule, nurses_org=nurses, beta=0.9, \n",
    "                         p_to_accept_negative_change=.001, utility_function_parameters = None)\n",
    "end_time = datetime.today()\n",
    "log.print_elapsed_time(start_time,end_time)"
   ]
  },
  {
   "cell_type": "code",
   "execution_count": null,
   "metadata": {},
   "outputs": [],
   "source": [
    "model.print_nurse_productivity(results.nurses)"
   ]
  },
  {
   "cell_type": "code",
   "execution_count": null,
   "metadata": {},
   "outputs": [],
   "source": [
    "# Agent satisfaction utility function\n",
    "utility_function_parameters = abm_scheduling.Utility_Function_Parameters()\n",
    "utility_function_parameters.utility_function = 'agent_satisfaction'\n",
    "results = model.run(schedule_org=schedule, nurses_org=nurses, beta=0.9, \n",
    "                         p_to_accept_negative_change=.001, utility_function_parameters = utility_function_parameters)\n",
    "end_time = datetime.today()\n",
    "log.print_elapsed_time(start_time,end_time)"
   ]
  },
  {
   "cell_type": "code",
   "execution_count": null,
   "metadata": {},
   "outputs": [],
   "source": [
    "model.print_nurse_productivity(results.nurses)"
   ]
  },
  {
   "cell_type": "code",
   "execution_count": null,
   "metadata": {},
   "outputs": [],
   "source": []
  }
 ],
 "metadata": {
  "kernelspec": {
   "display_name": "Python 3",
   "language": "python",
   "name": "python3"
  },
  "language_info": {
   "codemirror_mode": {
    "name": "ipython",
    "version": 3
   },
   "file_extension": ".py",
   "mimetype": "text/x-python",
   "name": "python",
   "nbconvert_exporter": "python",
   "pygments_lexer": "ipython3",
   "version": "3.6.8"
  }
 },
 "nbformat": 4,
 "nbformat_minor": 2
}
