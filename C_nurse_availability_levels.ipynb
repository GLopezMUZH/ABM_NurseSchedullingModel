{
 "cells": [
  {
   "cell_type": "markdown",
   "metadata": {},
   "source": [
    "Situation:\n",
    "\n",
    "    70% more agent availability on week days as weekends\n",
    "    Shift requirements normal distribution around 5 nurses/shift\n",
    "    Beta = 0.8\n",
    "\n",
    "Task:\n",
    "\n",
    "    Evaluate Shift Coverage over Nurse availability starting from 0 to 5times shift requirements\n"
   ]
  },
  {
   "cell_type": "code",
   "execution_count": null,
   "metadata": {},
   "outputs": [],
   "source": []
  }
 ],
 "metadata": {
  "kernelspec": {
   "display_name": "Python 3",
   "language": "python",
   "name": "python3"
  },
  "language_info": {
   "codemirror_mode": {
    "name": "ipython",
    "version": 3
   },
   "file_extension": ".py",
   "mimetype": "text/x-python",
   "name": "python",
   "nbconvert_exporter": "python",
   "pygments_lexer": "ipython3",
   "version": "3.6.8"
  }
 },
 "nbformat": 4,
 "nbformat_minor": 2
}
