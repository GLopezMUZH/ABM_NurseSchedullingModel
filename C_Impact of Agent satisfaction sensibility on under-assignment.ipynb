{
 "cells": [
  {
   "cell_type": "markdown",
   "metadata": {},
   "source": [
    "# Case. Impact of Agent satisfaction sensibility on under-assignment"
   ]
  },
  {
   "cell_type": "markdown",
   "metadata": {},
   "source": [
    "Situation:\n",
    "\n",
    "    More agent availability on week days as weekends, 40% agents work on weekends, 60% not.\n",
    "    NOT INCLUDED: Shift requirements higher on Friday 3rd Shift (3S), Saturday 1S and 3S, Sunday 3S\n",
    "    Beta = 0.8\n",
    "\n",
    "Task:\n",
    "\n",
    "    Evaluate Shift Coverage over Agent satisfaction penalty for under-assignment\n",
    "    Evaluate Agent Satisfaction over Agent satisfaction penalty for under-assignment using default function and shift stability function"
   ]
  },
  {
   "cell_type": "code",
   "execution_count": 1,
   "metadata": {},
   "outputs": [],
   "source": [
    "import abm_scheduling\n",
    "from abm_scheduling import Schedule as Schedule\n",
    "from abm_scheduling import Nurse as Nurse"
   ]
  },
  {
   "cell_type": "code",
   "execution_count": 2,
   "metadata": {},
   "outputs": [],
   "source": [
    "import time\n",
    "from datetime import datetime\n",
    "\n",
    "import abm_scheduling.Log\n",
    "from abm_scheduling.Log import Log as Log\n",
    "\n",
    "log = Log()"
   ]
  },
  {
   "cell_type": "markdown",
   "metadata": {},
   "source": [
    "## Randomized. Define situation"
   ]
  },
  {
   "cell_type": "code",
   "execution_count": 3,
   "metadata": {},
   "outputs": [],
   "source": [
    "p_to_accept_negative_change = .001\n",
    "num_nurses_per_shift = 5\n",
    "beta = 0.8"
   ]
  },
  {
   "cell_type": "code",
   "execution_count": 4,
   "metadata": {},
   "outputs": [],
   "source": [
    "# 25 nurses, only 10 can work on weekends\n",
    "nurses = []\n",
    "for n in range(10):\n",
    "    nurse = Nurse(id_name=n)\n",
    "    nurse.generate_shift_preferences(degree_of_agent_availability=0.7, works_weekends=True)\n",
    "    nurses.append(nurse)"
   ]
  },
  {
   "cell_type": "code",
   "execution_count": 5,
   "metadata": {},
   "outputs": [],
   "source": [
    "for n in range(15):\n",
    "    nurse = Nurse(id_name=(10+n))\n",
    "    nurse.generate_shift_preferences(degree_of_agent_availability=0.7, works_weekends=False)\n",
    "    nurses.append(nurse)"
   ]
  },
  {
   "cell_type": "code",
   "execution_count": 6,
   "metadata": {},
   "outputs": [
    {
     "name": "stdout",
     "output_type": "stream",
     "text": [
      "Week's Schedule Intial Situation\n",
      "+---------+----------+----------+----------+----------+----------+----------+----------+\n",
      "|         | Mo       | Tu       | We       | Th       | Fr       | Sa       | So       |\n",
      "+---------+----------+----------+----------+----------+----------+----------+----------+\n",
      "| shift 1 | need: 6  | need: 3  | need: 7  | need: 4  | need: 6  | need: 6  | need: 6  |\n",
      "|         | nurses:  | nurses:  | nurses:  | nurses:  | nurses:  | nurses:  | nurses:  |\n",
      "| shift 2 | need: 6  | need: 7  | need: 6  | need: 4  | need: 5  | need: 5  | need: 5  |\n",
      "|         | nurses:  | nurses:  | nurses:  | nurses:  | nurses:  | nurses:  | nurses:  |\n",
      "| shift 3 | need: 4  | need: 6  | need: 7  | need: 6  | need: 4  | need: 5  | need: 7  |\n",
      "|         | nurses:  | nurses:  | nurses:  | nurses:  | nurses:  | nurses:  | nurses:  |\n",
      "+---------+----------+----------+----------+----------+----------+----------+----------+\n"
     ]
    }
   ],
   "source": [
    "schedule = Schedule(num_nurses_needed=num_nurses_per_shift, is_random=True)\n",
    "model = abm_scheduling.NSP_AB_Model()\n",
    "schedule.print_schedule(schedule_name=\"Intial Situation\")"
   ]
  },
  {
   "cell_type": "code",
   "execution_count": 7,
   "metadata": {},
   "outputs": [
    {
     "name": "stdout",
     "output_type": "stream",
     "text": [
      "Crude hypothetical shift coverage: 1.0\n",
      "Shift Coverage Hypothetical Maximum\n",
      "+---------+------------+------------+------------+------------+------------+-----------+-----------+\n",
      "|         | Mo         | Tu         | We         | Th         | Fr         | Sa        | So        |\n",
      "+---------+------------+------------+------------+------------+------------+-----------+-----------+\n",
      "| shift 1 | need: 6    | need: 3    | need: 7    | need: 4    | need: 6    | need: 6   | need: 6   |\n",
      "|         | nurses: 21 | nurses: 13 | nurses: 19 | nurses: 15 | nurses: 16 | nurses: 6 | nurses: 7 |\n",
      "|         | (3.5)      | (4.33)     | (2.71)     | (3.75)     | (2.67)     | (1)       | (1.17)    |\n",
      "| shift 2 | need: 6    | need: 7    | need: 6    | need: 4    | need: 5    | need: 5   | need: 5   |\n",
      "|         | nurses: 18 | nurses: 18 | nurses: 17 | nurses: 17 | nurses: 20 | nurses: 8 | nurses: 9 |\n",
      "|         | (3)        | (2.57)     | (2.83)     | (4.25)     | (4)        | (1.6)     | (1.8)     |\n",
      "| shift 3 | need: 4    | need: 6    | need: 7    | need: 6    | need: 4    | need: 5   | need: 7   |\n",
      "|         | nurses: 21 | nurses: 18 | nurses: 19 | nurses: 17 | nurses: 14 | nurses: 6 | nurses: 8 |\n",
      "|         | (5.25)     | (3)        | (2.71)     | (2.83)     | (3.5)      | (1.2)     | (1.14)    |\n",
      "+---------+------------+------------+------------+------------+------------+-----------+-----------+\n"
     ]
    }
   ],
   "source": [
    "model.show_hypothetical_max_schedule(schedule=schedule, nurses=nurses, print_detail_schedule = False)"
   ]
  },
  {
   "cell_type": "code",
   "execution_count": 8,
   "metadata": {},
   "outputs": [
    {
     "data": {
      "text/plain": [
       "-25000.0"
      ]
     },
     "execution_count": 8,
     "metadata": {},
     "output_type": "execute_result"
    }
   ],
   "source": [
    "model.get_total_agent_satisfaction(nurses)"
   ]
  },
  {
   "cell_type": "code",
   "execution_count": 9,
   "metadata": {},
   "outputs": [
    {
     "name": "stdout",
     "output_type": "stream",
     "text": [
      "Week's Schedule Best Schedule. Beta: (0.8),p: (0.001)\n",
      "+---------+--------------+-------------+--------------+-------------+--------------+----------+----------+\n",
      "|         | Mo           | Tu          | We           | Th          | Fr           | Sa       | So       |\n",
      "+---------+--------------+-------------+--------------+-------------+--------------+----------+----------+\n",
      "| shift 1 | need: 6      | need: 3     | need: 7      | need: 4     | need: 6      | need: 6  | need: 6  |\n",
      "|         | nurses:      | nurses:     | nurses:      | nurses:     | nurses:      | nurses:  | nurses:  |\n",
      "|         | 23,4,15,1,   | 2,1,19      | 16,10,4,22,  | 9,22,13,12  | 18,12,20,10, | 7,9,4    | 9,7      |\n",
      "|         | 7,17         |             | 20,12,1      |             | 6,23         |          |          |\n",
      "| shift 2 | need: 6      | need: 7     | need: 6      | need: 4     | need: 5      | need: 5  | need: 5  |\n",
      "|         | nurses:      | nurses:     | nurses:      | nurses:     | nurses:      | nurses:  | nurses:  |\n",
      "|         | 11,19,16,21, | 5,22,24,12, | 3,13,15,6,   | 20,15,21,10 | 14,13,19,11, | 8,0,5    | 5,8,2,4, |\n",
      "|         | 8,18         | 21,16,10    | 5,14         |             | 16           |          | 3        |\n",
      "| shift 3 | need: 4      | need: 6     | need: 7      | need: 6     | need: 4      | need: 5  | need: 7  |\n",
      "|         | nurses:      | nurses:     | nurses:      | nurses:     | nurses:      | nurses:  | nurses:  |\n",
      "|         | 24,0,10,14   | 17,14,9,4,  | 11,21,18,17, | 7,23,5,6,   | 0,5,22,9     | 3,1,2,6  | 6,0,1    |\n",
      "|         |              | 6,15        | 2,19,9       | 19,8        |              |          |          |\n",
      "+---------+--------------+-------------+--------------+-------------+--------------+----------+----------+\n",
      "Solution shift coverage: 0.8782608695652174\n",
      "Solution utility:  808.0\n",
      "Agent satisfaction:  5942.4\n",
      "Start:  2019-06-16 19:20:29.363051\n",
      "End:  2019-06-16 19:21:16.018327\n",
      "Elapsed time: 00:00:46\n"
     ]
    }
   ],
   "source": [
    "# Default utility function (no agent satisfaction)\n",
    "start_time = datetime.today()\n",
    "results = model.run(schedule_org=schedule, nurses_org=nurses, beta=0.8, \n",
    "                         p_to_accept_negative_change=.001, utility_function_parameters = None)\n",
    "end_time = datetime.today()\n",
    "log.print_elapsed_time(start_time,end_time)"
   ]
  },
  {
   "cell_type": "code",
   "execution_count": 10,
   "metadata": {},
   "outputs": [
    {
     "name": "stdout",
     "output_type": "stream",
     "text": [
      "Nurse productivity -  \n",
      "Nr:    0, \tassigned:5,\tmin:6,\tmax: 6,\tdeg.availab:0.70,\tprod: 0.83,\tsatisf: 533.67,\tunderbooked\n",
      "Nr:    1, \tassigned:6,\tmin:6,\tmax: 6,\tdeg.availab:0.70,\tprod: 1.00,\tsatisf: 768.60,\tok\n",
      "Nr:    2, \tassigned:6,\tmin:6,\tmax: 6,\tdeg.availab:0.70,\tprod: 1.00,\tsatisf: 768.60,\tok\n",
      "Nr:    3, \tassigned:4,\tmin:6,\tmax: 6,\tdeg.availab:0.70,\tprod: 0.67,\tsatisf: 281.67,\tunderbooked\n",
      "Nr:    4, \tassigned:6,\tmin:6,\tmax: 6,\tdeg.availab:0.70,\tprod: 1.00,\tsatisf: 768.60,\tok\n",
      "Nr:    5, \tassigned:4,\tmin:6,\tmax: 6,\tdeg.availab:0.70,\tprod: 0.67,\tsatisf: 281.67,\tunderbooked\n",
      "Nr:    6, \tassigned:7,\tmin:6,\tmax: 6,\tdeg.availab:0.70,\tprod: 1.17,\tsatisf: -166.67,\toverbooked\n",
      "Nr:    7, \tassigned:4,\tmin:6,\tmax: 6,\tdeg.availab:0.70,\tprod: 0.67,\tsatisf: 281.67,\tunderbooked\n",
      "Nr:    8, \tassigned:6,\tmin:6,\tmax: 6,\tdeg.availab:0.70,\tprod: 1.00,\tsatisf: 768.60,\tok\n",
      "Nr:    9, \tassigned:5,\tmin:6,\tmax: 6,\tdeg.availab:0.70,\tprod: 0.83,\tsatisf: 533.67,\tunderbooked\n",
      "Nr:   10, \tassigned:2,\tmin:6,\tmax: 6,\tdeg.availab:0.70,\tprod: 0.33,\tsatisf: -291.67,\tunderbooked\n",
      "Nr:   11, \tassigned:3,\tmin:6,\tmax: 6,\tdeg.availab:0.70,\tprod: 0.50,\tsatisf: 8.33,\tunderbooked\n",
      "Nr:   12, \tassigned:4,\tmin:6,\tmax: 6,\tdeg.availab:0.70,\tprod: 0.67,\tsatisf: 281.67,\tunderbooked\n",
      "Nr:   13, \tassigned:4,\tmin:6,\tmax: 6,\tdeg.availab:0.70,\tprod: 0.67,\tsatisf: 281.67,\tunderbooked\n",
      "Nr:   14, \tassigned:3,\tmin:6,\tmax: 6,\tdeg.availab:0.70,\tprod: 0.50,\tsatisf: 8.33,\tunderbooked\n",
      "Nr:   15, \tassigned:3,\tmin:6,\tmax: 6,\tdeg.availab:0.70,\tprod: 0.50,\tsatisf: 8.33,\tunderbooked\n",
      "Nr:   16, \tassigned:3,\tmin:6,\tmax: 6,\tdeg.availab:0.70,\tprod: 0.50,\tsatisf: 8.33,\tunderbooked\n",
      "Nr:   17, \tassigned:3,\tmin:6,\tmax: 6,\tdeg.availab:0.70,\tprod: 0.50,\tsatisf: 8.33,\tunderbooked\n",
      "Nr:   18, \tassigned:3,\tmin:6,\tmax: 6,\tdeg.availab:0.70,\tprod: 0.50,\tsatisf: 8.33,\tunderbooked\n",
      "Nr:   19, \tassigned:3,\tmin:6,\tmax: 6,\tdeg.availab:0.70,\tprod: 0.50,\tsatisf: 8.33,\tunderbooked\n",
      "Nr:   20, \tassigned:5,\tmin:6,\tmax: 6,\tdeg.availab:0.70,\tprod: 0.83,\tsatisf: 533.67,\tunderbooked\n",
      "Nr:   21, \tassigned:5,\tmin:6,\tmax: 6,\tdeg.availab:0.70,\tprod: 0.83,\tsatisf: 533.67,\tunderbooked\n",
      "Nr:   22, \tassigned:3,\tmin:6,\tmax: 6,\tdeg.availab:0.70,\tprod: 0.50,\tsatisf: 8.33,\tunderbooked\n",
      "Nr:   23, \tassigned:2,\tmin:6,\tmax: 6,\tdeg.availab:0.70,\tprod: 0.33,\tsatisf: -291.67,\tunderbooked\n",
      "Nr:   24, \tassigned:3,\tmin:6,\tmax: 6,\tdeg.availab:0.70,\tprod: 0.50,\tsatisf: 8.33,\tunderbooked\n"
     ]
    }
   ],
   "source": [
    "model.print_nurse_productivity(results.nurses)"
   ]
  },
  {
   "cell_type": "code",
   "execution_count": 11,
   "metadata": {},
   "outputs": [
    {
     "name": "stdout",
     "output_type": "stream",
     "text": [
      "Week's Schedule Best Schedule. Beta: (0.8),p: (0.001)\n",
      "+---------+-------------+--------------+-------------+------------+-------------+----------+----------+\n",
      "|         | Mo          | Tu           | We          | Th         | Fr          | Sa       | So       |\n",
      "+---------+-------------+--------------+-------------+------------+-------------+----------+----------+\n",
      "| shift 1 | need: 6     | need: 3      | need: 7     | need: 4    | need: 6     | need: 6  | need: 6  |\n",
      "|         | nurses:     | nurses:      | nurses:     | nurses:    | nurses:     | nurses:  | nurses:  |\n",
      "|         | 4,11,17,12, | 1,21,19      | 1,8,6,20,   | 24,20,9,4  | 23,10,14,0, | 9,4      | 8        |\n",
      "|         | 23,16       |              | 12,22,13    |            | 2,6         |          |          |\n",
      "| shift 2 | need: 6     | need: 7      | need: 6     | need: 4    | need: 5     | need: 5  | need: 5  |\n",
      "|         | nurses:     | nurses:      | nurses:     | nurses:    | nurses:     | nurses:  | nurses:  |\n",
      "|         | 0,8,14,19,  | 11,22,24,15, | 9,5,15,21,  | 8,5,7,18   | 8,16,20,11, | 0,7,2,8  | 9,4,0,6, |\n",
      "|         | 21,1        | 3,0,5        | 2,7         |            | 18          |          | 5        |\n",
      "| shift 3 | need: 4     | need: 6      | need: 7     | need: 6    | need: 4     | need: 5  | need: 7  |\n",
      "|         | nurses:     | nurses:      | nurses:     | nurses:    | nurses:     | nurses:  | nurses:  |\n",
      "|         | 13,24,15,22 | 12,6,23,17,  | 23,4,18,16, | 12,10,6,1, | 13,22,15,19 | 3,5,6,1  | 1,7,2,3  |\n",
      "|         |             | 14,10        | 3,19,11     | 21,13      |             |          |          |\n",
      "+---------+-------------+--------------+-------------+------------+-------------+----------+----------+\n",
      "Solution shift coverage: 0.8782608695652174\n",
      "Solution utility:  1028.6314666666653\n",
      "Agent satisfaction:  6894.733333333333\n",
      "Start:  2019-06-16 19:20:29.363051\n",
      "End:  2019-06-16 19:24:40.286730\n",
      "Elapsed time: 00:04:10\n"
     ]
    }
   ],
   "source": [
    "# Agent satisfaction utility function\n",
    "utility_function_parameters = abm_scheduling.Utility_Function_Parameters()\n",
    "utility_function_parameters.utility_function = 'agent_satisfaction'\n",
    "results = model.run(schedule_org=schedule, nurses_org=nurses, beta=0.8, \n",
    "                         p_to_accept_negative_change=.001, utility_function_parameters = utility_function_parameters)\n",
    "end_time = datetime.today()\n",
    "log.print_elapsed_time(start_time,end_time)"
   ]
  },
  {
   "cell_type": "code",
   "execution_count": 12,
   "metadata": {},
   "outputs": [
    {
     "name": "stdout",
     "output_type": "stream",
     "text": [
      "Nurse productivity -  \n",
      "Nr:    0, \tassigned:5,\tmin:6,\tmax: 6,\tdeg.availab:0.70,\tprod: 0.83,\tsatisf: 533.67,\tunderbooked\n",
      "Nr:    1, \tassigned:5,\tmin:6,\tmax: 6,\tdeg.availab:0.70,\tprod: 0.83,\tsatisf: 533.67,\tunderbooked\n",
      "Nr:    2, \tassigned:5,\tmin:6,\tmax: 6,\tdeg.availab:0.70,\tprod: 0.83,\tsatisf: 533.67,\tunderbooked\n",
      "Nr:    3, \tassigned:5,\tmin:6,\tmax: 6,\tdeg.availab:0.70,\tprod: 0.83,\tsatisf: 533.67,\tunderbooked\n",
      "Nr:    4, \tassigned:6,\tmin:6,\tmax: 6,\tdeg.availab:0.70,\tprod: 1.00,\tsatisf: 768.60,\tok\n",
      "Nr:    5, \tassigned:6,\tmin:6,\tmax: 6,\tdeg.availab:0.70,\tprod: 1.00,\tsatisf: 768.60,\tok\n",
      "Nr:    6, \tassigned:5,\tmin:6,\tmax: 6,\tdeg.availab:0.70,\tprod: 0.83,\tsatisf: 533.67,\tunderbooked\n",
      "Nr:    7, \tassigned:4,\tmin:6,\tmax: 6,\tdeg.availab:0.70,\tprod: 0.67,\tsatisf: 281.67,\tunderbooked\n",
      "Nr:    8, \tassigned:6,\tmin:6,\tmax: 6,\tdeg.availab:0.70,\tprod: 1.00,\tsatisf: 768.60,\tok\n",
      "Nr:    9, \tassigned:6,\tmin:6,\tmax: 6,\tdeg.availab:0.70,\tprod: 1.00,\tsatisf: 768.60,\tok\n",
      "Nr:   10, \tassigned:2,\tmin:6,\tmax: 6,\tdeg.availab:0.70,\tprod: 0.33,\tsatisf: -291.67,\tunderbooked\n",
      "Nr:   11, \tassigned:3,\tmin:6,\tmax: 6,\tdeg.availab:0.70,\tprod: 0.50,\tsatisf: 8.33,\tunderbooked\n",
      "Nr:   12, \tassigned:3,\tmin:6,\tmax: 6,\tdeg.availab:0.70,\tprod: 0.50,\tsatisf: 8.33,\tunderbooked\n",
      "Nr:   13, \tassigned:5,\tmin:6,\tmax: 6,\tdeg.availab:0.70,\tprod: 0.83,\tsatisf: 533.67,\tunderbooked\n",
      "Nr:   14, \tassigned:3,\tmin:6,\tmax: 6,\tdeg.availab:0.70,\tprod: 0.50,\tsatisf: 8.33,\tunderbooked\n",
      "Nr:   15, \tassigned:3,\tmin:6,\tmax: 6,\tdeg.availab:0.70,\tprod: 0.50,\tsatisf: 8.33,\tunderbooked\n",
      "Nr:   16, \tassigned:3,\tmin:6,\tmax: 6,\tdeg.availab:0.70,\tprod: 0.50,\tsatisf: 8.33,\tunderbooked\n",
      "Nr:   17, \tassigned:3,\tmin:6,\tmax: 6,\tdeg.availab:0.70,\tprod: 0.50,\tsatisf: 8.33,\tunderbooked\n",
      "Nr:   18, \tassigned:2,\tmin:6,\tmax: 6,\tdeg.availab:0.70,\tprod: 0.33,\tsatisf: -291.67,\tunderbooked\n",
      "Nr:   19, \tassigned:3,\tmin:6,\tmax: 6,\tdeg.availab:0.70,\tprod: 0.50,\tsatisf: 8.33,\tunderbooked\n",
      "Nr:   20, \tassigned:4,\tmin:6,\tmax: 6,\tdeg.availab:0.70,\tprod: 0.67,\tsatisf: 281.67,\tunderbooked\n",
      "Nr:   21, \tassigned:3,\tmin:6,\tmax: 6,\tdeg.availab:0.70,\tprod: 0.50,\tsatisf: 8.33,\tunderbooked\n",
      "Nr:   22, \tassigned:4,\tmin:6,\tmax: 6,\tdeg.availab:0.70,\tprod: 0.67,\tsatisf: 281.67,\tunderbooked\n",
      "Nr:   23, \tassigned:4,\tmin:6,\tmax: 6,\tdeg.availab:0.70,\tprod: 0.67,\tsatisf: 281.67,\tunderbooked\n",
      "Nr:   24, \tassigned:3,\tmin:6,\tmax: 6,\tdeg.availab:0.70,\tprod: 0.50,\tsatisf: 8.33,\tunderbooked\n"
     ]
    }
   ],
   "source": [
    "model.print_nurse_productivity(results.nurses)"
   ]
  },
  {
   "cell_type": "code",
   "execution_count": null,
   "metadata": {},
   "outputs": [],
   "source": []
  },
  {
   "cell_type": "code",
   "execution_count": null,
   "metadata": {},
   "outputs": [],
   "source": []
  },
  {
   "cell_type": "code",
   "execution_count": null,
   "metadata": {},
   "outputs": [],
   "source": []
  },
  {
   "cell_type": "markdown",
   "metadata": {},
   "source": [
    "## Targeted search. Define situation"
   ]
  },
  {
   "cell_type": "code",
   "execution_count": null,
   "metadata": {},
   "outputs": [],
   "source": [
    "#%% Initializations\n",
    "p_to_accept_negative_change = .001\n",
    "\n",
    "# Situation definition\n",
    "matrix_nurses_needed = [5,6,3, 5,6,3, 5,6,3, 5,6,3, 5,6,5, 6,6,5, 6,6,3]\n",
    "#type 1 only first shift work week days\n",
    "matrix_nurse_availability_type1 = ['x','','', 'x','','',  'x','','', 'x','','', 'x','','', 'x','','', '','','x']\n",
    "#type 2 1s+2s work week days\n",
    "matrix_nurse_availability_type2 = ['x','x','', 'x','x','',  'x','x','', 'x','x','', 'x','x','', '','','', '','','']\n",
    "#type 3 1s+2s+3s work week days\n",
    "matrix_nurse_availability_type3 = ['x','x','x', 'x','x','x',  'x','x','x', 'x','x','x', 'x','x','', 'x','x','', 'x','x','']\n",
    "#type 4 \"springers\"\n",
    "matrix_nurse_availability_type4 = ['x','x','x', 'x','x','x',  'x','x','x', 'x','x','x', 'x','x','x', 'x','x','x', 'x','x','x']\n",
    "maximum_shifts_type4=3\n",
    "#type 5 work only weekends\n",
    "matrix_nurse_availability_type5 = ['','','', '','','', '','','', '','','', '','','x', 'x','x','x', 'x','x','x']\n",
    "\n",
    "\n",
    "# Create Schedule\n",
    "#schedule_random = Schedule(matrix_nurses_needed=matrix_nurses_needed, is_random=False)\n",
    "schedule = Schedule(matrix_nurses_needed=matrix_nurses_needed)\n",
    "\n",
    "# Create model and nurses\n",
    "model = abm_scheduling.NSP_AB_Model()\n",
    "#nurses = model.generate_nurses(10, 0.5, True)\n",
    "list_nurse_schedules = []\n",
    "list_nurse_schedules.append(matrix_nurse_availability_type1)\n",
    "list_nurse_schedules.append(matrix_nurse_availability_type1)\n",
    "list_nurse_schedules.append(matrix_nurse_availability_type1)\n",
    "list_nurse_schedules.append(matrix_nurse_availability_type1)\n",
    "list_nurse_schedules.append(matrix_nurse_availability_type2)\n",
    "list_nurse_schedules.append(matrix_nurse_availability_type2)\n",
    "list_nurse_schedules.append(matrix_nurse_availability_type2)\n",
    "list_nurse_schedules.append(matrix_nurse_availability_type2)\n",
    "list_nurse_schedules.append(matrix_nurse_availability_type3)\n",
    "list_nurse_schedules.append(matrix_nurse_availability_type3)\n",
    "list_nurse_schedules.append(matrix_nurse_availability_type4)\n",
    "list_nurse_schedules.append(matrix_nurse_availability_type4)\n",
    "list_nurse_schedules.append(matrix_nurse_availability_type5)\n",
    "list_nurse_schedules.append(matrix_nurse_availability_type5)\n",
    "list_nurse_schedules.append(matrix_nurse_availability_type5)\n",
    "\n",
    "nurses = model.generate_nurses_from_nurse_schedules(list_nurse_schedules)\n",
    "schedule.print_schedule(schedule_name=\"Intial Situation\")"
   ]
  },
  {
   "cell_type": "code",
   "execution_count": null,
   "metadata": {},
   "outputs": [],
   "source": [
    "nurses[10].minimum_shifts = 2\n",
    "nurses[10].maximum_shifts = 4\n",
    "nurses[10].print_shift_preferences()\n",
    "nurses[11].minimum_shifts = 2\n",
    "nurses[11].maximum_shifts = 4\n",
    "nurses[11].print_shift_preferences()"
   ]
  },
  {
   "cell_type": "code",
   "execution_count": null,
   "metadata": {},
   "outputs": [],
   "source": [
    "model.get_total_agent_satisfaction(nurses)"
   ]
  },
  {
   "cell_type": "code",
   "execution_count": null,
   "metadata": {},
   "outputs": [],
   "source": [
    "model.print_nurse_productivity(nurses)"
   ]
  },
  {
   "cell_type": "code",
   "execution_count": null,
   "metadata": {},
   "outputs": [],
   "source": [
    "model.show_hypothetical_max_schedule(schedule=schedule, nurses=nurses)"
   ]
  },
  {
   "cell_type": "code",
   "execution_count": null,
   "metadata": {},
   "outputs": [],
   "source": [
    "# Default utility function (no agent satisfaction)\n",
    "start_time = datetime.today()\n",
    "results = model.run(schedule_org=schedule, nurses_org=nurses, beta=0.9, \n",
    "                         p_to_accept_negative_change=.001, utility_function_parameters = None)\n",
    "end_time = datetime.today()\n",
    "log.print_elapsed_time(start_time,end_time)"
   ]
  },
  {
   "cell_type": "code",
   "execution_count": null,
   "metadata": {},
   "outputs": [],
   "source": [
    "model.print_nurse_productivity(results.nurses)"
   ]
  },
  {
   "cell_type": "code",
   "execution_count": null,
   "metadata": {},
   "outputs": [],
   "source": [
    "# Agent satisfaction utility function\n",
    "utility_function_parameters = abm_scheduling.Utility_Function_Parameters()\n",
    "utility_function_parameters.utility_function = 'agent_satisfaction'\n",
    "results = model.run(schedule_org=schedule, nurses_org=nurses, beta=0.9, \n",
    "                         p_to_accept_negative_change=.001, utility_function_parameters = utility_function_parameters)\n",
    "end_time = datetime.today()\n",
    "log.print_elapsed_time(start_time,end_time)"
   ]
  },
  {
   "cell_type": "code",
   "execution_count": null,
   "metadata": {},
   "outputs": [],
   "source": [
    "model.print_nurse_productivity(results.nurses)"
   ]
  },
  {
   "cell_type": "code",
   "execution_count": null,
   "metadata": {},
   "outputs": [],
   "source": []
  }
 ],
 "metadata": {
  "kernelspec": {
   "display_name": "Python 3",
   "language": "python",
   "name": "python3"
  },
  "language_info": {
   "codemirror_mode": {
    "name": "ipython",
    "version": 3
   },
   "file_extension": ".py",
   "mimetype": "text/x-python",
   "name": "python",
   "nbconvert_exporter": "python",
   "pygments_lexer": "ipython3",
   "version": "3.6.8"
  }
 },
 "nbformat": 4,
 "nbformat_minor": 2
}
