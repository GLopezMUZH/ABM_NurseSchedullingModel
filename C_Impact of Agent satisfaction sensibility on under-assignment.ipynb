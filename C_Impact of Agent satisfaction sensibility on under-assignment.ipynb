{
 "cells": [
  {
   "cell_type": "markdown",
   "metadata": {},
   "source": [
    "# Case. Impact of Agent satisfaction sensibility on under-assignment"
   ]
  },
  {
   "cell_type": "markdown",
   "metadata": {},
   "source": [
    "Situation:\n",
    "\n",
    "    70% more agent availability on week days as weekends\n",
    "    Shift requirements higher on Friday 3rd Shift (3S), Saturday 1S and 3S, Sunday 3S\n",
    "    Beta = 0.8\n",
    "\n",
    "Task:\n",
    "\n",
    "    Evaluate Shift Coverage over Agent satisfaction penalty for under-assignment\n",
    "    Evaluate Agent Satisfaction over Agent satisfaction penalty for under-assignment using default function and shift stability function"
   ]
  },
  {
   "cell_type": "code",
   "execution_count": 1,
   "metadata": {},
   "outputs": [],
   "source": [
    "import abm_scheduling\n",
    "from abm_scheduling import Schedule as Schedule\n",
    "from abm_scheduling import Nurse as Nurse"
   ]
  },
  {
   "cell_type": "code",
   "execution_count": 2,
   "metadata": {},
   "outputs": [],
   "source": [
    "import time\n",
    "from datetime import datetime\n",
    "\n",
    "import abm_scheduling.Log\n",
    "from abm_scheduling.Log import Log as Log\n",
    "\n",
    "log = Log()"
   ]
  },
  {
   "cell_type": "markdown",
   "metadata": {},
   "source": [
    "## Define situation"
   ]
  },
  {
   "cell_type": "code",
   "execution_count": 3,
   "metadata": {},
   "outputs": [
    {
     "name": "stdout",
     "output_type": "stream",
     "text": [
      "Week's Schedule Intial Situation\n",
      "+---------+----------+----------+----------+----------+----------+----------+----------+\n",
      "|         | Mo       | Tu       | We       | Th       | Fr       | Sa       | So       |\n",
      "+---------+----------+----------+----------+----------+----------+----------+----------+\n",
      "| shift 1 | need: 5  | need: 5  | need: 5  | need: 5  | need: 5  | need: 6  | need: 6  |\n",
      "|         | nurses:  | nurses:  | nurses:  | nurses:  | nurses:  | nurses:  | nurses:  |\n",
      "| shift 2 | need: 6  | need: 6  | need: 6  | need: 6  | need: 6  | need: 6  | need: 6  |\n",
      "|         | nurses:  | nurses:  | nurses:  | nurses:  | nurses:  | nurses:  | nurses:  |\n",
      "| shift 3 | need: 3  | need: 3  | need: 3  | need: 3  | need: 5  | need: 5  | need: 3  |\n",
      "|         | nurses:  | nurses:  | nurses:  | nurses:  | nurses:  | nurses:  | nurses:  |\n",
      "+---------+----------+----------+----------+----------+----------+----------+----------+\n"
     ]
    }
   ],
   "source": [
    "#%% Initializations\n",
    "p_to_accept_negative_change = .001\n",
    "\n",
    "# Situation definition\n",
    "matrix_nurses_needed = [5,6,3, 5,6,3, 5,6,3, 5,6,3, 5,6,5, 6,6,5, 6,6,3]\n",
    "#type 1 only first shift work week days\n",
    "matrix_nurse_availability_type1 = ['x','','', 'x','','',  'x','','', 'x','','', 'x','','', 'x','','', '','','x']\n",
    "#type 2 1s+2s work week days\n",
    "matrix_nurse_availability_type2 = ['x','x','', 'x','x','',  'x','x','', 'x','x','', 'x','x','', '','','', '','','']\n",
    "#type 3 1s+2s+3s work week days\n",
    "matrix_nurse_availability_type3 = ['x','x','x', 'x','x','x',  'x','x','x', 'x','x','x', 'x','x','', 'x','x','', 'x','x','']\n",
    "#type 4 \"springers\"\n",
    "matrix_nurse_availability_type4 = ['x','x','x', 'x','x','x',  'x','x','x', 'x','x','x', 'x','x','x', 'x','x','x', 'x','x','x']\n",
    "maximum_shifts_type4=3\n",
    "#type 5 work only weekends\n",
    "matrix_nurse_availability_type5 = ['','','', '','','', '','','', '','','', '','','x', 'x','x','x', 'x','x','x']\n",
    "\n",
    "\n",
    "# Create Schedule\n",
    "#schedule_random = Schedule(matrix_nurses_needed=matrix_nurses_needed, is_random=False)\n",
    "schedule = Schedule(matrix_nurses_needed=matrix_nurses_needed)\n",
    "\n",
    "# Create model and nurses\n",
    "model = abm_scheduling.NSP_AB_Model()\n",
    "#nurses = model.generate_nurses(10, 0.5, True)\n",
    "list_nurse_schedules = []\n",
    "list_nurse_schedules.append(matrix_nurse_availability_type1)\n",
    "list_nurse_schedules.append(matrix_nurse_availability_type1)\n",
    "list_nurse_schedules.append(matrix_nurse_availability_type1)\n",
    "list_nurse_schedules.append(matrix_nurse_availability_type1)\n",
    "list_nurse_schedules.append(matrix_nurse_availability_type2)\n",
    "list_nurse_schedules.append(matrix_nurse_availability_type2)\n",
    "list_nurse_schedules.append(matrix_nurse_availability_type2)\n",
    "list_nurse_schedules.append(matrix_nurse_availability_type2)\n",
    "list_nurse_schedules.append(matrix_nurse_availability_type3)\n",
    "list_nurse_schedules.append(matrix_nurse_availability_type3)\n",
    "list_nurse_schedules.append(matrix_nurse_availability_type4)\n",
    "list_nurse_schedules.append(matrix_nurse_availability_type4)\n",
    "list_nurse_schedules.append(matrix_nurse_availability_type5)\n",
    "list_nurse_schedules.append(matrix_nurse_availability_type5)\n",
    "list_nurse_schedules.append(matrix_nurse_availability_type5)\n",
    "\n",
    "nurses = model.generate_nurses_from_nurse_schedules(list_nurse_schedules)\n",
    "schedule.print_schedule(schedule_name=\"Intial Situation\")"
   ]
  },
  {
   "cell_type": "code",
   "execution_count": 4,
   "metadata": {},
   "outputs": [
    {
     "name": "stdout",
     "output_type": "stream",
     "text": [
      "Nurse 10's Preferences. Availability: (1)Min/Max: 2/4\n",
      "+---------+----+----+----+----+----+----+----+\n",
      "|         | Mo | Tu | We | Th | Fr | Sa | So |\n",
      "+---------+----+----+----+----+----+----+----+\n",
      "| shift 1 | x  | x  | x  | x  | x  | x  | x  |\n",
      "| shift 2 | x  | x  | x  | x  | x  | x  | x  |\n",
      "| shift 3 | x  | x  | x  | x  | x  | x  | x  |\n",
      "+---------+----+----+----+----+----+----+----+\n",
      "Nurse 11's Preferences. Availability: (1)Min/Max: 2/4\n",
      "+---------+----+----+----+----+----+----+----+\n",
      "|         | Mo | Tu | We | Th | Fr | Sa | So |\n",
      "+---------+----+----+----+----+----+----+----+\n",
      "| shift 1 | x  | x  | x  | x  | x  | x  | x  |\n",
      "| shift 2 | x  | x  | x  | x  | x  | x  | x  |\n",
      "| shift 3 | x  | x  | x  | x  | x  | x  | x  |\n",
      "+---------+----+----+----+----+----+----+----+\n"
     ]
    }
   ],
   "source": [
    "nurses[10].minimum_shifts = 2\n",
    "nurses[10].maximum_shifts = 4\n",
    "nurses[10].print_shift_preferences()\n",
    "nurses[11].minimum_shifts = 2\n",
    "nurses[11].maximum_shifts = 4\n",
    "nurses[11].print_shift_preferences()"
   ]
  },
  {
   "cell_type": "code",
   "execution_count": 5,
   "metadata": {},
   "outputs": [
    {
     "data": {
      "text/plain": [
       "-15000.0"
      ]
     },
     "execution_count": 5,
     "metadata": {},
     "output_type": "execute_result"
    }
   ],
   "source": [
    "model.get_total_agent_satisfaction(nurses)"
   ]
  },
  {
   "cell_type": "code",
   "execution_count": 6,
   "metadata": {},
   "outputs": [
    {
     "name": "stdout",
     "output_type": "stream",
     "text": [
      "Nurse productivity -  \n",
      "Nr: 0, \tassigned:0,\tmin:6,\tmax: 6,\tdeg.availab:0.33,\tprod: 0.00,\tsatisf: -1000.00\n",
      "Nr: 1, \tassigned:0,\tmin:6,\tmax: 6,\tdeg.availab:0.33,\tprod: 0.00,\tsatisf: -1000.00\n",
      "Nr: 2, \tassigned:0,\tmin:6,\tmax: 6,\tdeg.availab:0.33,\tprod: 0.00,\tsatisf: -1000.00\n",
      "Nr: 3, \tassigned:0,\tmin:6,\tmax: 6,\tdeg.availab:0.33,\tprod: 0.00,\tsatisf: -1000.00\n",
      "Nr: 4, \tassigned:0,\tmin:6,\tmax: 6,\tdeg.availab:0.48,\tprod: 0.00,\tsatisf: -1000.00\n",
      "Nr: 5, \tassigned:0,\tmin:6,\tmax: 6,\tdeg.availab:0.48,\tprod: 0.00,\tsatisf: -1000.00\n",
      "Nr: 6, \tassigned:0,\tmin:6,\tmax: 6,\tdeg.availab:0.48,\tprod: 0.00,\tsatisf: -1000.00\n",
      "Nr: 7, \tassigned:0,\tmin:6,\tmax: 6,\tdeg.availab:0.48,\tprod: 0.00,\tsatisf: -1000.00\n",
      "Nr: 8, \tassigned:0,\tmin:6,\tmax: 6,\tdeg.availab:0.86,\tprod: 0.00,\tsatisf: -1000.00\n",
      "Nr: 9, \tassigned:0,\tmin:6,\tmax: 6,\tdeg.availab:0.86,\tprod: 0.00,\tsatisf: -1000.00\n",
      "Nr: 10, \tassigned:0,\tmin:2,\tmax: 4,\tdeg.availab:1.00,\tprod: 0.00,\tsatisf: -1000.00\n",
      "Nr: 11, \tassigned:0,\tmin:2,\tmax: 4,\tdeg.availab:1.00,\tprod: 0.00,\tsatisf: -1000.00\n",
      "Nr: 12, \tassigned:0,\tmin:6,\tmax: 6,\tdeg.availab:0.33,\tprod: 0.00,\tsatisf: -1000.00\n",
      "Nr: 13, \tassigned:0,\tmin:6,\tmax: 6,\tdeg.availab:0.33,\tprod: 0.00,\tsatisf: -1000.00\n",
      "Nr: 14, \tassigned:0,\tmin:6,\tmax: 6,\tdeg.availab:0.33,\tprod: 0.00,\tsatisf: -1000.00\n"
     ]
    }
   ],
   "source": [
    "model.print_nurse_productivity(nurses)"
   ]
  },
  {
   "cell_type": "code",
   "execution_count": 7,
   "metadata": {},
   "outputs": [
    {
     "name": "stdout",
     "output_type": "stream",
     "text": [
      "Week's Schedule Hypothetical Maximum\n",
      "+---------+-----------+-----------+-----------+-----------+--------------+--------------+--------------+\n",
      "|         | Mo        | Tu        | We        | Th        | Fr           | Sa           | So           |\n",
      "+---------+-----------+-----------+-----------+-----------+--------------+--------------+--------------+\n",
      "| shift 1 | need: 5   | need: 5   | need: 5   | need: 5   | need: 5      | need: 6      | need: 6      |\n",
      "|         | nurses:   | nurses:   | nurses:   | nurses:   | nurses:      | nurses:      | nurses:      |\n",
      "|         | 0,1,2,3,  | 0,1,2,3,  | 0,1,2,3,  | 0,1,2,3,  | 0,1,2,3,     | 0,1,2,3,     | 8,9,10,11,   |\n",
      "|         | 4,5,6,7,  | 4,5,6,7,  | 4,5,6,7,  | 4,5,6,7,  | 4,5,6,7,     | 8,9,10,11,   | 12,13,14     |\n",
      "|         | 8,9,10,11 | 8,9,10,11 | 8,9,10,11 | 8,9,10,11 | 8,9,10,11    | 12,13,14     |              |\n",
      "| shift 2 | need: 6   | need: 6   | need: 6   | need: 6   | need: 6      | need: 6      | need: 6      |\n",
      "|         | nurses:   | nurses:   | nurses:   | nurses:   | nurses:      | nurses:      | nurses:      |\n",
      "|         | 4,5,6,7,  | 4,5,6,7,  | 4,5,6,7,  | 4,5,6,7,  | 4,5,6,7,     | 8,9,10,11,   | 8,9,10,11,   |\n",
      "|         | 8,9,10,11 | 8,9,10,11 | 8,9,10,11 | 8,9,10,11 | 8,9,10,11    | 12,13,14     | 12,13,14     |\n",
      "| shift 3 | need: 3   | need: 3   | need: 3   | need: 3   | need: 5      | need: 5      | need: 3      |\n",
      "|         | nurses:   | nurses:   | nurses:   | nurses:   | nurses:      | nurses:      | nurses:      |\n",
      "|         | 8,9,10,11 | 8,9,10,11 | 8,9,10,11 | 8,9,10,11 | 10,11,12,13, | 10,11,12,13, | 0,1,2,3,     |\n",
      "|         |           |           |           |           | 14           | 14           | 10,11,12,13, |\n",
      "|         |           |           |           |           |              |              | 14           |\n",
      "+---------+-----------+-----------+-----------+-----------+--------------+--------------+--------------+\n",
      "Crude hypothetical shift coverage: 1.0\n",
      "Shift Coverage Hypothetical Maximum\n",
      "+---------+------------+------------+------------+------------+------------+------------+-----------+\n",
      "|         | Mo         | Tu         | We         | Th         | Fr         | Sa         | So        |\n",
      "+---------+------------+------------+------------+------------+------------+------------+-----------+\n",
      "| shift 1 | need: 5    | need: 5    | need: 5    | need: 5    | need: 5    | need: 6    | need: 6   |\n",
      "|         | nurses: 12 | nurses: 12 | nurses: 12 | nurses: 12 | nurses: 12 | nurses: 11 | nurses: 7 |\n",
      "|         | (2.4)      | (2.4)      | (2.4)      | (2.4)      | (2.4)      | (1.83)     | (1.17)    |\n",
      "| shift 2 | need: 6    | need: 6    | need: 6    | need: 6    | need: 6    | need: 6    | need: 6   |\n",
      "|         | nurses: 8  | nurses: 8  | nurses: 8  | nurses: 8  | nurses: 8  | nurses: 7  | nurses: 7 |\n",
      "|         | (1.33)     | (1.33)     | (1.33)     | (1.33)     | (1.33)     | (1.17)     | (1.17)    |\n",
      "| shift 3 | need: 3    | need: 3    | need: 3    | need: 3    | need: 5    | need: 5    | need: 3   |\n",
      "|         | nurses: 4  | nurses: 4  | nurses: 4  | nurses: 4  | nurses: 5  | nurses: 5  | nurses: 9 |\n",
      "|         | (1.33)     | (1.33)     | (1.33)     | (1.33)     | (1)        | (1)        | (3)       |\n",
      "+---------+------------+------------+------------+------------+------------+------------+-----------+\n"
     ]
    }
   ],
   "source": [
    "model.show_hypothetical_max_schedule(schedule=schedule, nurses=nurses)"
   ]
  },
  {
   "cell_type": "code",
   "execution_count": 8,
   "metadata": {},
   "outputs": [
    {
     "name": "stdout",
     "output_type": "stream",
     "text": [
      "Week's Schedule Best Schedule. Beta: (0.9),p: (0.001)\n",
      "+---------+------------+-----------+----------+----------+-------------+------------+----------+\n",
      "|         | Mo         | Tu        | We       | Th       | Fr          | Sa         | So       |\n",
      "+---------+------------+-----------+----------+----------+-------------+------------+----------+\n",
      "| shift 1 | need: 5    | need: 5   | need: 5  | need: 5  | need: 5     | need: 6    | need: 6  |\n",
      "|         | nurses:    | nurses:   | nurses:  | nurses:  | nurses:     | nurses:    | nurses:  |\n",
      "|         | 0,11,10,6, | 7,11,9,2, | 9,4,0,3, | 3,6,2,4, | 1,3,2,0,    | 2,1,0,14,  | 9        |\n",
      "|         | 2          | 10        | 7        | 1        | 7           | 3          |          |\n",
      "| shift 2 | need: 6    | need: 6   | need: 6  | need: 6  | need: 6     | need: 6    | need: 6  |\n",
      "|         | nurses:    | nurses:   | nurses:  | nurses:  | nurses:     | nurses:    | nurses:  |\n",
      "|         | 4,7,8,5    | 6,5,4     | 8,5,6    | 5,7      | 10,6,4,8,   | 12,8,13,9, | 13,10,12 |\n",
      "|         |            |           |          |          | 5           | 11         |          |\n",
      "| shift 3 | need: 3    | need: 3   | need: 3  | need: 3  | need: 5     | need: 5    | need: 3  |\n",
      "|         | nurses:    | nurses:   | nurses:  | nurses:  | nurses:     | nurses:    | nurses:  |\n",
      "|         | 9          | 8         | 10,11    | 8,10,9   | 12,13,14,11 |            | 1,11,14  |\n",
      "+---------+------------+-----------+----------+----------+-------------+------------+----------+\n",
      "Solution shift coverage: 0.6730769230769231\n",
      "Solution utility:  630.0\n",
      "Agent satisfaction:  5326.733333333334\n",
      "Start:  2019-06-16 17:47:26.036488\n",
      "End:  2019-06-16 17:47:51.528086\n",
      "Elapsed time: 00:00:25\n"
     ]
    }
   ],
   "source": [
    "# Default utility function (no agent satisfaction)\n",
    "start_time = datetime.today()\n",
    "results = model.run(schedule_org=schedule, nurses_org=nurses, beta=0.9, \n",
    "                         p_to_accept_negative_change=.001, utility_function_parameters = None)\n",
    "end_time = datetime.today()\n",
    "log.print_elapsed_time(start_time,end_time)"
   ]
  },
  {
   "cell_type": "code",
   "execution_count": 9,
   "metadata": {},
   "outputs": [
    {
     "name": "stdout",
     "output_type": "stream",
     "text": [
      "Nurse productivity -  \n",
      "Nr: 0, \tassigned:5,\tmin:6,\tmax: 6,\tdeg.availab:0.33,\tprod: 0.83,\tsatisf: 533.67\n",
      "Nr: 1, \tassigned:6,\tmin:6,\tmax: 6,\tdeg.availab:0.33,\tprod: 1.00,\tsatisf: 768.60\n",
      "Nr: 2, \tassigned:6,\tmin:6,\tmax: 6,\tdeg.availab:0.33,\tprod: 1.00,\tsatisf: 768.60\n",
      "Nr: 3, \tassigned:5,\tmin:6,\tmax: 6,\tdeg.availab:0.33,\tprod: 0.83,\tsatisf: 533.67\n",
      "Nr: 4, \tassigned:5,\tmin:6,\tmax: 6,\tdeg.availab:0.48,\tprod: 0.83,\tsatisf: 533.67\n",
      "Nr: 5, \tassigned:5,\tmin:6,\tmax: 6,\tdeg.availab:0.48,\tprod: 0.83,\tsatisf: 533.67\n",
      "Nr: 6, \tassigned:5,\tmin:6,\tmax: 6,\tdeg.availab:0.48,\tprod: 0.83,\tsatisf: 533.67\n",
      "Nr: 7, \tassigned:5,\tmin:6,\tmax: 6,\tdeg.availab:0.48,\tprod: 0.83,\tsatisf: 533.67\n",
      "Nr: 8, \tassigned:6,\tmin:6,\tmax: 6,\tdeg.availab:0.86,\tprod: 1.00,\tsatisf: 768.60\n",
      "Nr: 9, \tassigned:6,\tmin:6,\tmax: 6,\tdeg.availab:0.86,\tprod: 1.00,\tsatisf: 768.60\n",
      "Nr: 10, \tassigned:8,\tmin:2,\tmax: 4,\tdeg.availab:1.00,\tprod: 4.00,\tsatisf: -1000.00\n",
      "Nr: 11, \tassigned:6,\tmin:2,\tmax: 4,\tdeg.availab:1.00,\tprod: 3.00,\tsatisf: -500.00\n",
      "Nr: 12, \tassigned:3,\tmin:6,\tmax: 6,\tdeg.availab:0.33,\tprod: 0.50,\tsatisf: 8.33\n",
      "Nr: 13, \tassigned:3,\tmin:6,\tmax: 6,\tdeg.availab:0.33,\tprod: 0.50,\tsatisf: 8.33\n",
      "Nr: 14, \tassigned:5,\tmin:6,\tmax: 6,\tdeg.availab:0.33,\tprod: 0.83,\tsatisf: 533.67\n"
     ]
    }
   ],
   "source": [
    "model.print_nurse_productivity(results.nurses)"
   ]
  },
  {
   "cell_type": "code",
   "execution_count": 10,
   "metadata": {},
   "outputs": [
    {
     "name": "stdout",
     "output_type": "stream",
     "text": [
      "Week's Schedule Best Schedule. Beta: (0.9),p: (0.001)\n",
      "+---------+-----------+----------+------------+-----------+------------+-----------+------------+\n",
      "|         | Mo        | Tu       | We         | Th        | Fr         | Sa        | So         |\n",
      "+---------+-----------+----------+------------+-----------+------------+-----------+------------+\n",
      "| shift 1 | need: 5   | need: 5  | need: 5    | need: 5   | need: 5    | need: 6   | need: 6    |\n",
      "|         | nurses:   | nurses:  | nurses:    | nurses:   | nurses:    | nurses:   | nurses:    |\n",
      "|         | 7,6,5,1,  | 9,3,0,7, | 2,0,3,6,   | 1,2,11,7, | 6,5,3,1,   | 2,3,13,0, | 13,9       |\n",
      "|         | 2         | 5        | 1          | 10        | 4          | 12,9      |            |\n",
      "| shift 2 | need: 6   | need: 6  | need: 6    | need: 6   | need: 6    | need: 6   | need: 6    |\n",
      "|         | nurses:   | nurses:  | nurses:    | nurses:   | nurses:    | nurses:   | nurses:    |\n",
      "|         | 10,11,9,4 | 10,4,8,6 | 7,8,10,11, | 4,8,5,6   | 9,7,11,10, | 11,8      | 11,14,8,12 |\n",
      "|         |           |          | 5,4        |           | 8          |           |            |\n",
      "| shift 3 | need: 3   | need: 3  | need: 3    | need: 3   | need: 5    | need: 5   | need: 3    |\n",
      "|         | nurses:   | nurses:  | nurses:    | nurses:   | nurses:    | nurses:   | nurses:    |\n",
      "|         |           |          |            | 9         | 12,13,14   | 14,10     | 0,1,2      |\n",
      "+---------+-----------+----------+------------+-----------+------------+-----------+------------+\n",
      "Solution shift coverage: 0.6826923076923077\n",
      "Solution utility:  815.0640000000001\n",
      "Agent satisfaction:  2934.399999999999\n",
      "Start:  2019-06-16 17:47:26.036488\n",
      "End:  2019-06-16 17:49:01.614315\n",
      "Elapsed time: 00:01:35\n"
     ]
    }
   ],
   "source": [
    "# Agent satisfaction utility function\n",
    "utility_function_parameters = abm_scheduling.Utility_Function_Parameters()\n",
    "utility_function_parameters.utility_function = 'agent_satisfaction'\n",
    "results = model.run(schedule_org=schedule, nurses_org=nurses, beta=0.9, \n",
    "                         p_to_accept_negative_change=.001, utility_function_parameters = utility_function_parameters)\n",
    "end_time = datetime.today()\n",
    "log.print_elapsed_time(start_time,end_time)"
   ]
  },
  {
   "cell_type": "code",
   "execution_count": 11,
   "metadata": {},
   "outputs": [
    {
     "name": "stdout",
     "output_type": "stream",
     "text": [
      "Nurse productivity -  \n",
      "Nr: 0, \tassigned:5,\tmin:6,\tmax: 6,\tdeg.availab:0.33,\tprod: 0.83,\tsatisf: 533.67\n",
      "Nr: 1, \tassigned:6,\tmin:6,\tmax: 6,\tdeg.availab:0.33,\tprod: 1.00,\tsatisf: 768.60\n",
      "Nr: 2, \tassigned:6,\tmin:6,\tmax: 6,\tdeg.availab:0.33,\tprod: 1.00,\tsatisf: 768.60\n",
      "Nr: 3, \tassigned:6,\tmin:6,\tmax: 6,\tdeg.availab:0.33,\tprod: 1.00,\tsatisf: 768.60\n",
      "Nr: 4, \tassigned:5,\tmin:6,\tmax: 6,\tdeg.availab:0.48,\tprod: 0.83,\tsatisf: 533.67\n",
      "Nr: 5, \tassigned:5,\tmin:6,\tmax: 6,\tdeg.availab:0.48,\tprod: 0.83,\tsatisf: 533.67\n",
      "Nr: 6, \tassigned:5,\tmin:6,\tmax: 6,\tdeg.availab:0.48,\tprod: 0.83,\tsatisf: 533.67\n",
      "Nr: 7, \tassigned:5,\tmin:6,\tmax: 6,\tdeg.availab:0.48,\tprod: 0.83,\tsatisf: 533.67\n",
      "Nr: 8, \tassigned:6,\tmin:6,\tmax: 6,\tdeg.availab:0.86,\tprod: 1.00,\tsatisf: 768.60\n",
      "Nr: 9, \tassigned:8,\tmin:6,\tmax: 6,\tdeg.availab:0.86,\tprod: 1.33,\tsatisf: -333.33\n",
      "Nr: 10, \tassigned:8,\tmin:2,\tmax: 4,\tdeg.availab:1.00,\tprod: 4.00,\tsatisf: -1000.00\n",
      "Nr: 11, \tassigned:10,\tmin:2,\tmax: 4,\tdeg.availab:1.00,\tprod: 5.00,\tsatisf: -1500.00\n",
      "Nr: 12, \tassigned:3,\tmin:6,\tmax: 6,\tdeg.availab:0.33,\tprod: 0.50,\tsatisf: 8.33\n",
      "Nr: 13, \tassigned:3,\tmin:6,\tmax: 6,\tdeg.availab:0.33,\tprod: 0.50,\tsatisf: 8.33\n",
      "Nr: 14, \tassigned:3,\tmin:6,\tmax: 6,\tdeg.availab:0.33,\tprod: 0.50,\tsatisf: 8.33\n"
     ]
    }
   ],
   "source": [
    "model.print_nurse_productivity(results.nurses)"
   ]
  },
  {
   "cell_type": "code",
   "execution_count": null,
   "metadata": {},
   "outputs": [],
   "source": []
  }
 ],
 "metadata": {
  "kernelspec": {
   "display_name": "Python 3",
   "language": "python",
   "name": "python3"
  },
  "language_info": {
   "codemirror_mode": {
    "name": "ipython",
    "version": 3
   },
   "file_extension": ".py",
   "mimetype": "text/x-python",
   "name": "python",
   "nbconvert_exporter": "python",
   "pygments_lexer": "ipython3",
   "version": "3.6.8"
  }
 },
 "nbformat": 4,
 "nbformat_minor": 2
}
